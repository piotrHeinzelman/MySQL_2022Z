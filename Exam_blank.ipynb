{
    "metadata": {
        "kernelspec": {
            "name": "SQL",
            "display_name": "SQL",
            "language": "sql"
        },
        "language_info": {
            "name": "sql",
            "version": ""
        },
        "extensions": {
            "azuredatastudio": {
                "version": 1,
                "views": []
            }
        }
    },
    "nbformat_minor": 2,
    "nbformat": 4,
    "cells": [
        {
            "cell_type": "code",
            "source": [
                "\r\n",
                "\r\n",
                "-- create database\r\n",
                "IF EXISTS ( SELECT * FROM SYS.databases WHERE [name]= 'przychodnia' ) \r\n",
                "    BEGIN\r\n",
                "     DROP DATABASE przychodnia;\r\n",
                "     PRINT  ' DROP DATABASE ';\r\n",
                "    END\r\n",
                "\r\n",
                "BEGIN\r\n",
                "CREATE DATABASE przychodnia\r\n",
                " ON PRIMARY (\r\n",
                "        name=okno,\r\n",
                "        filename='/var/opt/mssql/data/okno.mdf',\r\n",
                "        size=20MB,\r\n",
                "        maxsize=50MB,\r\n",
                "        filegrowth=10MB\r\n",
                "    )\r\n",
                "    LOG ON (\r\n",
                "        name=okno_log,\r\n",
                "        filename='/var/opt/mssql/data/okno.ldf',\r\n",
                "        size=20MB,\r\n",
                "        maxsize=50MB,\r\n",
                "        filegrowth=10MB\r\n",
                "    );\r\n",
                " PRINT  ' CREATE DATABASE ';   \r\n",
                " END   "
            ],
            "metadata": {
                "azdata_cell_guid": "3514279a-a987-4bee-ba0f-c1b9a12e896f"
            },
            "outputs": [
                {
                    "output_type": "display_data",
                    "data": {
                        "text/html": " DROP DATABASE "
                    },
                    "metadata": {}
                },
                {
                    "output_type": "display_data",
                    "data": {
                        "text/html": " CREATE DATABASE "
                    },
                    "metadata": {}
                },
                {
                    "output_type": "display_data",
                    "data": {
                        "text/html": "Total execution time: 00:00:00.663"
                    },
                    "metadata": {}
                }
            ],
            "execution_count": 261
        },
        {
            "cell_type": "code",
            "source": [
                "\r\n",
                "USE przychodnia\r\n",
                "\r\n",
                "-- slowniki\r\n",
                "DROP TABLE IF EXISTS [dbo].wlasciciel\r\n",
                "\r\n",
                "--dane\r\n",
                "DROP TABLE IF EXISTS [dbo].zwierzak\r\n",
                "\r\n",
                "\r\n",
                "\r\n",
                "\r\n",
                "\r\n",
                "CREATE TABLE dbo.wlasciciel (\r\n",
                "    ID       bigint       NOT NULL IDENTITY ,\r\n",
                "    imie     varchar(255) NOT NULL,\r\n",
                "    nazwisko varchar(255) NOT NULL,\r\n",
                "    adres    varchar(255) NOT NULL,\r\n",
                "    telefon  varchar(255) NOT NULL,\r\n",
                "    data_ur  DATE, -- insert -> '1/2/2003' \r\n",
                "    PRIMARY KEY(ID) \r\n",
                ");\r\n",
                "go\r\n",
                "\r\n",
                " \r\n",
                "\r\n",
                "CREATE TABLE dbo.zwierzak (\r\n",
                "    ID bigint NOT NULL   IDENTITY,\r\n",
                "    wlasciciel_ID BIGINT FOREIGN KEY REFERENCES wlasciciel ( ID ),  \r\n",
                "    imie     varchar(255) NOT NULL\r\n",
                "    PRIMARY KEY(ID)\r\n",
                ");\r\n",
                "go\r\n",
                "\r\n",
                " \r\n",
                "\r\n",
                "\r\n",
                "\r\n",
                "DECLARE @JOHN BIGINT;\r\n",
                "INSERT INTO [dbo].wlasciciel VALUES ( 'John' , 'Nash', 'ogrodowa 6', '1234567890' , '1/2/2003' ); SET @JOHN = SCOPE_IDENTITY();\r\n",
                "PRINT @JOHN;\r\n",
                " \r\n",
                "\r\n",
                "DECLARE @Garfield BIGINT;\r\n",
                "INSERT INTO [dbo].zwierzak VALUES ( @JOHN, 'Garfield' ); SET @Garfield = SCOPE_IDENTITY();\r\n",
                "\r\n",
                "DECLARE @Odi BIGINT;\r\n",
                "INSERT INTO [dbo].zwierzak VALUES ( @JOHN,  'Odi' ); SET @Odi = SCOPE_IDENTITY();\r\n",
                " \r\n",
                "\r\n",
                "SELECT * FROM zwierzak AS Z\r\n",
                "    FULL JOIN wlasciciel AS W \r\n",
                "    ON ( Z.wlasciciel_ID = W.ID );\r\n",
                "\r\n",
                " \r\n",
                "\r\n",
                ""
            ],
            "metadata": {
                "azdata_cell_guid": "b8e33ad5-70ac-4a30-8c04-fe8967f71d95"
            },
            "outputs": [
                {
                    "output_type": "display_data",
                    "data": {
                        "text/html": "Commands completed successfully."
                    },
                    "metadata": {}
                },
                {
                    "output_type": "display_data",
                    "data": {
                        "text/html": "Commands completed successfully."
                    },
                    "metadata": {}
                },
                {
                    "output_type": "display_data",
                    "data": {
                        "text/html": "(1 row affected)"
                    },
                    "metadata": {}
                },
                {
                    "output_type": "display_data",
                    "data": {
                        "text/html": "1"
                    },
                    "metadata": {}
                },
                {
                    "output_type": "display_data",
                    "data": {
                        "text/html": "(1 row affected)"
                    },
                    "metadata": {}
                },
                {
                    "output_type": "display_data",
                    "data": {
                        "text/html": "(1 row affected)"
                    },
                    "metadata": {}
                },
                {
                    "output_type": "display_data",
                    "data": {
                        "text/html": "(2 rows affected)"
                    },
                    "metadata": {}
                },
                {
                    "output_type": "display_data",
                    "data": {
                        "text/html": "Total execution time: 00:00:00.263"
                    },
                    "metadata": {}
                },
                {
                    "output_type": "execute_result",
                    "metadata": {},
                    "execution_count": 262,
                    "data": {
                        "application/vnd.dataresource+json": {
                            "schema": {
                                "fields": [
                                    {
                                        "name": "ID"
                                    },
                                    {
                                        "name": "wlasciciel_ID"
                                    },
                                    {
                                        "name": "imie"
                                    },
                                    {
                                        "name": "ID"
                                    },
                                    {
                                        "name": "imie"
                                    },
                                    {
                                        "name": "nazwisko"
                                    },
                                    {
                                        "name": "adres"
                                    },
                                    {
                                        "name": "telefon"
                                    },
                                    {
                                        "name": "data_ur"
                                    }
                                ]
                            },
                            "data": [
                                {
                                    "0": "1",
                                    "1": "1",
                                    "2": "Garfield",
                                    "3": "1",
                                    "4": "John",
                                    "5": "Nash",
                                    "6": "ogrodowa 6",
                                    "7": "1234567890",
                                    "8": "2003-01-02"
                                },
                                {
                                    "0": "2",
                                    "1": "1",
                                    "2": "Odi",
                                    "3": "1",
                                    "4": "John",
                                    "5": "Nash",
                                    "6": "ogrodowa 6",
                                    "7": "1234567890",
                                    "8": "2003-01-02"
                                }
                            ]
                        },
                        "text/html": [
                            "<table>",
                            "<tr><th>ID</th><th>wlasciciel_ID</th><th>imie</th><th>ID</th><th>imie</th><th>nazwisko</th><th>adres</th><th>telefon</th><th>data_ur</th></tr>",
                            "<tr><td>1</td><td>1</td><td>Garfield</td><td>1</td><td>John</td><td>Nash</td><td>ogrodowa 6</td><td>1234567890</td><td>2003-01-02</td></tr>",
                            "<tr><td>2</td><td>1</td><td>Odi</td><td>1</td><td>John</td><td>Nash</td><td>ogrodowa 6</td><td>1234567890</td><td>2003-01-02</td></tr>",
                            "</table>"
                        ]
                    }
                }
            ],
            "execution_count": 262
        }
    ]
}