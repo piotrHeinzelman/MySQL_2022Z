{
    "metadata": {
        "kernelspec": {
            "name": "SQL",
            "display_name": "SQL",
            "language": "sql"
        },
        "language_info": {
            "name": "sql",
            "version": ""
        },
        "extensions": {
            "azuredatastudio": {
                "version": 1,
                "views": []
            }
        }
    },
    "nbformat_minor": 2,
    "nbformat": 4,
    "cells": [
        {
            "cell_type": "markdown",
            "source": [
                "1\\. zakładam bazę"
            ],
            "metadata": {
                "azdata_cell_guid": "b81fa58d-9e6d-4d10-b9a3-8ca8adfee1c1"
            },
            "attachments": {}
        },
        {
            "cell_type": "code",
            "source": [
                "DROP DATABASE IF EXISTS okno ;\r\n",
                "go\r\n",
                "\r\n",
                "CREATE DATABASE okno\r\n",
                "/*    ON PRIMARY (\r\n",
                "        name=okno,\r\n",
                "        filename='/var/opt/mssql/data/okno.mdf',\r\n",
                "        size=20MB,\r\n",
                "        maxsize=50MB,\r\n",
                "        filegrowth=10MB\r\n",
                "    )\r\n",
                "    LOG ON (\r\n",
                "        name=okno_log,\r\n",
                "        filename='/var/opt/mssql/data/okno.ldf',\r\n",
                "        size=20MB,\r\n",
                "        maxsize=50MB,\r\n",
                "        filegrowth=10MB\r\n",
                "    )  */\r\n",
                "COLLATE POLISH_100_CI_AS_SC_UTF8\r\n",
                "GO"
            ],
            "metadata": {
                "azdata_cell_guid": "9a6ae663-a014-4432-b778-0af43c0fea22",
                "tags": []
            },
            "outputs": [
                {
                    "output_type": "error",
                    "evalue": "Msg 3702, Level 16, State 3, Line 1\r\nCannot drop database \"okno\" because it is currently in use.",
                    "ename": "",
                    "traceback": []
                },
                {
                    "output_type": "error",
                    "evalue": "Msg 1801, Level 16, State 3, Line 4\r\nDatabase 'okno' already exists. Choose a different database name.",
                    "ename": "",
                    "traceback": []
                },
                {
                    "output_type": "display_data",
                    "data": {
                        "text/html": "Total execution time: 00:00:00.004"
                    },
                    "metadata": {}
                }
            ],
            "execution_count": 35
        },
        {
            "cell_type": "markdown",
            "source": [
                "dodaję tabele   \\*\\*\\* SŁOWNIKÓW \\*\\*\\*"
            ],
            "metadata": {
                "azdata_cell_guid": "c367cb2a-1491-41f4-a6c8-cb19636c6669"
            },
            "attachments": {}
        },
        {
            "cell_type": "code",
            "source": [
                "use okno;\r\n",
                "GO\r\n",
                "\r\n",
                "/* *** slowniki *** */\r\n",
                "DROP TABLE IF EXISTS icon_name;\r\n",
                "DROP TABLE IF EXISTS indd_master;\r\n",
                "DROP TABLE IF EXISTS price;\r\n",
                "DROP TABLE IF EXISTS params;\r\n",
                "DROP TABLE IF EXISTS product_lst;\r\n",
                "DROP TABLE IF EXISTS [name];\r\n",
                "DROP TABLE IF EXISTS name_short;\r\n",
                "DROP TABLE IF EXISTS name_long;\r\n",
                "DROP TABLE IF EXISTS issue;\r\n",
                "DROP TABLE IF EXISTS code;\r\n",
                "DROP TABLE IF EXISTS category;\r\n",
                "DROP TABLE IF EXISTS unit ;\r\n",
                "DROP TABLE IF EXISTS icon;\r\n",
                "DROP TABLE IF EXISTS icon_family;\r\n",
                "DROP TABLE IF EXISTS unit_type;\r\n",
                "go\r\n",
                "\r\n",
                "\r\n",
                "\r\n",
                "CREATE TABLE category (\r\n",
                "    id BIGINT NOT NULL IDENTITY,\r\n",
                "    [name] varchar(127),\r\n",
                "    exact_id BIGINT,\r\n",
                "    category_parent BIGINT,\r\n",
                "    exact_name varchar(127),\r\n",
                "    PRIMARY KEY ( id )\r\n",
                ");\r\n",
                "go\r\n",
                "\r\n",
                "-- slowniki kluczowe\r\n",
                "\r\n",
                "CREATE TABLE code (\r\n",
                "    id_code BIGINT NOT NULL IDENTITY,\r\n",
                "    code_string varchar(32) UNIQUE,\r\n",
                "    ean CHAR(13), -- po EAN (w tym rozwiazaniu) nie wyszukujemy, są EAN zaczynające się od 0 dlatego CHAR a nie BIGINT/DECIMAL(13)\r\n",
                "    active BIT NOT NULL DEFAULT 1,\r\n",
                "    exact_id BIGINT,\r\n",
                "    category BIGINT,\r\n",
                "    PRIMARY KEY ( id_code ),\r\n",
                "    FOREIGN KEY ( category ) REFERENCES category( id ));\r\n",
                "go\r\n",
                "\r\n",
                "\r\n",
                "CREATE TABLE issue (\r\n",
                "    id BIGINT NOT NULL IDENTITY,\r\n",
                "    [name] nvarchar(255) UNIQUE,\r\n",
                "    PRIMARY KEY ( id )\r\n",
                ");\r\n",
                "go\r\n",
                "\r\n",
                "-- lang zaimplementowany jako ENUM w pamięci aplikacji a nie w bazie. zmiany co kilka lat.\r\n",
                "\r\n",
                "-- slowniki zwykle\r\n",
                "\r\n",
                "CREATE TABLE icon_family (\r\n",
                "    id BIGINT NOT NULL IDENTITY,\r\n",
                "    [name] nvarchar(255) UNIQUE,\r\n",
                "    PRIMARY KEY ( id )\r\n",
                ");\r\n",
                "go\r\n",
                "\r\n",
                "\r\n",
                "CREATE TABLE indd_master (\r\n",
                "    id BIGINT NOT NULL IDENTITY,\r\n",
                "    [name] nvarchar(255) UNIQUE,\r\n",
                "    PRIMARY KEY ( id )\r\n",
                ");\r\n",
                "go\r\n",
                "\r\n",
                "CREATE TABLE unit_type (\r\n",
                "    id BIGINT NOT NULL IDENTITY,\r\n",
                "    [name] nvarchar(255) UNIQUE,\r\n",
                "    PRIMARY KEY ( id )\r\n",
                ");\r\n",
                "go\r\n",
                "\r\n",
                "\r\n",
                "\r\n",
                "\r\n",
                "\r\n",
                "-- data\r\n",
                "\r\n",
                "-- Key1\r\n",
                "\r\n",
                "CREATE TABLE icon (\r\n",
                "    id BIGINT NOT NULL IDENTITY,\r\n",
                "    [name] nvarchar(255) DEFAULT(null),\r\n",
                "\r\n",
                "    id_unit_type BIGINT,\r\n",
                "    id_icon_family BIGINT,\r\n",
                "\r\n",
                "    is_tech BIT DEFAULT(0),\r\n",
                "    is_promo BIT DEFAULT(0),\r\n",
                "\r\n",
                "    in_paper BIT DEFAULT(0),\r\n",
                "    in_catalog BIT DEFAULT(0),\r\n",
                "    in_shipping BIT DEFAULT(0),\r\n",
                "    in_rack     BIT DEFAULT(0),\r\n",
                "    in_fish_top BIT DEFAULT(0),\r\n",
                "    in_fish_bottom BIT DEFAULT(0),\r\n",
                "    in_t_znamionowa BIT DEFAULT(0),\r\n",
                "    in_t_ostrzerzen BIT DEFAULT(0),\r\n",
                "    in_opak_jedn    BIT DEFAULT(0),\r\n",
                "    in_opak_zbiorcze BIT DEFAULT(0),\r\n",
                "    in_instrukcja   BIT DEFAULT(0),\r\n",
                "\r\n",
                "    PRIMARY KEY ( id ),\r\n",
                "    FOREIGN KEY ( id_unit_type ) REFERENCES unit_type( id ),\r\n",
                "    FOREIGN KEY ( id_icon_family ) REFERENCES icon_family( id )\r\n",
                ");\r\n",
                "go  \r\n",
                "\r\n",
                "\r\n",
                "\r\n",
                "CREATE TABLE unit (\r\n",
                "    id BIGINT NOT NULL IDENTITY,\r\n",
                "    [name] nvarchar(255),\r\n",
                "    id_unit_type BIGINT NOT NULL,\r\n",
                "    suffix nvarchar(255),\r\n",
                "    multi DECIMAL (24,12),\r\n",
                "\r\n",
                "    next_unit_id BIGINT NULL,\r\n",
                "    separator nvarchar(255) NULL,\r\n",
                "\r\n",
                "    PRIMARY KEY ( id ),\r\n",
                "    FOREIGN KEY ( id_unit_type ) REFERENCES unit_type( id ),\r\n",
                ");\r\n",
                "go  \r\n",
                "\r\n",
                "\r\n",
                "\r\n",
                "-- Key2 ( k1 x k2 )\r\n",
                "CREATE TABLE icon_name (\r\n",
                "    id BIGINT NOT NULL ,\r\n",
                "    id_lang BIGINT NOT NULL,\r\n",
                "    [name] nvarchar(255),\r\n",
                "    PRIMARY KEY ( id, id_lang )\r\n",
                ");\r\n",
                "go\r\n",
                "\r\n",
                "\r\n",
                "\r\n",
                "CREATE TABLE [name] (\r\n",
                "    id BIGINT NOT NULL ,\r\n",
                "    id_lang BIGINT NOT NULL,\r\n",
                "\r\n",
                "    [name] nvarchar(255),\r\n",
                "    name_accept INT,\r\n",
                "    [description] nvarchar(max),\r\n",
                "    description_accept INT,\r\n",
                "    name_need_translate BIT DEFAULT(0),\r\n",
                "    description_need_translate BIT DEFAULT(0),\r\n",
                "\r\n",
                "    name_in_table nvarchar(255),\r\n",
                "    table_header nvarchar(255),\r\n",
                "    indd_inline_description nvarchar(255)\r\n",
                "\r\n",
                "    PRIMARY KEY ( id, id_lang )\r\n",
                ");\r\n",
                "go\r\n",
                "\r\n",
                "\r\n",
                "CREATE TABLE [name_short] (\r\n",
                "    id BIGINT NOT NULL ,\r\n",
                "    id_lang BIGINT NOT NULL,\r\n",
                "\r\n",
                "    name_short nvarchar(255),\r\n",
                "    name_accept INT,\r\n",
                "    description_short nvarchar(max),\r\n",
                "    description_accept BIT DEFAULT(0),\r\n",
                "\r\n",
                "    PRIMARY KEY ( id, id_lang )\r\n",
                ");\r\n",
                "go\r\n",
                "\r\n",
                "CREATE TABLE [name_long] (\r\n",
                "    id BIGINT NOT NULL ,\r\n",
                "    id_lang BIGINT NOT NULL,\r\n",
                "\r\n",
                "    name_long nvarchar(255),\r\n",
                "    name_accept INT,\r\n",
                "    description_long nvarchar(max),\r\n",
                "    description_accept BIT DEFAULT(0),\r\n",
                "\r\n",
                "    PRIMARY KEY ( id, id_lang )\r\n",
                ");\r\n",
                "go\r\n",
                "\r\n",
                "\r\n",
                "\r\n",
                "\r\n",
                "\r\n",
                "-- Key3 ( k1 x k2 x k3)\r\n",
                "\r\n",
                "CREATE TABLE price (\r\n",
                "    id BIGINT NOT NULL ,\r\n",
                "    id_issue BIGINT NOT NULL,\r\n",
                "    id_lang BIGINT NOT NULL,\r\n",
                "\r\n",
                "    price DECIMAL (24,4),\r\n",
                "    promo DECIMAL (24,4),\r\n",
                "\r\n",
                "    PRIMARY KEY ( id, id_issue, id_lang )\r\n",
                ");\r\n",
                "go\r\n",
                "\r\n",
                "CREATE TABLE product_lst (\r\n",
                "    id BIGINT NOT NULL ,\r\n",
                "    id_issue BIGINT NOT NULL,\r\n",
                "    my_order INT,\r\n",
                "    page_num INT \r\n",
                "    PRIMARY KEY ( id, id_issue )\r\n",
                ");\r\n",
                "go\r\n",
                "\r\n",
                "\r\n",
                "\r\n",
                "DROP TABLE IF EXISTS params;\r\n",
                "go\r\n",
                "\r\n",
                "\r\n",
                "\r\n",
                "CREATE TABLE params (\r\n",
                "    id_code BIGINT NOT NULL,\r\n",
                "    id_icon BIGINT NOT NULL,\r\n",
                "\r\n",
                "    num_value DECIMAL (24,12),\r\n",
                "    string_value nVARCHAR(255),\r\n",
                "    id_unit BIGINT NOT NULL\r\n",
                "    \r\n",
                "    PRIMARY KEY ( id_code , id_icon )\r\n",
                "    FOREIGN KEY ( id_code ) REFERENCES dbo.code( id_code ),\r\n",
                "    FOREIGN KEY ( id_icon ) REFERENCES dbo.icon( id ),\r\n",
                "    FOREIGN KEY ( id_unit ) REFERENCES dbo.unit( id )\r\n",
                "\r\n",
                ");\r\n",
                "go  \r\n",
                "\r\n",
                "\r\n",
                ""
            ],
            "metadata": {
                "azdata_cell_guid": "49fc5628-cded-4433-8f6b-87e77621b085"
            },
            "outputs": [
                {
                    "output_type": "display_data",
                    "data": {
                        "text/html": "Commands completed successfully."
                    },
                    "metadata": {}
                },
                {
                    "output_type": "display_data",
                    "data": {
                        "text/html": "Commands completed successfully."
                    },
                    "metadata": {}
                },
                {
                    "output_type": "display_data",
                    "data": {
                        "text/html": "Commands completed successfully."
                    },
                    "metadata": {}
                },
                {
                    "output_type": "display_data",
                    "data": {
                        "text/html": "Commands completed successfully."
                    },
                    "metadata": {}
                },
                {
                    "output_type": "display_data",
                    "data": {
                        "text/html": "Commands completed successfully."
                    },
                    "metadata": {}
                },
                {
                    "output_type": "display_data",
                    "data": {
                        "text/html": "Commands completed successfully."
                    },
                    "metadata": {}
                },
                {
                    "output_type": "display_data",
                    "data": {
                        "text/html": "Commands completed successfully."
                    },
                    "metadata": {}
                },
                {
                    "output_type": "display_data",
                    "data": {
                        "text/html": "Commands completed successfully."
                    },
                    "metadata": {}
                },
                {
                    "output_type": "display_data",
                    "data": {
                        "text/html": "Commands completed successfully."
                    },
                    "metadata": {}
                },
                {
                    "output_type": "display_data",
                    "data": {
                        "text/html": "Commands completed successfully."
                    },
                    "metadata": {}
                },
                {
                    "output_type": "display_data",
                    "data": {
                        "text/html": "Commands completed successfully."
                    },
                    "metadata": {}
                },
                {
                    "output_type": "display_data",
                    "data": {
                        "text/html": "Commands completed successfully."
                    },
                    "metadata": {}
                },
                {
                    "output_type": "display_data",
                    "data": {
                        "text/html": "Commands completed successfully."
                    },
                    "metadata": {}
                },
                {
                    "output_type": "display_data",
                    "data": {
                        "text/html": "Commands completed successfully."
                    },
                    "metadata": {}
                },
                {
                    "output_type": "display_data",
                    "data": {
                        "text/html": "Commands completed successfully."
                    },
                    "metadata": {}
                },
                {
                    "output_type": "display_data",
                    "data": {
                        "text/html": "Commands completed successfully."
                    },
                    "metadata": {}
                },
                {
                    "output_type": "display_data",
                    "data": {
                        "text/html": "Commands completed successfully."
                    },
                    "metadata": {}
                },
                {
                    "output_type": "display_data",
                    "data": {
                        "text/html": "Commands completed successfully."
                    },
                    "metadata": {}
                },
                {
                    "output_type": "display_data",
                    "data": {
                        "text/html": "Total execution time: 00:00:00.212"
                    },
                    "metadata": {}
                }
            ],
            "execution_count": 36
        },
        {
            "cell_type": "code",
            "source": [
                "\r\n",
                "use okno;\r\n",
                "GO\r\n",
                "\r\n",
                "CREATE OR ALTER FUNCTION dbo.getIdByCode (\r\n",
                "    @code_string AS nVARCHAR(32)\r\n",
                ") RETURNS BIGINT\r\n",
                "AS\r\n",
                "BEGIN\r\n",
                "    DECLARE @cID BIGINT;\r\n",
                "    SET @cID = ( SELECT id_code FROM dbo.code WHERE code_string = @code_string );\r\n",
                "    RETURN (@cID);\r\n",
                "END;\r\n",
                "go\r\n",
                "\r\n",
                "\r\n",
                "\r\n",
                "/*\r\n",
                "PRINT ( dbo.getIdByCode('DED8708') );\r\n",
                "\r\n",
                "DECLARE @cID BIGINT;\r\n",
                "SET @cID = ( dbo.getIdByCode('DED8708') );\r\n",
                "PRINT ( @cID );\r\n",
                "*/\r\n",
                "\r\n",
                "\r\n",
                "\r\n",
                "\r\n",
                "CREATE OR ALTER PROCEDURE dbo.add_names\r\n",
                "    @code_string varchar(32),\r\n",
                "    @lang_id BIGINT,\r\n",
                "    @i_name nvarchar(255),\r\n",
                "    @i_description nvarchar(max)\r\n",
                "AS\r\n",
                "BEGIN\r\n",
                "\r\n",
                "\r\n",
                "    DECLARE @cID BIGINT = NULL\r\n",
                "    SET @cID = ( dbo.getIdByCode( @code_string ));  \r\n",
                "    IF @cID IS NOT NULL \r\n",
                "        BEGIN \r\n",
                "            IF NOT EXISTS ( SELECT id FROM dbo.[name] AS N WHERE ( N.id=@cID AND N.id_lang = @lang_id) ) \r\n",
                "                BEGIN \r\n",
                "                    -- PRINT 'INSERT';\r\n",
                "                    INSERT INTO dbo.[name] ( id , id_lang , [name] , [description] ) VALUES ( @cID, @lang_id , @i_name , @i_description ); \r\n",
                "                END\r\n",
                "            ELSE\r\n",
                "                BEGIN \r\n",
                "                    -- PRINT 'UPDATE';\r\n",
                "                    UPDATE dbo.[name]  SET  [name] = @i_name , [description] = @i_description  WHERE ( id = @cID AND id_lang = @lang_id ) ; \r\n",
                "                END \r\n",
                "        END\r\n",
                "END\r\n",
                "go\r\n",
                "\r\n",
                "\r\n",
                "-------------------------------\r\n",
                "\r\n",
                "\r\n",
                "\r\n",
                "CREATE OR ALTER PROCEDURE dbo.addprices\r\n",
                "    @code_string varchar(32),\r\n",
                "    @lang_id BIGINT,\r\n",
                "    @issue_id BIGINT,    \r\n",
                "\r\n",
                "    @i_price DECIMAL(10,2),\r\n",
                "    @i_promo DECIMAL(10,2)\r\n",
                "AS\r\n",
                "BEGIN\r\n",
                "    DECLARE @cID BIGINT = NULL;\r\n",
                "    SET @cID = ( dbo.getIdByCode( @code_string ));  \r\n",
                "    IF @cID IS NULL RETURN;   \r\n",
                "        INSERT INTO price ( id , id_lang , id_issue, price, promo ) VALUES ( @cID, @lang_id , @issue_id , @i_price, @i_promo );  \r\n",
                "END;\r\n",
                "go\r\n",
                "\r\n",
                "---------------------------\r\n",
                "\r\n",
                "\r\n",
                "CREATE OR ALTER PROCEDURE dbo.add_product_to_list\r\n",
                "    @code_string varchar(32),\r\n",
                "    @issue_id BIGINT,    \r\n",
                "    @i_page TINYINT\r\n",
                "AS\r\n",
                "BEGIN\r\n",
                "    DECLARE @cID BIGINT = NULL;\r\n",
                "    SET @cID = ( dbo.getIdByCode( @code_string ));  \r\n",
                "    IF @cID IS NULL RETURN;   \r\n",
                "        INSERT INTO product_lst ( id , id_issue, page_num ) VALUES ( @cID , @issue_id , @i_page );  \r\n",
                "END;\r\n",
                "go\r\n",
                "\r\n",
                " \r\n",
                "\r\n",
                "------------------------------\r\n",
                "\r\n",
                "\r\n",
                "CREATE OR ALTER FUNCTION dbo.getproductparams (\r\n",
                "    @i_code BIGINT , @i_lang BIGINT  )  RETURNS TABLE\r\n",
                "AS\r\n",
                "RETURN \r\n",
                "  SELECT P.id_icon AS [icon], P.string_value AS [string], P.num_value AS [value], U.id_unit_type, U.multi,  \r\n",
                "         I.[name] AS [PL_name], \r\n",
                "         I.in_paper, I.in_catalog, I.in_shipping, I.in_rack  \r\n",
                "  FROM dbo.params AS P\r\n",
                "    \r\n",
                "    JOIN dbo.icon AS I ON ( P.id_icon=I.id )\r\n",
                "    JOIN dbo.unit AS U ON ( P.id_unit=U.id )\r\n",
                "\r\n",
                "WHERE ( P.id_code=@i_code );\r\n",
                "GO \r\n",
                "\r\n",
                "\r\n",
                "------------------------------\r\n",
                "\r\n",
                "\r\n",
                "CREATE OR ALTER FUNCTION dbo.getproduct (\r\n",
                "    @i_code BIGINT , @i_lang BIGINT , @i_issue BIGINT )  RETURNS TABLE\r\n",
                "AS\r\n",
                "RETURN \r\n",
                "    SELECT N.[name], N.[description], P.price, P.promo  \r\n",
                "    FROM dbo.[name] AS N \r\n",
                "    \r\n",
                "    LEFT JOIN \r\n",
                "      dbo.price AS P ON ( P.id=@i_code AND P.ID_lang=@i_lang AND P.ID_issue=@i_issue )\r\n",
                "\r\n",
                "    WHERE ( N.id=@i_code AND N.ID_lang=@i_lang );\r\n",
                "GO \r\n",
                "\r\n",
                ""
            ],
            "metadata": {
                "azdata_cell_guid": "b87a8554-b454-423b-9e79-d7696c475e08",
                "tags": []
            },
            "outputs": [
                {
                    "output_type": "display_data",
                    "data": {
                        "text/html": "Commands completed successfully."
                    },
                    "metadata": {}
                },
                {
                    "output_type": "display_data",
                    "data": {
                        "text/html": "Commands completed successfully."
                    },
                    "metadata": {}
                },
                {
                    "output_type": "display_data",
                    "data": {
                        "text/html": "Commands completed successfully."
                    },
                    "metadata": {}
                },
                {
                    "output_type": "display_data",
                    "data": {
                        "text/html": "Commands completed successfully."
                    },
                    "metadata": {}
                },
                {
                    "output_type": "display_data",
                    "data": {
                        "text/html": "Commands completed successfully."
                    },
                    "metadata": {}
                },
                {
                    "output_type": "display_data",
                    "data": {
                        "text/html": "Commands completed successfully."
                    },
                    "metadata": {}
                },
                {
                    "output_type": "display_data",
                    "data": {
                        "text/html": "Commands completed successfully."
                    },
                    "metadata": {}
                },
                {
                    "output_type": "display_data",
                    "data": {
                        "text/html": "Total execution time: 00:00:00.054"
                    },
                    "metadata": {}
                }
            ],
            "execution_count": 37
        },
        {
            "cell_type": "code",
            "source": [
                "-- uruchamiam procedure wstawiania tresci \r\n",
                "\r\n",
                "USE okno;\r\n",
                "go\r\n",
                "/*\r\n",
                "execute dbo.add_names  '80C051' , 1 , 'Pompa', 'do wody brudnej' ;\r\n",
                "execute dbo.add_names  '80C051' , 2 , 'Čerpadlo', 'na špinavou vodu' ;\r\n",
                "execute dbo.add_names  '80C051' , 3 , 'Pump', 'for dirty water' ;\r\n",
                "execute dbo.add_names  '80C051' , 4 , 'szivattyú', 'piszkos vízhez' ;\r\n",
                "execute dbo.add_names  '80C051' , 15 , 'Насос', 'для брудної води' ;\r\n",
                "\r\n",
                "execute dbo.add_names  '80C052' , 1 , 'Pompa', 'do wody brudnej' ;\r\n",
                "execute dbo.add_names  '80C052' , 2 , 'Čerpadlo', 'na špinavou vodu' ;\r\n",
                "execute dbo.add_names  '80C052' , 3 , 'Pump', 'for dirty water' ;\r\n",
                "execute dbo.add_names  '80C052' , 4 , 'szivattyú', 'piszkos vízhez' ;\r\n",
                "execute dbo.add_names  '80C052' , 15 , 'Насос', 'для брудної води' ;\r\n",
                " \r\n",
                "execute dbo.add_names  '0603' , 1 , 'Klucz', 'CRV - first insert' ;\r\n",
                "execute dbo.add_names  '0603' , 1 , 'Klucz', 'CRV - second insert' ;\r\n",
                "\r\n",
                "execute dbo.add_names 'DED8708' ,  1 ,'Kosiarka elektryczna  1600W','Moc: 1600W; prędkość obrotowa: 3600RPM; szer. koszenia: 380mm; wys. koszenia 20-70 mm (5-stopniowa regulacja); pojemność kosza: 40 L (kosz siatkowy); składana rękojeść; cicha praca' ; \r\n",
                "execute dbo.add_names 'DED8708' ,  2 ,'','Příkon: 1600 W, otáčky: 3600 otáček za minutu, kapacita koše: 40 l (síťový koš), 5 výšek řezu' ; \r\n",
                "execute dbo.add_names 'DED8708' ,  3 ,'','Power: 1600W, speed: 3600 rpm, Basket capacity: 40 L (mesh basket), 5 cutting heights' ; \r\n",
                "execute dbo.add_names 'DED8708' ,  4 ,'','Teljesítmény: 1600W, sebesség: 3600 fordulat/perc, kosárkapacitás: 40 L (hálós kosár), 5 vágási magasság' ; \r\n",
                "execute dbo.add_names 'DED8708' ,  5 ,'','Galia: 1600 W, greitis: 3600 aps/min, krepšelio talpa: 40 l (tinklinis krepšys), 5 pjovimo aukščiai' ; \r\n",
                "execute dbo.add_names 'DED8708' ,  6 ,'','Putere: 1600W, viteză: 3600 rpm, Capacitate co?: 40 L (co? cu plasă), 5 înăl?imi de tăiere' ; \r\n",
                "execute dbo.add_names 'DED8708' ,  7 ,'','Jauda: 1600 W, atrums: 3600 apgr./min, groza ietilpiba: 40 L (sieta grozs), 5 griešanas augstumi' ; \r\n",
                "execute dbo.add_names 'DED8708' ,  8 ,'Elektrická kosačka 1600W','Elektrická kosačka 38cm 1600W, rýchlosť otáčania: 3600 otáčok za minútu, kapacita koša: 30 l, 5 výšok kosenia (20-70 mm), šírka kosenia: 38 cm, priemer kotúča: 16 cm, 20 cm' ; \r\n",
                "\r\n",
                "\r\n",
                "execute dbo.add_names 'DED87308' ,  1 ,'Ostrze do kosiarki','51cm, do DED8725-51L' ; \r\n",
                "execute dbo.add_names 'DED87308' ,  2 ,'Nůž pro sekačku','51 cm, pro DED8725-51L' ; \r\n",
                "execute dbo.add_names 'DED87308' ,  3 ,'Blade for lawnmower','51cm, for DED8725-51L' ; \r\n",
                "execute dbo.add_names 'DED87308' ,  4 ,'Fűnyíró penge','51cm, a DED8725-51L-hez' ; \r\n",
                "execute dbo.add_names 'DED87308' ,  5 ,'Vejapjoves ašmenys 51cm, iki DED8725-51L','51cm, iki DED8725-51L' ; \r\n",
                "execute dbo.add_names 'DED87308' ,  6 ,'Lame pentru cositoare','51cm, pentru DED8725-51L' ; \r\n",
                "execute dbo.add_names 'DED87308' ,  7 ,'Zales plaujmašinas asmens','51cm, modelim DED8725-51L' ; \r\n",
                "execute dbo.add_names 'DED87308' ,  8 ,'Nôž do kosačky','51cm, do DED8725-51L' ; \r\n",
                "execute dbo.add_names 'DED87308' ,  16 ,'Nož kosilice 51cm za DED8725-51L','NULL' ; \r\n",
                "execute dbo.add_names 'DED87308' ,  17 ,'Rezilo kosilnice','51 cm, za DED8725-51L' ; \r\n",
                "execute dbo.add_names 'DED8823A8' ,  1 ,'Aktywna piana do mycia pojazdów 2L','Silnie skoncentrowana aktywna piana do mycia pojazdów, gruntownie usuwa zastałe, oleiste, tłuste zabrudzenia, produkt polski' ; \r\n",
                "execute dbo.add_names 'DED8823A8' ,  2 ,'Aktivní dvoufázová pěna 2L','Doporučován pro použití v čističích DED8819, DED8821 a DED8822' ; \r\n",
                "execute dbo.add_names 'DED8823A8' ,  3 ,'Active two-phase foam 2L','Recommended to use with DED8819, DED8821 and DED8822 pressure washers' ; \r\n",
                "execute dbo.add_names 'DED8823A8' ,  4 ,'Kétfázisú aktív hab. 2L','Ajánlott a DED8819, DED8821 és DED8822 mosó berendezésekkel használni' ; \r\n",
                "execute dbo.add_names 'DED8823A8' ,  5 ,'Aktyvi puta sunkiai užteršt. ireng. 2 L','Rekomenduojamas naudoti su plovimo irenginiais DED8819, DED8821 ir DED8822' ; \r\n",
                "execute dbo.add_names 'DED8823A8' ,  6 ,'Spumă activă cu două faze 2L','Recomandat a se utiliza cu spalatoarele DED8819, DED8821 i DED8822' ; \r\n",
                "execute dbo.add_names 'DED8823A8' ,  7 ,'','Augstas koncentracijas aktivas putas transportlidzeklu mazgašanai' ; \r\n",
                "execute dbo.add_names 'DED8823A8' ,  8 ,'Aktívna dvojfázová pena 2L','Odporúčaný na používanie s čističmi DED8819, DED8821 a DED8822' ; \r\n",
                "execute dbo.add_names 'DED8823A8' ,  16 ,'Dvofazna aktivna pjena 2L','NULL' ; \r\n",
                "execute dbo.add_names 'DED8823A8' ,  17 ,'Aktivna dvofazna pena 2L','Močno koncentrirana aktivna pena za pranje vozil Temeljito odstranjuje trdovratno, mastno in oljnato umazanijo Poljski izdelek' ; \r\n",
                "execute dbo.add_names 'DED8848' ,  1 ,'Pompa zanurzeniowa z zasysaniem płaskim 350W do wody czystej','Moc urządzenia: 350 W, uchwyt do przenoszenia, długość przewodu zasilającego: 10 m, przepływ: 4500 l/h, obudowa z tworzywa sztucznego odpornego na uderzenia, max.głębokość zanurzenia: 3m, max.wysokość podnoszenia: 5,5 m, max.wymiar zanieczyszczeń (ziarno): 5 mm, średnica przyłącza: 1\", 5/4\", klasa szczelności: IPX8' ; \r\n",
                "execute dbo.add_names 'DED8848' ,  2 ,'Ponorné čerpadlo 350 W s plochým sáním na čistou vodu','Výkon spotřebiče: 350 W, rukojeť pro přenášení, délka napájecího kabelu: 10 m, průtok: 4500 l/h, pouzdro z nárazuvzdorného plastu, max. hloubka ponoru: 3 m, max. výška zdvihu: 5,5 m, maximální velikost nečistot (zrna): 5 mm, průměr připojení: 1\", 5/4\", třída ochrany: IPX8' ; \r\n",
                "execute dbo.add_names 'DED8848' ,  3 ,'Low suction pump for clean water 350W','Device power: 350 W, carrying handle, power cord length: 10 m, flow rate: 4500 l/h, housing made of impact-resistant plastic, max.immersion depth: 3m, max.lifting height: 5.5m, max.size of dirt (grain): 5mm, connection diameter: 1\", 5/4\", protection class: IPX8' ; \r\n",
                "execute dbo.add_names 'DED8848' ,  4 ,'Merülő szivattyú lapos szívással 350W tiszta vízhez','A készülék teljesítménye: 350 W, hordozható fogantyú, tápkábel hossza: 10 m, áramlási sebesség: 4500 l/h, ház ütésálló műanyagból, max. merülési mélység: 3m, max. emelési magasság: 5,5 m, a szennyeződés maximális mérete (szemcseméret): 5 mm, csatlakozási átmérő: 1\", 5/4\", védelmi osztály: IPX8' ; \r\n",
                "execute dbo.add_names 'DED8848' ,  5 ,'Panardinamas siurblys su 350W plokščiu siurbimu švariam vandeniui','Prietaiso galia: 350 W, nešiojimo rankena, maitinimo laido ilgis: 10 m, srautas: 4500 l/h, korpusas pagamintas iš smugiams atsparaus plastiko, maks. panardinimo gylis: 3 m, maks. kelimo aukštis: 5,5 m, maksimalus purvo (grudeliu) dydis: 5 mm, jungties skersmuo: 1\", 5/4\", apsaugos klase: IPX8' ; \r\n",
                "execute dbo.add_names 'DED8848' ,  6 ,'Pompa submersibilă cu aspiratie plată de 350W pentru apă curată','Puterea aparatului: 350 W, mâner de transport, lungimea cablului de alimentare: 10 m, debit: 4500 l/h, carcasă din plastic rezistent la impact, adâncime maximă de imersie: 3m, înăl?imea maximă de ridicare: 5,5 m, dimensiunea maximă a pământului (boabe): 5 mm, diametrul conexiunii: 1\", 5/4\", clasa de protec?ie: IPX8' ; \r\n",
                "execute dbo.add_names 'DED8848' ,  7 ,'Plakanas sukšanas iegremdejamais suknis 350W tiram udenim','Ierices jauda: 350 W, rokturis parnesašanai, barošanas kabela garums: 10 m, plusmas atrums: 4500 l/h, korpuss izgatavots no triecienizturigas plastmasas, maks. iegremdešanas dzilums: 3 m, maksimalais pacelšanas augstums: 5,5 m, maksimalais netirumu (graudu) izmers: 5 mm, savienojuma diametrs: 1\", 5/4\", aizsardzibas klase: IPX8' ; \r\n",
                "execute dbo.add_names 'DED8848' ,  8 ,'Ponorné čerpadlo s plochým saním 350 W na čistú vodu','Výkon spotrebiča: 350 W, rukoväť na prenášanie, dĺžka napájacieho kábla: 10 m, prietok: 4500 l/h, puzdro z nárazuvzdorného plastu, max. hĺbka ponoru: 3 m, max. výška zdvihu: 5,5 m, max. veľkosť nečistôt (zrna): 5 mm, priemer pripojenia: 1\", 5/4\", trieda ochrany: IPX8' ; \r\n",
                "execute dbo.add_names 'DED8848' ,  16 ,'Potopna pumpa s ravnim usisom od 350W za čistu vodu','NULL' ; \r\n",
                "execute dbo.add_names 'DED8848' ,  17 ,'Potopna črpalka z ravnim sesanjem 350 W za čisto vodo','Napajanje naprave: 350 W, ročaj za prenašanje, dolžina napajalnega kabla: 10 m, pretok: 4500 l/h, ohišje iz plastike, odporne na udarce, največja globina potopitve: 3 m, največja višina dviga: 5,5 m, največja velikost umazanije (zrna): 5 mm, premer priključka: 1\", 5/4\", zaščitni razred: IPX8' ; \r\n",
                "\r\n",
                "go\r\n",
                "\r\n",
                "\r\n",
                "---------------\r\n",
                "\r\n",
                "\r\n",
                "Declare @Issue BIGINT = 1\r\n",
                "Declare @Lang BIGINT = 1 -- 1=PL, 2=CZ, 3=EN, 15=UA\r\n",
                "\r\n",
                "EXEC dbo.addprices '80C051' , @Lang , @Issue , 3.21 , 2.99 ;\r\n",
                "EXEC dbo.addprices '80C052' , @Lang , @Issue , 4.21 , 3.99 ;\r\n",
                "EXEC dbo.addprices '0602' , @Lang , @Issue , 5.21 , 4.99 ;\r\n",
                "EXEC dbo.addprices '0603' , @Lang , @Issue , 6.21 , 4.99 ;\r\n",
                "EXEC dbo.addprices 'DED780911' , @Lang , @Issue , 7.21 , 5.99 ;\r\n",
                "EXEC dbo.addprices 'DED780912' , @Lang , @Issue , 8.21 , 6.99 ;\r\n",
                "EXEC dbo.addprices 'DED780920' , @Lang , @Issue , 11.21 , 8.99 ;\r\n",
                "\r\n",
                "EXEC dbo.addprices '80C051' , 2 , @Issue , 23.21 , 22.99 ;\r\n",
                "EXEC dbo.addprices '80C052' , 2 , @Issue , 24.21 , 23.99 ;\r\n",
                "EXEC dbo.addprices '80C051' , 3 , @Issue , 33.21 , 32.99 ;\r\n",
                "EXEC dbo.addprices '80C052' , 3 , @Issue , 34.21 , 33.99 ;\r\n",
                "EXEC dbo.addprices '80C051' , 4 , @Issue , 34.21 , 42.99 ;\r\n",
                "EXEC dbo.addprices '80C052' , 4 , @Issue , 44.21 , 43.99 ;\r\n",
                "EXEC dbo.addprices '80C051' , 15 , @Issue , 153.21 , 152.99 ;\r\n",
                "EXEC dbo.addprices '80C052' , 15 , @Issue , 154.21 , 153.99 ;\r\n",
                "\r\n",
                " \r\n",
                "---------------------\r\n",
                "\r\n",
                "EXEC dbo.add_product_to_list '80C051'  , @Issue  , 2 ;\r\n",
                "EXEC dbo.add_product_to_list '80C052'  , @Issue  , 2 ;\r\n",
                "EXEC dbo.add_product_to_list '0602'    , @Issue  , 2 ;\r\n",
                "EXEC dbo.add_product_to_list '0603'    , @Issue  , 2 ;\r\n",
                "EXEC dbo.add_product_to_list 'DED780911', @Issue , 2 ;\r\n",
                "EXEC dbo.add_product_to_list 'DED780912', @Issue , 2 ;\r\n",
                "EXEC dbo.add_product_to_list 'DED780920', @Issue , 2 ;\r\n",
                "go\r\n",
                "\r\n",
                "-----------------------\r\n",
                "\r\n",
                "\r\n",
                "INSERT INTO params (id_code, id_icon, num_value, string_value, ID_unit) VALUES (   dbo.getIdByCode( '80C051' ), 1, 120, NULL , 9 );\r\n",
                "INSERT INTO params (id_code, id_icon, num_value, string_value, ID_unit) VALUES (   dbo.getIdByCode( '80C052' ), 1, 90, NULL , 9 );\r\n",
                "INSERT INTO params (id_code, id_icon, num_value, string_value, ID_unit) VALUES (   dbo.getIdByCode( '80C051' ), 3, NULL, NULL , 1);\r\n",
                "INSERT INTO params (id_code, id_icon, num_value, string_value, ID_unit) VALUES (   dbo.getIdByCode( '80C052' ), 3, NULL, NULL , 1 );\r\n",
                "\r\n",
                "----------------\r\n",
                "*/"
            ],
            "metadata": {
                "azdata_cell_guid": "7d1e4090-827a-4b42-9e41-5c8975d11bc9",
                "tags": []
            },
            "outputs": [
                {
                    "output_type": "display_data",
                    "data": {
                        "text/html": "Commands completed successfully."
                    },
                    "metadata": {}
                },
                {
                    "output_type": "display_data",
                    "data": {
                        "text/html": "Commands completed successfully."
                    },
                    "metadata": {}
                },
                {
                    "output_type": "display_data",
                    "data": {
                        "text/html": "Total execution time: 00:00:00.007"
                    },
                    "metadata": {}
                }
            ],
            "execution_count": 38
        },
        {
            "cell_type": "code",
            "source": [
                "USE okno;\r\n",
                "go\r\n",
                "\r\n",
                "\r\n",
                "-- WYPEŁNIAM SŁOWNIKI     \r\n",
                "/*  Słownik nieużywany - dane zapisane w pamieci aplikacji w zmiennej ENUM  \r\n",
                "INSERT INTO lang VALUES (1,'PL','zł',2,'nr. kat.|%|cena|promocja');\r\n",
                "INSERT INTO lang VALUES (2,'CZ','Kč',1,'kat. č.|popis|cena|akční cena');\r\n",
                "INSERT INTO lang VALUES (3,'EN','€',2, 'cat. no.|description|price|promo price');\r\n",
                "INSERT INTO lang VALUES (4,'HU','Ft',0,'cikkszám|leírás|ár|akciós ár');\r\n",
                "-- ****\r\n",
                "INSERT INTO lang VALUES (15,'UA','€',2,'Код|опис|ціна|акційна ціна');\r\n",
                "*/\r\n",
                "\r\n",
                "-----------------\r\n",
                "/*\r\n",
                "INSERT INTO issue ( [name] ) VALUES ( 'ONE 23.01');\r\n",
                "\r\n",
                "\r\n",
                "-----------------\r\n",
                "\r\n",
                "INSERT INTO category(exact_id, [name]) VALUES( 10000 , 'Kosiarki'); \r\n",
                "INSERT INTO category(exact_id, [name]) VALUES( 10001 , '- Kosiarki spalinowe'); \r\n",
                "INSERT INTO category(exact_id, [name]) VALUES( 10002 , '- Kosiarki elektryczne'); \r\n",
                "INSERT INTO category(exact_id, [name]) VALUES( 20000 , 'Ślimacznice'); \r\n",
                "\r\n",
                "-----------------\r\n",
                "\r\n",
                "DECLARE @DED8708 AS BIGINT;\r\n",
                "INSERT INTO code ( code_string, ean ) VALUES ( 'DED8708' ,'5902628870803');  --3008\r\n",
                "SELECT @DED8708 = SCOPE_IDENTITY(); \r\n",
                "PRINT(@DED8708);\r\n",
                "INSERT INTO code ( code_string, ean ) VALUES ( 'DED87308' , '5902628873088'); --3036\r\n",
                "\r\n",
                "INSERT INTO code ( code_string, ean ) VALUES ( 'DED8823A8', '5902628882417');  --3082\r\n",
                "INSERT INTO code ( code_string, ean ) VALUES ( 'DED8848', '5902628884800');  --4373\r\n",
                "INSERT INTO code ( code_string  ) VALUES ( '80C051' );   \r\n",
                "INSERT INTO code ( code_string  ) VALUES ( '80C052' );   \r\n",
                "INSERT INTO code ( code_string  ) VALUES ( '0603' );   \r\n",
                "\r\n",
                "\r\n",
                "UPDATE code SET category=( SELECT MAX (id) FROM category WHERE [name]='- Kosiarki spalinowe' ) WHERE code_string='DED8708';  \r\n",
                "UPDATE code SET category=( SELECT MAX (id) FROM category WHERE [name]='- Kosiarki spalinowe' ) WHERE code_string='DED87308';  \r\n",
                "UPDATE code SET category=( SELECT MAX (id) FROM category WHERE [name]='- Kosiarki spalinowe' ) WHERE code_string='DED8823A8';  \r\n",
                "\r\n",
                "\r\n",
                "\r\n",
                "INSERT INTO icon_family ( [name]  ) VALUES ('maszyny z silnikami spalinowymi');\r\n",
                "DECLARE @fam AS BIGINT;\r\n",
                "SET @fam = ( SELECT MAX (id) FROM icon_family WHERE name='maszyny z silnikami spalinowymi');\r\n",
                "\r\n",
                "\r\n",
                "\r\n",
                "INSERT INTO unit_type ([name]) VALUES ( '[NONE]' ); -- miara dlugosci\r\n",
                "DECLARE @none AS BIGINT;\r\n",
                "SET @none = ( SELECT MAX (id) FROM unit_type WHERE name='[NONE]');\r\n",
                "\r\n",
                "INSERT INTO unit_type ([name]) VALUES ( 'dlugosc' ); -- miara dlugosci\r\n",
                "DECLARE @dlugosc AS BIGINT;\r\n",
                "SET @dlugosc = ( SELECT MAX (id) FROM unit_type WHERE name='dlugosc');\r\n",
                "\r\n",
                "INSERT INTO unit_type ([name]) VALUES ( 'moc' ); -- miara mocy\r\n",
                "DECLARE @moc AS BIGINT;\r\n",
                "SET @moc = ( SELECT MAX (id) FROM unit_type WHERE name='moc');\r\n",
                "\r\n",
                "\r\n",
                "INSERT INTO unit_type ([name]) VALUES ( 'silnik bezszczotkowy' ); -- rodzaj silnika\r\n",
                "DECLARE @bezsz AS BIGINT;\r\n",
                "SET @bezsz = ( SELECT MAX (id) FROM unit_type WHERE name='silnik bezszczotkowy');\r\n",
                "\r\n",
                "\r\n",
                "DECLARE @icoa AS BIGINT; DECLARE @icob AS BIGINT; DECLARE @icoc AS BIGINT; \r\n",
                "INSERT INTO icon ( id_unit_type , id_icon_family, [name], is_tech, in_rack, in_catalog  )   VALUES  (   @moc , @fam ,'Moc silnika elektycznego',1 ,1, 1 ); --is_tect, is_promo okresla dział odpowiedzialny za parametr\r\n",
                "SELECT @icoa = SCOPE_IDENTITY();\r\n",
                "INSERT INTO icon ( id_unit_type , id_icon_family, [name], is_tech, in_rack, in_catalog  )   VALUES  (   @moc , @fam, 'Moc silnika spalinowego' ,1 ,1, 1 ); -- in_rack, in_catal  określa w jakich publkacjach lub w jakiego rodzaju dokumentach pojawi się ikona\r\n",
                "SELECT @icob = SCOPE_IDENTITY();\r\n",
                "INSERT INTO icon ( id_unit_type,  id_icon_family, [name], is_promo, in_catalog  )           VALUES  (  @bezsz, @fam, 'Silnik bezszczotkowy'  ,1, 1);\r\n",
                "SELECT @icoc = SCOPE_IDENTITY(); \r\n",
                "-----------------\r\n",
                "\r\n",
                "INSERT INTO icon_name ( id, id_lang, [name]  ) VALUES (@icoa,1,'Moc silnika elektycznego');\r\n",
                "INSERT INTO icon_name ( id, id_lang, [name]  ) VALUES (@icob,1,'Moc silnika spalinowego' );\r\n",
                "INSERT INTO icon_name ( id, id_lang, [name]  ) VALUES (@icoc,1,'Silnik bezszczotkowy'   ); \r\n",
                "INSERT INTO icon_name ( id, id_lang, [name]  ) VALUES (@icoa,2,'Výkon elektromotoru');\r\n",
                "INSERT INTO icon_name ( id, id_lang, [name]  ) VALUES (@icob,2,'Výkon spalovacího motoru' );\r\n",
                "INSERT INTO icon_name ( id, id_lang, [name]  ) VALUES (@icoc,2,'Bezkartáčový motor'    );\r\n",
                "INSERT INTO icon_name ( id, id_lang, [name]  ) VALUES (@icoa,3,'Power of the electric engine');\r\n",
                "INSERT INTO icon_name ( id, id_lang, [name]  ) VALUES (@icob,3,'Internal combustion engine power' );\r\n",
                "INSERT INTO icon_name ( id, id_lang, [name]  ) VALUES (@icoc,3,'Brushless motor'    );\r\n",
                "INSERT INTO icon_name ( id, id_lang, [name]  ) VALUES (@icoa,15,'Потужність електродвигуна');\r\n",
                "INSERT INTO icon_name ( id, id_lang, [name]  ) VALUES (@icob,15,'Потужність двигуна внутрішнього згоряння' );\r\n",
                "INSERT INTO icon_name ( id, id_lang, [name]  ) VALUES (@icoc,15,'Безщітковий двигун'    );\r\n",
                "\r\n",
                "\r\n",
                "\r\n",
                "-----------------\r\n",
                "\r\n",
                "INSERT INTO unit ( id_unit_type, [name], suffix, multi  ) VALUES (@none,'[ NONE ]','[ *** NONE *** ]' , 1);\r\n",
                "INSERT INTO unit ( id_unit_type, [name], suffix, multi  ) VALUES (@dlugosc,'km','kilometr' , 1000);\r\n",
                "INSERT INTO unit ( id_unit_type, [name], suffix, multi  ) VALUES (@dlugosc,'m','metr'      , 1);\r\n",
                "INSERT INTO unit ( id_unit_type, [name], suffix, multi  ) VALUES (@dlugosc,'dm','decyment' , 0.1);\r\n",
                "INSERT INTO unit ( id_unit_type, [name], suffix, multi  ) VALUES (@dlugosc,'cm','centymetr', 0.01);\r\n",
                "INSERT INTO unit ( id_unit_type, [name], suffix, multi  ) VALUES (@dlugosc,'mm','milimetr' , 0.001);\r\n",
                "\r\n",
                "INSERT INTO unit ( id_unit_type, [name], suffix, multi  ) VALUES (@moc,'MW','megawat' , 1000000);   DECLARE @kw AS BIGINT;\r\n",
                "INSERT INTO unit ( id_unit_type, [name], suffix, multi  ) VALUES (@moc,'kW','kilowat' , 1000);      SELECT @kw = SCOPE_IDENTITY();\r\n",
                "INSERT INTO unit ( id_unit_type, [name], suffix, multi  ) VALUES (@moc,'W','wat' , 1);\r\n",
                "\r\n",
                "\r\n",
                "\r\n",
                "INSERT INTO params ( id_code, id_icon, num_value, id_unit ) VALUES (  @DED8708 ,  @icoa , 1.2 , @kw ); --moc asilnika el. \r\n",
                "\r\n",
                "\r\n",
                "*/\r\n",
                "\r\n",
                "go\r\n",
                "\r\n",
                "\r\n",
                "\r\n",
                ""
            ],
            "metadata": {
                "azdata_cell_guid": "d13ae95e-f30a-4abf-ab62-a45b35b3dc21",
                "tags": []
            },
            "outputs": [
                {
                    "output_type": "display_data",
                    "data": {
                        "text/html": "Commands completed successfully."
                    },
                    "metadata": {}
                },
                {
                    "output_type": "display_data",
                    "data": {
                        "text/html": "Commands completed successfully."
                    },
                    "metadata": {}
                },
                {
                    "output_type": "display_data",
                    "data": {
                        "text/html": "Total execution time: 00:00:00.007"
                    },
                    "metadata": {}
                }
            ],
            "execution_count": 39
        },
        {
            "cell_type": "code",
            "source": [
                ""
            ],
            "metadata": {
                "azdata_cell_guid": "fd6b11cc-9eff-4331-af55-019291f7c0d5"
            },
            "outputs": [],
            "execution_count": null
        },
        {
            "cell_type": "markdown",
            "source": [
                "tworzę tabelę indd\\_name wraz z procedurą"
            ],
            "metadata": {
                "azdata_cell_guid": "b8cbacd5-f65f-48ea-ac6a-4340d9c8b3ab"
            },
            "attachments": {}
        },
        {
            "cell_type": "code",
            "source": [
                "\r\n",
                "USE okno;\r\n",
                "GO\r\n",
                "\r\n",
                "\r\n",
                "DECLARE @PL BIGINT = 1;\r\n",
                "DECLARE @CZ BIGINT = 2;\r\n",
                "DECLARE @EN BIGINT = 3;\r\n",
                "DECLARE @UA BIGINT = 15;\r\n",
                "\r\n",
                "\r\n",
                "-- nowe wydanie\r\n",
                "                                                        DECLARE @STYCZEN_2023 BIGINT ;\r\n",
                "INSERT INTO issue ( [name] ) VALUES ( 'ONE 23.01');     SELECT @STYCZEN_2023 = SCOPE_IDENTITY(); \r\n",
                "\r\n",
                "\r\n",
                "-- dodaję kody -- powinien to robić automat - ładować z innego syustemu liste dostęnych kodów\r\n",
                "                                                                                 \r\n",
                "INSERT INTO code ( code_string, ean ) VALUES ( 'DED8708' ,'5902628870803');    \r\n",
                "\r\n",
                "-- nazwy\r\n",
                "execute dbo.add_names 'DED8708' ,  1 ,'Kosiarka elektryczna  1600W','Moc: 1600W; prędkość obrotowa: 3600RPM; szer. koszenia: 380mm; wys. koszenia 20-70 mm (5-stopniowa regulacja); pojemność kosza: 40 L (kosz siatkowy); składana rękojeść; cicha praca' ; \r\n",
                "execute dbo.add_names 'DED8708' ,  2 ,'','Příkon: 1600 W, otáčky: 3600 otáček za minutu, kapacita koše: 40 l (síťový koš), 5 výšek řezu' ; \r\n",
                "execute dbo.add_names 'DED8708' ,  3 ,'','Power: 1600W, speed: 3600 rpm, Basket capacity: 40 L (mesh basket), 5 cutting heights' ; \r\n",
                "execute dbo.add_names 'DED8708' ,  4 ,'','Teljesítmény: 1600W, sebesség: 3600 fordulat/perc, kosárkapacitás: 40 L (hálós kosár), 5 vágási magasság' ; \r\n",
                "execute dbo.add_names 'DED8708' ,  5 ,'','Galia: 1600 W, greitis: 3600 aps/min, krepšelio talpa: 40 l (tinklinis krepšys), 5 pjovimo aukščiai' ; \r\n",
                "execute dbo.add_names 'DED8708' ,  6 ,'','Putere: 1600W, viteză: 3600 rpm, Capacitate co?: 40 L (co? cu plasă), 5 înăl?imi de tăiere' ; \r\n",
                "execute dbo.add_names 'DED8708' ,  7 ,'','Jauda: 1600 W, atrums: 3600 apgr./min, groza ietilpiba: 40 L (sieta grozs), 5 griešanas augstumi' ; \r\n",
                "execute dbo.add_names 'DED8708' ,  8 ,'Elektrická kosačka 1600W','Elektrická kosačka 38cm 1600W, rýchlosť otáčania: 3600 otáčok za minútu, kapacita koša: 30 l, 5 výšok kosenia (20-70 mm), šírka kosenia: 38 cm, priemer kotúča: 16 cm, 20 cm' ; \r\n",
                "\r\n",
                "--\r\n",
                "\r\n",
                "INSERT INTO category(exact_id, [name]) VALUES( 10000 , 'Kosiarki'); \r\n",
                "INSERT INTO category(exact_id, [name]) VALUES( 10001 , '- Kosiarki spalinowe'); \r\n",
                "INSERT INTO category(exact_id, [name]) VALUES( 10002 , '- Kosiarki elektryczne'); \r\n",
                "\r\n",
                "--\r\n",
                "\r\n",
                "\r\n",
                "EXEC dbo.addprices 'DED8708' , 1 , @STYCZEN_2023 , 2.21 , 1.99 ;\r\n",
                "EXEC dbo.addprices 'DED8708' , 2 , @STYCZEN_2023 , 3.21 , 12.99 ;\r\n",
                "EXEC dbo.addprices 'DED8708' , 3 , @STYCZEN_2023 , 4.21 , 3.99 ;\r\n",
                "EXEC dbo.addprices 'DED8708' , 15 , @STYCZEN_2023 , 6.21 , 5.99 ;\r\n",
                "\r\n",
                "\r\n",
                "-- wprowadzam typy jednostek\r\n",
                "INSERT INTO unit_type ([name]) VALUES ( '[NONE]' ); -- miara dlugosci\r\n",
                "    DECLARE @none AS BIGINT; SET @none = ( SELECT MAX (id) FROM unit_type WHERE name='[NONE]');\r\n",
                "\r\n",
                "INSERT INTO unit_type ([name]) VALUES ( 'dlugosc' ); -- miara dlugosci\r\n",
                "    DECLARE @dlugosc AS BIGINT; SET @dlugosc = ( SELECT MAX (id) FROM unit_type WHERE name='dlugosc');\r\n",
                "\r\n",
                "INSERT INTO unit_type ([name]) VALUES ( 'moc' ); -- miara mocy\r\n",
                "    DECLARE @moc AS BIGINT; SET @moc = ( SELECT MAX (id) FROM unit_type WHERE name='moc');\r\n",
                "\r\n",
                "-- wprowadzam jednostki\r\n",
                "INSERT INTO unit ( id_unit_type, suffix, [name], multi  ) VALUES (@none,'[ NONE ]','[ *** NONE *** ]' , 1);\r\n",
                "INSERT INTO unit ( id_unit_type, suffix, [name], multi  ) VALUES (@dlugosc,'km','kilometr' , 1000);\r\n",
                "INSERT INTO unit ( id_unit_type, suffix, [name], multi  ) VALUES (@dlugosc,'m','metr'      , 1);\r\n",
                "INSERT INTO unit ( id_unit_type, suffix, [name], multi  )  VALUES (@dlugosc,'dm','decyment' , 0.1);    DECLARE @cm AS BIGINT;\r\n",
                "INSERT INTO unit ( id_unit_type, suffix, [name], multi  ) VALUES (@dlugosc,'cm','centymetr', 0.01);     SELECT @cm = SCOPE_IDENTITY();\r\n",
                "INSERT INTO unit ( id_unit_type, suffix, [name], multi  ) VALUES (@dlugosc,'mm','milimetr' , 0.001);\r\n",
                "\r\n",
                "INSERT INTO unit ( id_unit_type, suffix, [name], multi  ) VALUES (@moc,'MW','megawat' , 1000000);   DECLARE @kw AS BIGINT;\r\n",
                "INSERT INTO unit ( id_unit_type, suffix, [name], multi  ) VALUES (@moc,'kW','kilowat' , 1000);      SELECT @kw = SCOPE_IDENTITY();\r\n",
                "INSERT INTO unit ( id_unit_type, suffix, [name], multi  ) VALUES (@moc,'W','wat' , 1);\r\n",
                "\r\n",
                "-- wprowadzam ikony, określam ich typy_jednostek\r\n",
                "        DECLARE @ico_moc AS BIGINT; \r\n",
                "INSERT INTO icon ( id_unit_type , [name] )           VALUES  (  @moc, 'Silnik bezszczotkowy');\r\n",
                "        SELECT @ico_moc = SCOPE_IDENTITY();\r\n",
                "\r\n",
                "\r\n",
                "        DECLARE @ico_dlugosc AS BIGINT; \r\n",
                "INSERT INTO icon ( id_unit_type , [name] )   VALUES  (  @dlugosc, 'długość');\r\n",
                "        SELECT @ico_dlugosc = SCOPE_IDENTITY();\r\n",
                "\r\n",
                "INSERT INTO params ( id_code, id_icon, num_value, id_unit ) VALUES (  1 ,  @ico_moc , 1.2 , @kw ); --moc asilnika el.         \r\n",
                "INSERT INTO params ( id_code, id_icon, num_value, id_unit ) VALUES (  1 ,  @ico_dlugosc , 33 , @cm ); --moc asilnika el. \r\n",
                "\r\n",
                "-- pobieram nazwy i opisy w 3 jezykach\r\n",
                "SELECT * FROM dbo.getproduct   ( 1,1,@STYCZEN_2023 );\r\n",
                "SELECT * FROM dbo.getproduct   ( 1,2,@STYCZEN_2023 );\r\n",
                "SELECT * FROM dbo.getproduct   ( 1,3,@STYCZEN_2023 );\r\n",
                "\r\n",
                "-- pobieram opisy w 3 językach\r\n",
                "\r\n",
                "SELECT * FROM dbo.getproductparams( dbo.getIdByCode( 'DED8708' ) , @PL  );\r\n",
                "SELECT * FROM dbo.getproductparams( dbo.getIdByCode( 'DED8708' ) , @EN  );\r\n",
                "SELECT * FROM dbo.getproductparams( dbo.getIdByCode( 'DED8708' ) , @CZ  );\r\n",
                "\r\n",
                "\r\n",
                ""
            ],
            "metadata": {
                "azdata_cell_guid": "745f0004-53de-493b-9a44-b23a2255342c",
                "tags": []
            },
            "outputs": [
                {
                    "output_type": "display_data",
                    "data": {
                        "text/html": "Commands completed successfully."
                    },
                    "metadata": {}
                },
                {
                    "output_type": "display_data",
                    "data": {
                        "text/html": "The statement has been terminated."
                    },
                    "metadata": {}
                },
                {
                    "output_type": "display_data",
                    "data": {
                        "text/html": "The statement has been terminated."
                    },
                    "metadata": {}
                },
                {
                    "output_type": "display_data",
                    "data": {
                        "text/html": "(1 row affected)"
                    },
                    "metadata": {}
                },
                {
                    "output_type": "display_data",
                    "data": {
                        "text/html": "(1 row affected)"
                    },
                    "metadata": {}
                },
                {
                    "output_type": "display_data",
                    "data": {
                        "text/html": "(1 row affected)"
                    },
                    "metadata": {}
                },
                {
                    "output_type": "display_data",
                    "data": {
                        "text/html": "(1 row affected)"
                    },
                    "metadata": {}
                },
                {
                    "output_type": "display_data",
                    "data": {
                        "text/html": "(1 row affected)"
                    },
                    "metadata": {}
                },
                {
                    "output_type": "display_data",
                    "data": {
                        "text/html": "(1 row affected)"
                    },
                    "metadata": {}
                },
                {
                    "output_type": "display_data",
                    "data": {
                        "text/html": "(1 row affected)"
                    },
                    "metadata": {}
                },
                {
                    "output_type": "display_data",
                    "data": {
                        "text/html": "(1 row affected)"
                    },
                    "metadata": {}
                },
                {
                    "output_type": "display_data",
                    "data": {
                        "text/html": "(1 row affected)"
                    },
                    "metadata": {}
                },
                {
                    "output_type": "display_data",
                    "data": {
                        "text/html": "(1 row affected)"
                    },
                    "metadata": {}
                },
                {
                    "output_type": "display_data",
                    "data": {
                        "text/html": "(1 row affected)"
                    },
                    "metadata": {}
                },
                {
                    "output_type": "display_data",
                    "data": {
                        "text/html": "(1 row affected)"
                    },
                    "metadata": {}
                },
                {
                    "output_type": "display_data",
                    "data": {
                        "text/html": "(1 row affected)"
                    },
                    "metadata": {}
                },
                {
                    "output_type": "display_data",
                    "data": {
                        "text/html": "(1 row affected)"
                    },
                    "metadata": {}
                },
                {
                    "output_type": "display_data",
                    "data": {
                        "text/html": "(1 row affected)"
                    },
                    "metadata": {}
                },
                {
                    "output_type": "display_data",
                    "data": {
                        "text/html": "The statement has been terminated."
                    },
                    "metadata": {}
                },
                {
                    "output_type": "display_data",
                    "data": {
                        "text/html": "The statement has been terminated."
                    },
                    "metadata": {}
                },
                {
                    "output_type": "display_data",
                    "data": {
                        "text/html": "The statement has been terminated."
                    },
                    "metadata": {}
                },
                {
                    "output_type": "display_data",
                    "data": {
                        "text/html": "(1 row affected)"
                    },
                    "metadata": {}
                },
                {
                    "output_type": "display_data",
                    "data": {
                        "text/html": "(1 row affected)"
                    },
                    "metadata": {}
                },
                {
                    "output_type": "display_data",
                    "data": {
                        "text/html": "(1 row affected)"
                    },
                    "metadata": {}
                },
                {
                    "output_type": "display_data",
                    "data": {
                        "text/html": "(1 row affected)"
                    },
                    "metadata": {}
                },
                {
                    "output_type": "display_data",
                    "data": {
                        "text/html": "(1 row affected)"
                    },
                    "metadata": {}
                },
                {
                    "output_type": "display_data",
                    "data": {
                        "text/html": "(1 row affected)"
                    },
                    "metadata": {}
                },
                {
                    "output_type": "display_data",
                    "data": {
                        "text/html": "(1 row affected)"
                    },
                    "metadata": {}
                },
                {
                    "output_type": "display_data",
                    "data": {
                        "text/html": "(1 row affected)"
                    },
                    "metadata": {}
                },
                {
                    "output_type": "display_data",
                    "data": {
                        "text/html": "(1 row affected)"
                    },
                    "metadata": {}
                },
                {
                    "output_type": "display_data",
                    "data": {
                        "text/html": "(1 row affected)"
                    },
                    "metadata": {}
                },
                {
                    "output_type": "display_data",
                    "data": {
                        "text/html": "(1 row affected)"
                    },
                    "metadata": {}
                },
                {
                    "output_type": "display_data",
                    "data": {
                        "text/html": "(1 row affected)"
                    },
                    "metadata": {}
                },
                {
                    "output_type": "display_data",
                    "data": {
                        "text/html": "(1 row affected)"
                    },
                    "metadata": {}
                },
                {
                    "output_type": "display_data",
                    "data": {
                        "text/html": "(1 row affected)"
                    },
                    "metadata": {}
                },
                {
                    "output_type": "display_data",
                    "data": {
                        "text/html": "(1 row affected)"
                    },
                    "metadata": {}
                },
                {
                    "output_type": "display_data",
                    "data": {
                        "text/html": "(1 row affected)"
                    },
                    "metadata": {}
                },
                {
                    "output_type": "display_data",
                    "data": {
                        "text/html": "(2 rows affected)"
                    },
                    "metadata": {}
                },
                {
                    "output_type": "display_data",
                    "data": {
                        "text/html": "(2 rows affected)"
                    },
                    "metadata": {}
                },
                {
                    "output_type": "display_data",
                    "data": {
                        "text/html": "(2 rows affected)"
                    },
                    "metadata": {}
                },
                {
                    "output_type": "display_data",
                    "data": {
                        "text/html": "Total execution time: 00:00:00.181"
                    },
                    "metadata": {}
                },
                {
                    "output_type": "execute_result",
                    "metadata": {},
                    "execution_count": 46,
                    "data": {
                        "application/vnd.dataresource+json": {
                            "schema": {
                                "fields": [
                                    {
                                        "name": "name"
                                    },
                                    {
                                        "name": "description"
                                    },
                                    {
                                        "name": "price"
                                    },
                                    {
                                        "name": "promo"
                                    }
                                ]
                            },
                            "data": [
                                {
                                    "0": "Kosiarka elektryczna  1600W",
                                    "1": "Moc: 1600W; prędkość obrotowa: 3600RPM; szer. koszenia: 380mm; wys. koszenia 20-70 mm (5-stopniowa regulacja); pojemność kosza: 40 L (kosz siatkowy); składana rękojeść; cicha praca",
                                    "2": "2.2100",
                                    "3": "1.9900"
                                }
                            ]
                        },
                        "text/html": [
                            "<table>",
                            "<tr><th>name</th><th>description</th><th>price</th><th>promo</th></tr>",
                            "<tr><td>Kosiarka elektryczna  1600W</td><td>Moc: 1600W; prędkość obrotowa: 3600RPM; szer. koszenia: 380mm; wys. koszenia 20-70 mm (5-stopniowa regulacja); pojemność kosza: 40 L (kosz siatkowy); składana rękojeść; cicha praca</td><td>2.2100</td><td>1.9900</td></tr>",
                            "</table>"
                        ]
                    }
                },
                {
                    "output_type": "execute_result",
                    "metadata": {},
                    "execution_count": 46,
                    "data": {
                        "application/vnd.dataresource+json": {
                            "schema": {
                                "fields": [
                                    {
                                        "name": "name"
                                    },
                                    {
                                        "name": "description"
                                    },
                                    {
                                        "name": "price"
                                    },
                                    {
                                        "name": "promo"
                                    }
                                ]
                            },
                            "data": [
                                {
                                    "0": "",
                                    "1": "Příkon: 1600 W, otáčky: 3600 otáček za minutu, kapacita koše: 40 l (síťový koš), 5 výšek řezu",
                                    "2": "3.2100",
                                    "3": "12.9900"
                                }
                            ]
                        },
                        "text/html": [
                            "<table>",
                            "<tr><th>name</th><th>description</th><th>price</th><th>promo</th></tr>",
                            "<tr><td></td><td>Příkon: 1600 W, otáčky: 3600 otáček za minutu, kapacita koše: 40 l (síťový koš), 5 výšek řezu</td><td>3.2100</td><td>12.9900</td></tr>",
                            "</table>"
                        ]
                    }
                },
                {
                    "output_type": "execute_result",
                    "metadata": {},
                    "execution_count": 46,
                    "data": {
                        "application/vnd.dataresource+json": {
                            "schema": {
                                "fields": [
                                    {
                                        "name": "name"
                                    },
                                    {
                                        "name": "description"
                                    },
                                    {
                                        "name": "price"
                                    },
                                    {
                                        "name": "promo"
                                    }
                                ]
                            },
                            "data": [
                                {
                                    "0": "",
                                    "1": "Power: 1600W, speed: 3600 rpm, Basket capacity: 40 L (mesh basket), 5 cutting heights",
                                    "2": "4.2100",
                                    "3": "3.9900"
                                }
                            ]
                        },
                        "text/html": [
                            "<table>",
                            "<tr><th>name</th><th>description</th><th>price</th><th>promo</th></tr>",
                            "<tr><td></td><td>Power: 1600W, speed: 3600 rpm, Basket capacity: 40 L (mesh basket), 5 cutting heights</td><td>4.2100</td><td>3.9900</td></tr>",
                            "</table>"
                        ]
                    }
                },
                {
                    "output_type": "execute_result",
                    "metadata": {},
                    "execution_count": 46,
                    "data": {
                        "application/vnd.dataresource+json": {
                            "schema": {
                                "fields": [
                                    {
                                        "name": "icon"
                                    },
                                    {
                                        "name": "string"
                                    },
                                    {
                                        "name": "value"
                                    },
                                    {
                                        "name": "id_unit_type"
                                    },
                                    {
                                        "name": "multi"
                                    },
                                    {
                                        "name": "PL_name"
                                    },
                                    {
                                        "name": "in_paper"
                                    },
                                    {
                                        "name": "in_catalog"
                                    },
                                    {
                                        "name": "in_shipping"
                                    },
                                    {
                                        "name": "in_rack"
                                    }
                                ]
                            },
                            "data": [
                                {
                                    "0": "3",
                                    "1": "NULL",
                                    "2": "1.200000000000",
                                    "3": "3",
                                    "4": "1000.000000000000",
                                    "5": "Silnik bezszczotkowy",
                                    "6": "0",
                                    "7": "0",
                                    "8": "0",
                                    "9": "0"
                                },
                                {
                                    "0": "4",
                                    "1": "NULL",
                                    "2": "33.000000000000",
                                    "3": "2",
                                    "4": "0.010000000000",
                                    "5": "długość",
                                    "6": "0",
                                    "7": "0",
                                    "8": "0",
                                    "9": "0"
                                }
                            ]
                        },
                        "text/html": [
                            "<table>",
                            "<tr><th>icon</th><th>string</th><th>value</th><th>id_unit_type</th><th>multi</th><th>PL_name</th><th>in_paper</th><th>in_catalog</th><th>in_shipping</th><th>in_rack</th></tr>",
                            "<tr><td>3</td><td>NULL</td><td>1.200000000000</td><td>3</td><td>1000.000000000000</td><td>Silnik bezszczotkowy</td><td>0</td><td>0</td><td>0</td><td>0</td></tr>",
                            "<tr><td>4</td><td>NULL</td><td>33.000000000000</td><td>2</td><td>0.010000000000</td><td>długość</td><td>0</td><td>0</td><td>0</td><td>0</td></tr>",
                            "</table>"
                        ]
                    }
                },
                {
                    "output_type": "execute_result",
                    "metadata": {},
                    "execution_count": 46,
                    "data": {
                        "application/vnd.dataresource+json": {
                            "schema": {
                                "fields": [
                                    {
                                        "name": "icon"
                                    },
                                    {
                                        "name": "string"
                                    },
                                    {
                                        "name": "value"
                                    },
                                    {
                                        "name": "id_unit_type"
                                    },
                                    {
                                        "name": "multi"
                                    },
                                    {
                                        "name": "PL_name"
                                    },
                                    {
                                        "name": "in_paper"
                                    },
                                    {
                                        "name": "in_catalog"
                                    },
                                    {
                                        "name": "in_shipping"
                                    },
                                    {
                                        "name": "in_rack"
                                    }
                                ]
                            },
                            "data": [
                                {
                                    "0": "3",
                                    "1": "NULL",
                                    "2": "1.200000000000",
                                    "3": "3",
                                    "4": "1000.000000000000",
                                    "5": "Silnik bezszczotkowy",
                                    "6": "0",
                                    "7": "0",
                                    "8": "0",
                                    "9": "0"
                                },
                                {
                                    "0": "4",
                                    "1": "NULL",
                                    "2": "33.000000000000",
                                    "3": "2",
                                    "4": "0.010000000000",
                                    "5": "długość",
                                    "6": "0",
                                    "7": "0",
                                    "8": "0",
                                    "9": "0"
                                }
                            ]
                        },
                        "text/html": [
                            "<table>",
                            "<tr><th>icon</th><th>string</th><th>value</th><th>id_unit_type</th><th>multi</th><th>PL_name</th><th>in_paper</th><th>in_catalog</th><th>in_shipping</th><th>in_rack</th></tr>",
                            "<tr><td>3</td><td>NULL</td><td>1.200000000000</td><td>3</td><td>1000.000000000000</td><td>Silnik bezszczotkowy</td><td>0</td><td>0</td><td>0</td><td>0</td></tr>",
                            "<tr><td>4</td><td>NULL</td><td>33.000000000000</td><td>2</td><td>0.010000000000</td><td>długość</td><td>0</td><td>0</td><td>0</td><td>0</td></tr>",
                            "</table>"
                        ]
                    }
                },
                {
                    "output_type": "execute_result",
                    "metadata": {},
                    "execution_count": 46,
                    "data": {
                        "application/vnd.dataresource+json": {
                            "schema": {
                                "fields": [
                                    {
                                        "name": "icon"
                                    },
                                    {
                                        "name": "string"
                                    },
                                    {
                                        "name": "value"
                                    },
                                    {
                                        "name": "id_unit_type"
                                    },
                                    {
                                        "name": "multi"
                                    },
                                    {
                                        "name": "PL_name"
                                    },
                                    {
                                        "name": "in_paper"
                                    },
                                    {
                                        "name": "in_catalog"
                                    },
                                    {
                                        "name": "in_shipping"
                                    },
                                    {
                                        "name": "in_rack"
                                    }
                                ]
                            },
                            "data": [
                                {
                                    "0": "3",
                                    "1": "NULL",
                                    "2": "1.200000000000",
                                    "3": "3",
                                    "4": "1000.000000000000",
                                    "5": "Silnik bezszczotkowy",
                                    "6": "0",
                                    "7": "0",
                                    "8": "0",
                                    "9": "0"
                                },
                                {
                                    "0": "4",
                                    "1": "NULL",
                                    "2": "33.000000000000",
                                    "3": "2",
                                    "4": "0.010000000000",
                                    "5": "długość",
                                    "6": "0",
                                    "7": "0",
                                    "8": "0",
                                    "9": "0"
                                }
                            ]
                        },
                        "text/html": [
                            "<table>",
                            "<tr><th>icon</th><th>string</th><th>value</th><th>id_unit_type</th><th>multi</th><th>PL_name</th><th>in_paper</th><th>in_catalog</th><th>in_shipping</th><th>in_rack</th></tr>",
                            "<tr><td>3</td><td>NULL</td><td>1.200000000000</td><td>3</td><td>1000.000000000000</td><td>Silnik bezszczotkowy</td><td>0</td><td>0</td><td>0</td><td>0</td></tr>",
                            "<tr><td>4</td><td>NULL</td><td>33.000000000000</td><td>2</td><td>0.010000000000</td><td>długość</td><td>0</td><td>0</td><td>0</td><td>0</td></tr>",
                            "</table>"
                        ]
                    }
                },
                {
                    "output_type": "error",
                    "evalue": "Msg 2627, Level 14, State 1, Line 14\r\nViolation of UNIQUE KEY constraint 'UQ__issue__72E12F1B47D2C3E2'. Cannot insert duplicate key in object 'dbo.issue'. The duplicate key value is (ONE 23.01).",
                    "ename": "",
                    "traceback": []
                },
                {
                    "output_type": "error",
                    "evalue": "Msg 2627, Level 14, State 1, Line 19\r\nViolation of UNIQUE KEY constraint 'UQ__code__7B2FA2B62935D634'. Cannot insert duplicate key in object 'dbo.code'. The duplicate key value is (DED8708).",
                    "ename": "",
                    "traceback": []
                },
                {
                    "output_type": "error",
                    "evalue": "Msg 2627, Level 14, State 1, Line 47\r\nViolation of UNIQUE KEY constraint 'UQ__unit_typ__72E12F1B9C1F96DE'. Cannot insert duplicate key in object 'dbo.unit_type'. The duplicate key value is ([NONE]).",
                    "ename": "",
                    "traceback": []
                },
                {
                    "output_type": "error",
                    "evalue": "Msg 2627, Level 14, State 1, Line 50\r\nViolation of UNIQUE KEY constraint 'UQ__unit_typ__72E12F1B9C1F96DE'. Cannot insert duplicate key in object 'dbo.unit_type'. The duplicate key value is (dlugosc).",
                    "ename": "",
                    "traceback": []
                },
                {
                    "output_type": "error",
                    "evalue": "Msg 2627, Level 14, State 1, Line 53\r\nViolation of UNIQUE KEY constraint 'UQ__unit_typ__72E12F1B9C1F96DE'. Cannot insert duplicate key in object 'dbo.unit_type'. The duplicate key value is (moc).",
                    "ename": "",
                    "traceback": []
                }
            ],
            "execution_count": 46
        }
    ]
}