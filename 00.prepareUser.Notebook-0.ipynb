{
    "metadata": {
        "kernelspec": {
            "name": "SQL",
            "display_name": "SQL",
            "language": "sql"
        },
        "language_info": {
            "name": "sql",
            "version": ""
        },
        "extensions": {
            "azuredatastudio": {
                "version": 1,
                "views": []
            }
        }
    },
    "nbformat_minor": 2,
    "nbformat": 4,
    "cells": [
        {
            "cell_type": "markdown",
            "source": [
                "1\\. rozglądam sie po systemie, sprawdzam użytkowników, bazy"
            ],
            "metadata": {
                "azdata_cell_guid": "b81fa58d-9e6d-4d10-b9a3-8ca8adfee1c1"
            },
            "attachments": {}
        },
        {
            "cell_type": "code",
            "source": [
                "use master;\r\n",
                "select [name] from master.sys.databases;\r\n",
                "select [name] from master.sys.sql_logins;"
            ],
            "metadata": {
                "azdata_cell_guid": "ec3d38d4-290a-4476-83d1-4769fae70602",
                "tags": []
            },
            "outputs": [
                {
                    "output_type": "display_data",
                    "data": {
                        "text/html": "(4 rows affected)"
                    },
                    "metadata": {}
                },
                {
                    "output_type": "display_data",
                    "data": {
                        "text/html": "(3 rows affected)"
                    },
                    "metadata": {}
                },
                {
                    "output_type": "display_data",
                    "data": {
                        "text/html": "Total execution time: 00:00:00.682"
                    },
                    "metadata": {}
                },
                {
                    "output_type": "execute_result",
                    "metadata": {},
                    "execution_count": 1,
                    "data": {
                        "application/vnd.dataresource+json": {
                            "schema": {
                                "fields": [
                                    {
                                        "name": "name"
                                    }
                                ]
                            },
                            "data": [
                                {
                                    "0": "master"
                                },
                                {
                                    "0": "tempdb"
                                },
                                {
                                    "0": "model"
                                },
                                {
                                    "0": "msdb"
                                }
                            ]
                        },
                        "text/html": [
                            "<table>",
                            "<tr><th>name</th></tr>",
                            "<tr><td>master</td></tr>",
                            "<tr><td>tempdb</td></tr>",
                            "<tr><td>model</td></tr>",
                            "<tr><td>msdb</td></tr>",
                            "</table>"
                        ]
                    }
                },
                {
                    "output_type": "execute_result",
                    "metadata": {},
                    "execution_count": 1,
                    "data": {
                        "application/vnd.dataresource+json": {
                            "schema": {
                                "fields": [
                                    {
                                        "name": "name"
                                    }
                                ]
                            },
                            "data": [
                                {
                                    "0": "sa"
                                },
                                {
                                    "0": "##MS_PolicyEventProcessingLogin##"
                                },
                                {
                                    "0": "##MS_PolicyTsqlExecutionLogin##"
                                }
                            ]
                        },
                        "text/html": [
                            "<table>",
                            "<tr><th>name</th></tr>",
                            "<tr><td>sa</td></tr>",
                            "<tr><td>##MS_PolicyEventProcessingLogin##</td></tr>",
                            "<tr><td>##MS_PolicyTsqlExecutionLogin##</td></tr>",
                            "</table>"
                        ]
                    }
                }
            ],
            "execution_count": 1
        },
        {
            "cell_type": "markdown",
            "source": [
                "2\\. zakładam bazę"
            ],
            "metadata": {
                "azdata_cell_guid": "b1011f23-5f89-4cc8-ba93-6d431ee10f5e"
            },
            "attachments": {}
        },
        {
            "cell_type": "code",
            "source": [
                "/*\r\n",
                "IF EXISTS (SELECT [name] FROM master.sys.sysdatabases WHERE name = 'DB_OKNO')\r\n",
                "    BEGIN\r\n",
                "    PRINT 'baza DB_OKNO istnieje';    \r\n",
                "    DROP DATABASE DB_OKNO;\r\n",
                "    PRINT 'baza usunieta';\r\n",
                "    END\r\n",
                "*/\r\n",
                "\r\n",
                "DROP DATABASE IF EXISTS DB_OKNO ;\r\n",
                "go\r\n",
                "\r\n",
                "CREATE DATABASE DB_OKNO \r\n",
                "/*    ON PRIMARY (\r\n",
                "        name=okno,\r\n",
                "        filename='/var/opt/mssql/data/okno.mdf',\r\n",
                "        size=20MB,\r\n",
                "        maxsize=50MB,\r\n",
                "        filegrowth=10MB\r\n",
                "    )\r\n",
                "    LOG ON (\r\n",
                "        name=okno_log,\r\n",
                "        filename='/var/opt/mssql/data/okno.ldf',\r\n",
                "        size=20MB,\r\n",
                "        maxsize=50MB,\r\n",
                "        filegrowth=10MB\r\n",
                "    )  */\r\n",
                "COLLATE POLISH_100_CI_AS_SC_UTF8\r\n",
                "GO\r\n",
                ""
            ],
            "metadata": {
                "azdata_cell_guid": "9a6ae663-a014-4432-b778-0af43c0fea22",
                "tags": []
            },
            "outputs": [
                {
                    "output_type": "display_data",
                    "data": {
                        "text/html": "Commands completed successfully."
                    },
                    "metadata": {}
                },
                {
                    "output_type": "display_data",
                    "data": {
                        "text/html": "Commands completed successfully."
                    },
                    "metadata": {}
                },
                {
                    "output_type": "display_data",
                    "data": {
                        "text/html": "Total execution time: 00:00:00.708"
                    },
                    "metadata": {}
                }
            ],
            "execution_count": 2
        },
        {
            "cell_type": "markdown",
            "source": [
                "dodaję tabele   \\*\\*\\* SŁOWNIKÓW \\*\\*\\*"
            ],
            "metadata": {
                "azdata_cell_guid": "c367cb2a-1491-41f4-a6c8-cb19636c6669"
            },
            "attachments": {}
        },
        {
            "cell_type": "code",
            "source": [
                "use DB_OKNO\r\n",
                "GO\r\n",
                "\r\n",
                "/* *** slowniki *** */\r\n",
                "DROP TABLE IF EXISTS icon_name;\r\n",
                "DROP TABLE IF EXISTS units ;\r\n",
                "DROP TABLE IF EXISTS icon;\r\n",
                "DROP TABLE IF EXISTS lang;\r\n",
                "DROP TABLE IF EXISTS issue;\r\n",
                "DROP TABLE IF EXISTS code;\r\n",
                "DROP TABLE IF EXISTS category;\r\n",
                "\r\n",
                "go\r\n",
                "CREATE TABLE category (\r\n",
                "    ID_category DECIMAL(10) NOT NULL ,\r\n",
                "    category_name nvarchar(32)\r\n",
                "\r\n",
                "    PRIMARY KEY ( ID_category )\r\n",
                ");\r\n",
                "go\r\n",
                "\r\n",
                "\r\n",
                "INSERT INTO category VALUES( 10000 , 'Kosiarki'); \r\n",
                "INSERT INTO category VALUES( 10001 , '- Kosiarki spalinowe'); \r\n",
                "INSERT INTO category VALUES( 10002 , '- Kosiarki elektryczne'); \r\n",
                "INSERT INTO category VALUES( 20000 , 'Ślimacznice'); \r\n",
                "\r\n",
                "\r\n",
                "\r\n",
                "CREATE TABLE code (\r\n",
                "    ID_code BIGINT NOT NULL IDENTITY,\r\n",
                "    code_string varchar(32),\r\n",
                "    EAN CHAR(13), -- po EAN (w tym rozwiazaniu) nie wyszukujemy, są EAN zaczynające się od 0 dlatego CHAR a nie BIGINT/DECIMAL(13)\r\n",
                "    active BIT NOT NULL DEFAULT 1,\r\n",
                "    category DECIMAL(10), -- kategorie 1.000, 2.000  podkategorie 1.001 1.002 ...   taka notacja jest narzucona przez zewnetrzna bazę\r\n",
                "\r\n",
                "    PRIMARY KEY ( ID_code ),\r\n",
                "    FOREIGN KEY ( category ) REFERENCES category( ID_category )\r\n",
                "    ON DELETE CASCADE\r\n",
                "    ON UPDATE CASCADE\r\n",
                ");\r\n",
                "go\r\n",
                "\r\n",
                "\r\n",
                "INSERT INTO code ( code_string ) VALUES ( '80C051' );  \r\n",
                "INSERT INTO code ( code_string ) VALUES ( '80C052' );\r\n",
                "\r\n",
                "INSERT INTO code ( code_string ) VALUES ( '0602'); \r\n",
                "INSERT INTO code ( code_string ) VALUES ( '0603');  \r\n",
                "\r\n",
                "INSERT INTO code ( code_string ) VALUES ( 'DED780911');  \r\n",
                "INSERT INTO code ( code_string ) VALUES ( 'DED780912');  \r\n",
                "INSERT INTO code ( code_string ) VALUES ( 'DED780920');\r\n",
                "\r\n",
                "UPDATE code SET category=10000 WHERE code_string='80C051';  \r\n",
                "UPDATE code SET category=10000 WHERE code_string='80C052';  \r\n",
                "\r\n",
                "\r\n",
                "\r\n",
                "\r\n",
                "\r\n",
                "\r\n",
                "CREATE TABLE issue (\r\n",
                "    ID_issue BIGINT NOT NULL IDENTITY ,\r\n",
                "    issue_name varchar(255) NOT NULL \r\n",
                "\r\n",
                "    PRIMARY KEY ( ID_issue )\r\n",
                ");\r\n",
                "go\r\n",
                "\r\n",
                "\r\n",
                "INSERT INTO issue ( issue_name ) VALUES ( '2022.10');\r\n",
                "INSERT INTO issue ( issue_name ) VALUES ( '2022.11.Garden');\r\n",
                "INSERT INTO issue ( issue_name ) VALUES ( '2023.01');\r\n",
                "\r\n",
                "\r\n",
                "\r\n",
                "CREATE TABLE lang (\r\n",
                "    ID_lang BIGINT NOT NULL,\r\n",
                "    lang_code char(2) NOT NULL,\r\n",
                "    currency  nchar(2) NOT NULL,\r\n",
                "    zeros   int NOT NULL,\r\n",
                "    table_header nvarchar(255),\r\n",
                "\r\n",
                "    PRIMARY KEY ( ID_lang )\r\n",
                ");\r\n",
                "go\r\n",
                "\r\n",
                "\r\n",
                "\r\n",
                "    INSERT INTO lang VALUES (1,'PL','zł',2,'nr. kat.|%|cena|promocja');\r\n",
                "    INSERT INTO lang VALUES (2,'CZ','Kč',1,'kat. č.|popis|cena|akční cena');\r\n",
                "    INSERT INTO lang VALUES (3,'EN','€',2, 'cat. no.|description|price|promo price');\r\n",
                "    INSERT INTO lang VALUES (4,'HU','Ft',0,'cikkszám|leírás|ár|akciós ár');\r\n",
                "    -- ****\r\n",
                "    INSERT INTO lang VALUES (15,'UA','€',2,'Код|опис|ціна|акційна ціна');\r\n",
                "\r\n",
                "\r\n",
                "\r\n",
                "\r\n",
                "\r\n",
                "CREATE TABLE icon (\r\n",
                "    ID_icon BIGINT NOT NULL IDENTITY,\r\n",
                "    icon_name nvarchar(255) NOT NULL UNIQUE,\r\n",
                "    -- edit by dept.\r\n",
                "    tech  BIT DEFAULT(0),\r\n",
                "    promo BIT DEFAULT(0),\r\n",
                "    -- target\r\n",
                "    paper BIT DEFAULT(0),\r\n",
                "    catal BIT DEFAULT(0),\r\n",
                "    shipping BIT DEFAULT(0),\r\n",
                "    rack BIT DEFAULT(0),\r\n",
                "\r\n",
                "    PRIMARY KEY ( ID_icon )\r\n",
                ");\r\n",
                "go    \r\n",
                "\r\n",
                "    INSERT INTO icon ( icon_name, tech, rack  )   VALUES ('Moc silnika elektycznego',1 ,1);\r\n",
                "    INSERT INTO icon ( icon_name, tech, rack  )   VALUES ('Moc silnika spalinowego' ,1, 1);\r\n",
                "    INSERT INTO icon ( icon_name, promo, catal  ) VALUES ('Silnik bezszczotkowy'  ,1, 1);\r\n",
                "\r\n",
                "\r\n",
                "\r\n",
                "CREATE TABLE icon_name (\r\n",
                "    ID_icon BIGINT NOT NULL,\r\n",
                "    ID_lang BIGINT NOT NULL,\r\n",
                "    icon_name nvarchar(255) NOT NULL,\r\n",
                "\r\n",
                "    PRIMARY KEY ( ID_icon , ID_lang )\r\n",
                ");\r\n",
                "go  \r\n",
                "\r\n",
                "INSERT INTO icon_name ( ID_icon, ID_lang, icon_name  ) VALUES (1,2,'Výkon elektromotoru');\r\n",
                "INSERT INTO icon_name ( ID_icon, ID_lang, icon_name  ) VALUES (2,2,'Výkon spalovacího motoru' );\r\n",
                "INSERT INTO icon_name ( ID_icon, ID_lang, icon_name  ) VALUES (3,2,'Bezkartáčový motor'    );\r\n",
                "INSERT INTO icon_name ( ID_icon, ID_lang, icon_name  ) VALUES (1,3,'Power of the electric engine');\r\n",
                "INSERT INTO icon_name ( ID_icon, ID_lang, icon_name  ) VALUES (2,3,'Internal combustion engine power' );\r\n",
                "INSERT INTO icon_name ( ID_icon, ID_lang, icon_name  ) VALUES (3,3,'Brushless motor'    );\r\n",
                "INSERT INTO icon_name ( ID_icon, ID_lang, icon_name  ) VALUES (1,15,'Потужність електродвигуна');\r\n",
                "INSERT INTO icon_name ( ID_icon, ID_lang, icon_name  ) VALUES (2,15,'Потужність двигуна внутрішнього згоряння' );\r\n",
                "INSERT INTO icon_name ( ID_icon, ID_lang, icon_name  ) VALUES (3,15,'Безщітковий двигун'    );\r\n",
                "\r\n",
                "\r\n",
                "\r\n",
                "\r\n",
                "\r\n",
                "\r\n",
                "\r\n",
                "\r\n",
                "CREATE TABLE units (\r\n",
                "    ID_unit BIGINT NOT NULL IDENTITY,\r\n",
                "    unit_code nvarchar(8) NOT NULL UNIQUE,\r\n",
                "    unit_name nvarchar(255),    \r\n",
                "    multi DECIMAL(24,12)\r\n",
                "\r\n",
                "    PRIMARY KEY ( ID_unit )\r\n",
                ");\r\n",
                "go    \r\n",
                "\r\n",
                "INSERT INTO units ( unit_code, unit_name, multi  ) VALUES ('[ NONE ]','[ *** NONE *** ]' , 1);\r\n",
                "INSERT INTO units ( unit_code, unit_name, multi  ) VALUES ('km','kilometr' , 1000);\r\n",
                "INSERT INTO units ( unit_code, unit_name, multi  ) VALUES ('m','metr'      , 1);\r\n",
                "INSERT INTO units ( unit_code, unit_name, multi  ) VALUES ('dm','decyment' , 0.1);\r\n",
                "INSERT INTO units ( unit_code, unit_name, multi  ) VALUES ('cm','centymetr', 0.01);\r\n",
                "INSERT INTO units ( unit_code, unit_name, multi  ) VALUES ('mm','milimetr' , 0.001);\r\n",
                "\r\n",
                "INSERT INTO units ( unit_code, unit_name, multi  ) VALUES ('MW','megawat' , 1000000);\r\n",
                "INSERT INTO units ( unit_code, unit_name, multi  ) VALUES ('kW','kilowat' , 1000);\r\n",
                "INSERT INTO units ( unit_code, unit_name, multi  ) VALUES ('W','wat' , 1);\r\n",
                "\r\n",
                "\r\n",
                ""
            ],
            "metadata": {
                "azdata_cell_guid": "d13ae95e-f30a-4abf-ab62-a45b35b3dc21",
                "tags": []
            },
            "outputs": [
                {
                    "output_type": "display_data",
                    "data": {
                        "text/html": "Commands completed successfully."
                    },
                    "metadata": {}
                },
                {
                    "output_type": "display_data",
                    "data": {
                        "text/html": "Commands completed successfully."
                    },
                    "metadata": {}
                },
                {
                    "output_type": "display_data",
                    "data": {
                        "text/html": "Commands completed successfully."
                    },
                    "metadata": {}
                },
                {
                    "output_type": "display_data",
                    "data": {
                        "text/html": "(1 row affected)"
                    },
                    "metadata": {}
                },
                {
                    "output_type": "display_data",
                    "data": {
                        "text/html": "(1 row affected)"
                    },
                    "metadata": {}
                },
                {
                    "output_type": "display_data",
                    "data": {
                        "text/html": "(1 row affected)"
                    },
                    "metadata": {}
                },
                {
                    "output_type": "display_data",
                    "data": {
                        "text/html": "(1 row affected)"
                    },
                    "metadata": {}
                },
                {
                    "output_type": "display_data",
                    "data": {
                        "text/html": "(1 row affected)"
                    },
                    "metadata": {}
                },
                {
                    "output_type": "display_data",
                    "data": {
                        "text/html": "(1 row affected)"
                    },
                    "metadata": {}
                },
                {
                    "output_type": "display_data",
                    "data": {
                        "text/html": "(1 row affected)"
                    },
                    "metadata": {}
                },
                {
                    "output_type": "display_data",
                    "data": {
                        "text/html": "(1 row affected)"
                    },
                    "metadata": {}
                },
                {
                    "output_type": "display_data",
                    "data": {
                        "text/html": "(1 row affected)"
                    },
                    "metadata": {}
                },
                {
                    "output_type": "display_data",
                    "data": {
                        "text/html": "(1 row affected)"
                    },
                    "metadata": {}
                },
                {
                    "output_type": "display_data",
                    "data": {
                        "text/html": "(1 row affected)"
                    },
                    "metadata": {}
                },
                {
                    "output_type": "display_data",
                    "data": {
                        "text/html": "(1 row affected)"
                    },
                    "metadata": {}
                },
                {
                    "output_type": "display_data",
                    "data": {
                        "text/html": "(1 row affected)"
                    },
                    "metadata": {}
                },
                {
                    "output_type": "display_data",
                    "data": {
                        "text/html": "(1 row affected)"
                    },
                    "metadata": {}
                },
                {
                    "output_type": "display_data",
                    "data": {
                        "text/html": "(1 row affected)"
                    },
                    "metadata": {}
                },
                {
                    "output_type": "display_data",
                    "data": {
                        "text/html": "(1 row affected)"
                    },
                    "metadata": {}
                },
                {
                    "output_type": "display_data",
                    "data": {
                        "text/html": "(1 row affected)"
                    },
                    "metadata": {}
                },
                {
                    "output_type": "display_data",
                    "data": {
                        "text/html": "(1 row affected)"
                    },
                    "metadata": {}
                },
                {
                    "output_type": "display_data",
                    "data": {
                        "text/html": "(1 row affected)"
                    },
                    "metadata": {}
                },
                {
                    "output_type": "display_data",
                    "data": {
                        "text/html": "(1 row affected)"
                    },
                    "metadata": {}
                },
                {
                    "output_type": "display_data",
                    "data": {
                        "text/html": "(1 row affected)"
                    },
                    "metadata": {}
                },
                {
                    "output_type": "display_data",
                    "data": {
                        "text/html": "(1 row affected)"
                    },
                    "metadata": {}
                },
                {
                    "output_type": "display_data",
                    "data": {
                        "text/html": "(1 row affected)"
                    },
                    "metadata": {}
                },
                {
                    "output_type": "display_data",
                    "data": {
                        "text/html": "(1 row affected)"
                    },
                    "metadata": {}
                },
                {
                    "output_type": "display_data",
                    "data": {
                        "text/html": "(1 row affected)"
                    },
                    "metadata": {}
                },
                {
                    "output_type": "display_data",
                    "data": {
                        "text/html": "(1 row affected)"
                    },
                    "metadata": {}
                },
                {
                    "output_type": "display_data",
                    "data": {
                        "text/html": "(1 row affected)"
                    },
                    "metadata": {}
                },
                {
                    "output_type": "display_data",
                    "data": {
                        "text/html": "(1 row affected)"
                    },
                    "metadata": {}
                },
                {
                    "output_type": "display_data",
                    "data": {
                        "text/html": "(1 row affected)"
                    },
                    "metadata": {}
                },
                {
                    "output_type": "display_data",
                    "data": {
                        "text/html": "(1 row affected)"
                    },
                    "metadata": {}
                },
                {
                    "output_type": "display_data",
                    "data": {
                        "text/html": "(1 row affected)"
                    },
                    "metadata": {}
                },
                {
                    "output_type": "display_data",
                    "data": {
                        "text/html": "(1 row affected)"
                    },
                    "metadata": {}
                },
                {
                    "output_type": "display_data",
                    "data": {
                        "text/html": "(1 row affected)"
                    },
                    "metadata": {}
                },
                {
                    "output_type": "display_data",
                    "data": {
                        "text/html": "(1 row affected)"
                    },
                    "metadata": {}
                },
                {
                    "output_type": "display_data",
                    "data": {
                        "text/html": "(1 row affected)"
                    },
                    "metadata": {}
                },
                {
                    "output_type": "display_data",
                    "data": {
                        "text/html": "(1 row affected)"
                    },
                    "metadata": {}
                },
                {
                    "output_type": "display_data",
                    "data": {
                        "text/html": "(1 row affected)"
                    },
                    "metadata": {}
                },
                {
                    "output_type": "display_data",
                    "data": {
                        "text/html": "(1 row affected)"
                    },
                    "metadata": {}
                },
                {
                    "output_type": "display_data",
                    "data": {
                        "text/html": "(1 row affected)"
                    },
                    "metadata": {}
                },
                {
                    "output_type": "display_data",
                    "data": {
                        "text/html": "(1 row affected)"
                    },
                    "metadata": {}
                },
                {
                    "output_type": "display_data",
                    "data": {
                        "text/html": "(1 row affected)"
                    },
                    "metadata": {}
                },
                {
                    "output_type": "display_data",
                    "data": {
                        "text/html": "(1 row affected)"
                    },
                    "metadata": {}
                },
                {
                    "output_type": "display_data",
                    "data": {
                        "text/html": "Total execution time: 00:00:00.242"
                    },
                    "metadata": {}
                }
            ],
            "execution_count": 3
        },
        {
            "cell_type": "code",
            "source": [
                "use DB_OKNO;\r\n",
                "GO\r\n",
                "\r\n",
                "CREATE OR ALTER FUNCTION dbo.getIdByCode (\r\n",
                "    @code_string AS nVARCHAR(32)\r\n",
                ") RETURNS BIGINT\r\n",
                "AS\r\n",
                "BEGIN\r\n",
                "    DECLARE @cID BIGINT;\r\n",
                "    SET @cID = ( SELECT ID_code FROM dbo.code WHERE code_string = @code_string );\r\n",
                "    RETURN (@cID);\r\n",
                "END;\r\n",
                "go\r\n",
                " \r\n",
                "/*\r\n",
                "PRINT ( dbo.getIdByCode('80C052') );\r\n",
                "\r\n",
                "DECLARE @cID BIGINT;\r\n",
                "SET @cID = ( dbo.getIdByCode('80C052') );\r\n",
                "PRINT ( @cID );\r\n",
                "*/"
            ],
            "metadata": {
                "azdata_cell_guid": "b87a8554-b454-423b-9e79-d7696c475e08",
                "tags": []
            },
            "outputs": [
                {
                    "output_type": "display_data",
                    "data": {
                        "text/html": "Commands completed successfully."
                    },
                    "metadata": {}
                },
                {
                    "output_type": "display_data",
                    "data": {
                        "text/html": "Commands completed successfully."
                    },
                    "metadata": {}
                },
                {
                    "output_type": "display_data",
                    "data": {
                        "text/html": "Commands completed successfully."
                    },
                    "metadata": {}
                },
                {
                    "output_type": "display_data",
                    "data": {
                        "text/html": "Total execution time: 00:00:00.014"
                    },
                    "metadata": {}
                }
            ],
            "execution_count": 4
        },
        {
            "cell_type": "markdown",
            "source": [
                "tworzę tabelę indd\\_name wraz z procedurą"
            ],
            "metadata": {
                "azdata_cell_guid": "b8cbacd5-f65f-48ea-ac6a-4340d9c8b3ab"
            },
            "attachments": {}
        },
        {
            "cell_type": "code",
            "source": [
                "use DB_OKNO;\r\n",
                "GO\r\n",
                "\r\n",
                "DROP TABLE IF EXISTS indd_names;\r\n",
                "go\r\n",
                "\r\n",
                "CREATE TABLE indd_names (\r\n",
                "    ID_code BIGINT NOT NULL,\r\n",
                "    ID_lang BIGINT NOT NULL,\r\n",
                "\r\n",
                "    i_name nvarchar(255),\r\n",
                "    i_description nvarchar(max),\r\n",
                "    \r\n",
                "    PRIMARY KEY ( ID_code , ID_lang )\r\n",
                ");\r\n",
                "go  \r\n",
                "\r\n",
                "\r\n",
                "-- INSERT PROCEDURE \r\n",
                "CREATE OR ALTER PROCEDURE dbo.add_names\r\n",
                "    @code_string varchar(32),\r\n",
                "    @lang_id BIGINT,\r\n",
                "    @i_name nvarchar(255),\r\n",
                "    @i_description nvarchar(max)\r\n",
                "AS\r\n",
                "BEGIN\r\n",
                "-- PRINT @code_string; PRINT @lang_id;  PRINT @i_name; PRINT @i_description; \r\n",
                "\r\n",
                "    DECLARE @cID BIGINT = NULL\r\n",
                "    SET @cID = ( dbo.getIdByCode( @code_string ));  \r\n",
                "    IF @cID IS NOT NULL \r\n",
                "        BEGIN \r\n",
                "             -- PRINT 'not NULL !';\r\n",
                "             -- PRINT  ( CONCAT ( CONCAT ( @code_string , ' : ')  , @cID )) ;\r\n",
                "            IF NOT EXISTS ( SELECT ID_code FROM indd_names AS N WHERE ( N.ID_code=@cID AND N.ID_lang = @lang_id) ) \r\n",
                "                BEGIN \r\n",
                "                    -- PRINT 'INSERT';\r\n",
                "                    INSERT INTO indd_names ( ID_code , ID_lang , i_name , i_description ) VALUES ( @cID, @lang_id , @i_name , @i_description ); \r\n",
                "                END\r\n",
                "            ELSE\r\n",
                "                BEGIN \r\n",
                "                    -- PRINT 'UPDATE';\r\n",
                "                    UPDATE indd_names  SET  i_name = @i_name , i_description = @i_description  WHERE ( ID_code = @cID AND ID_lang = @lang_id ) ; \r\n",
                "                END \r\n",
                "        END\r\n",
                "END\r\n",
                "go"
            ],
            "metadata": {
                "azdata_cell_guid": "6f790935-ed73-414b-a9a1-127ed25ef2a3",
                "tags": []
            },
            "outputs": [
                {
                    "output_type": "display_data",
                    "data": {
                        "text/html": "Commands completed successfully."
                    },
                    "metadata": {}
                },
                {
                    "output_type": "display_data",
                    "data": {
                        "text/html": "Commands completed successfully."
                    },
                    "metadata": {}
                },
                {
                    "output_type": "display_data",
                    "data": {
                        "text/html": "Commands completed successfully."
                    },
                    "metadata": {}
                },
                {
                    "output_type": "display_data",
                    "data": {
                        "text/html": "Commands completed successfully."
                    },
                    "metadata": {}
                },
                {
                    "output_type": "display_data",
                    "data": {
                        "text/html": "Total execution time: 00:00:00.039"
                    },
                    "metadata": {}
                }
            ],
            "execution_count": 5
        },
        {
            "cell_type": "code",
            "source": [
                "-- uruchamiam procedure wstawiania tresci\r\n",
                "\r\n",
                "USE DB_OKNO;\r\n",
                "go\r\n",
                "\r\n",
                "execute dbo.add_names  '0603' , 1 , 'Klucz', 'CRV - first insert' ;\r\n",
                "go\r\n",
                "\r\n",
                "execute dbo.add_names  '0603' , 1 , 'Klucz', 'CRV - second insert' ;\r\n",
                "go\r\n",
                "\r\n",
                "execute dbo.add_names  '80C051' , 1 , 'Pompa', 'do wody brudnej' ;\r\n",
                "go\r\n",
                "\r\n",
                "execute dbo.add_names  '80C051' , 2 , 'Čerpadlo', 'na špinavou vodu' ;\r\n",
                "go\r\n",
                "\r\n",
                "execute dbo.add_names  '80C051' , 3 , 'Pump', 'for dirty water' ;\r\n",
                "go\r\n",
                "\r\n",
                "execute dbo.add_names  '80C051' , 4 , 'szivattyú', 'piszkos vízhez' ;\r\n",
                "go\r\n",
                "\r\n",
                "execute dbo.add_names  '80C051' , 15 , 'Насос', 'для брудної води' ;\r\n",
                "go\r\n",
                "\r\n",
                "execute dbo.add_names  ' -- Fake -- ' , 1 , ' ??? ', ' ??? ' ;\r\n",
                "go"
            ],
            "metadata": {
                "azdata_cell_guid": "7d1e4090-827a-4b42-9e41-5c8975d11bc9",
                "tags": []
            },
            "outputs": [
                {
                    "output_type": "display_data",
                    "data": {
                        "text/html": "Commands completed successfully."
                    },
                    "metadata": {}
                },
                {
                    "output_type": "display_data",
                    "data": {
                        "text/html": "(1 row affected)"
                    },
                    "metadata": {}
                },
                {
                    "output_type": "display_data",
                    "data": {
                        "text/html": "(1 row affected)"
                    },
                    "metadata": {}
                },
                {
                    "output_type": "display_data",
                    "data": {
                        "text/html": "(1 row affected)"
                    },
                    "metadata": {}
                },
                {
                    "output_type": "display_data",
                    "data": {
                        "text/html": "(1 row affected)"
                    },
                    "metadata": {}
                },
                {
                    "output_type": "display_data",
                    "data": {
                        "text/html": "(1 row affected)"
                    },
                    "metadata": {}
                },
                {
                    "output_type": "display_data",
                    "data": {
                        "text/html": "(1 row affected)"
                    },
                    "metadata": {}
                },
                {
                    "output_type": "display_data",
                    "data": {
                        "text/html": "(1 row affected)"
                    },
                    "metadata": {}
                },
                {
                    "output_type": "display_data",
                    "data": {
                        "text/html": "Commands completed successfully."
                    },
                    "metadata": {}
                },
                {
                    "output_type": "display_data",
                    "data": {
                        "text/html": "Total execution time: 00:00:00.145"
                    },
                    "metadata": {}
                }
            ],
            "execution_count": 6
        },
        {
            "cell_type": "code",
            "source": [
                "use DB_OKNO;\r\n",
                "GO\r\n",
                "\r\n",
                "DROP TABLE IF EXISTS prices;\r\n",
                "go\r\n",
                "\r\n",
                "CREATE TABLE prices (\r\n",
                "    ID_code  BIGINT NOT NULL,\r\n",
                "    ID_lang  BIGINT NOT NULL,\r\n",
                "    ID_issue BIGINT NOT NULL,\r\n",
                "\r\n",
                "    price DECIMAL(10,2),\r\n",
                "    promo DECIMAL(10,2)\r\n",
                "    \r\n",
                "    PRIMARY KEY ( ID_code , ID_lang , ID_issue ),\r\n",
                "    FOREIGN KEY ( ID_code ) REFERENCES dbo.code( ID_code ),\r\n",
                "\tFOREIGN KEY ( ID_lang ) REFERENCES dbo.lang( ID_lang ),\r\n",
                "\tFOREIGN KEY ( ID_issue ) REFERENCES dbo.issue ( ID_issue ),    \r\n",
                ");\r\n",
                "go  \r\n",
                "\r\n",
                "\r\n",
                "-- INSERT PROCEDURE \r\n",
                "CREATE OR ALTER PROCEDURE dbo.addprices\r\n",
                "    @code_string varchar(32),\r\n",
                "    @lang_id BIGINT,\r\n",
                "    @issue_id BIGINT,    \r\n",
                "\r\n",
                "    @i_price DECIMAL(10,2),\r\n",
                "    @i_promo DECIMAL(10,2)\r\n",
                "AS\r\n",
                "BEGIN\r\n",
                "    DECLARE @cID BIGINT = NULL;\r\n",
                "    SET @cID = ( dbo.getIdByCode( @code_string ));  \r\n",
                "    IF @cID IS NULL RETURN;   \r\n",
                "        INSERT INTO prices ( ID_code , ID_lang , ID_issue, price, promo ) VALUES ( @cID, @lang_id , @issue_id , @i_price, @i_promo );  \r\n",
                "END;\r\n",
                "go"
            ],
            "metadata": {
                "azdata_cell_guid": "c4565d96-12a2-46fb-83f0-c1ef174d28cb",
                "tags": []
            },
            "outputs": [
                {
                    "output_type": "display_data",
                    "data": {
                        "text/html": "Commands completed successfully."
                    },
                    "metadata": {}
                },
                {
                    "output_type": "display_data",
                    "data": {
                        "text/html": "Commands completed successfully."
                    },
                    "metadata": {}
                },
                {
                    "output_type": "display_data",
                    "data": {
                        "text/html": "Commands completed successfully."
                    },
                    "metadata": {}
                },
                {
                    "output_type": "display_data",
                    "data": {
                        "text/html": "Commands completed successfully."
                    },
                    "metadata": {}
                },
                {
                    "output_type": "display_data",
                    "data": {
                        "text/html": "Total execution time: 00:00:00.177"
                    },
                    "metadata": {}
                }
            ],
            "execution_count": 7
        },
        {
            "cell_type": "code",
            "source": [
                "use DB_OKNO;\r\n",
                "GO\r\n",
                "\r\n",
                "Declare @Issue BIGINT = 2\r\n",
                "Declare @Lang BIGINT = 1 -- 1=PL, 2=CZ, 3=EN, 15=UA\r\n",
                "\r\n",
                "EXEC dbo.addprices '80C051' , @Lang , @Issue , 3.21 , 2.99 ;\r\n",
                "EXEC dbo.addprices '80C052' , @Lang , @Issue , 4.21 , 3.99 ;\r\n",
                "EXEC dbo.addprices '0602' , @Lang , @Issue , 5.21 , 4.99 ;\r\n",
                "EXEC dbo.addprices '0603' , @Lang , @Issue , 6.21 , 4.99 ;\r\n",
                "EXEC dbo.addprices 'DED780911' , @Lang , @Issue , 7.21 , 5.99 ;\r\n",
                "EXEC dbo.addprices 'DED780912' , @Lang , @Issue , 8.21 , 6.99 ;\r\n",
                "EXEC dbo.addprices 'DED780920' , @Lang , @Issue , 11.21 , 8.99 ;\r\n",
                " "
            ],
            "metadata": {
                "azdata_cell_guid": "05fcb847-dcde-426f-8bbf-21a5d72af4a9",
                "tags": []
            },
            "outputs": [
                {
                    "output_type": "display_data",
                    "data": {
                        "text/html": "Commands completed successfully."
                    },
                    "metadata": {}
                },
                {
                    "output_type": "display_data",
                    "data": {
                        "text/html": "(1 row affected)"
                    },
                    "metadata": {}
                },
                {
                    "output_type": "display_data",
                    "data": {
                        "text/html": "(1 row affected)"
                    },
                    "metadata": {}
                },
                {
                    "output_type": "display_data",
                    "data": {
                        "text/html": "(1 row affected)"
                    },
                    "metadata": {}
                },
                {
                    "output_type": "display_data",
                    "data": {
                        "text/html": "(1 row affected)"
                    },
                    "metadata": {}
                },
                {
                    "output_type": "display_data",
                    "data": {
                        "text/html": "(1 row affected)"
                    },
                    "metadata": {}
                },
                {
                    "output_type": "display_data",
                    "data": {
                        "text/html": "(1 row affected)"
                    },
                    "metadata": {}
                },
                {
                    "output_type": "display_data",
                    "data": {
                        "text/html": "(1 row affected)"
                    },
                    "metadata": {}
                },
                {
                    "output_type": "display_data",
                    "data": {
                        "text/html": "Total execution time: 00:00:00.033"
                    },
                    "metadata": {}
                }
            ],
            "execution_count": 8
        },
        {
            "cell_type": "code",
            "source": [
                "use DB_OKNO;\r\n",
                "GO\r\n",
                "\r\n",
                "DROP TABLE IF EXISTS product_list;\r\n",
                "go\r\n",
                "\r\n",
                "CREATE TABLE product_list (\r\n",
                "    ID_code  BIGINT NOT NULL,\r\n",
                "    ID_issue BIGINT NOT NULL,\r\n",
                "\r\n",
                "    on_page TINYINT,\r\n",
                "    \r\n",
                "    PRIMARY KEY ( ID_code , ID_issue ),\r\n",
                "    FOREIGN KEY ( ID_code ) REFERENCES dbo.code( ID_code ),\r\n",
                "    FOREIGN KEY ( ID_issue ) REFERENCES dbo.issue ( ID_issue ) \r\n",
                ");\r\n",
                "go  \r\n",
                "\r\n",
                "\r\n",
                "-- INSERT PROCEDURE \r\n",
                "CREATE OR ALTER PROCEDURE dbo.add_product_to_list\r\n",
                "    @code_string varchar(32),\r\n",
                "    @issue_id BIGINT,    \r\n",
                "\r\n",
                "    @i_page TINYINT\r\n",
                "AS\r\n",
                "BEGIN\r\n",
                "    DECLARE @cID BIGINT = NULL;\r\n",
                "    SET @cID = ( dbo.getIdByCode( @code_string ));  \r\n",
                "    IF @cID IS NULL RETURN;   \r\n",
                "        INSERT INTO product_list ( ID_code , ID_issue, on_page ) VALUES ( @cID , @issue_id , @i_page );  \r\n",
                "END;\r\n",
                "go"
            ],
            "metadata": {
                "azdata_cell_guid": "194b09dc-8681-4e3b-afda-ab38fb8d4efe",
                "tags": []
            },
            "outputs": [
                {
                    "output_type": "display_data",
                    "data": {
                        "text/html": "Commands completed successfully."
                    },
                    "metadata": {}
                },
                {
                    "output_type": "display_data",
                    "data": {
                        "text/html": "Commands completed successfully."
                    },
                    "metadata": {}
                },
                {
                    "output_type": "display_data",
                    "data": {
                        "text/html": "Commands completed successfully."
                    },
                    "metadata": {}
                },
                {
                    "output_type": "display_data",
                    "data": {
                        "text/html": "Commands completed successfully."
                    },
                    "metadata": {}
                },
                {
                    "output_type": "display_data",
                    "data": {
                        "text/html": "Total execution time: 00:00:00.066"
                    },
                    "metadata": {}
                }
            ],
            "execution_count": 9
        },
        {
            "cell_type": "code",
            "source": [
                "use DB_OKNO;\r\n",
                "GO\r\n",
                "\r\n",
                "Declare @Issue BIGINT = 2\r\n",
                "\r\n",
                "EXEC dbo.add_product_to_list '80C051'  , @Issue  , 2 ;\r\n",
                "EXEC dbo.add_product_to_list '80C052'  , @Issue  , 2 ;\r\n",
                "EXEC dbo.add_product_to_list '0602'    , @Issue  , 2 ;\r\n",
                "EXEC dbo.add_product_to_list '0603'    , @Issue  , 2 ;\r\n",
                "EXEC dbo.add_product_to_list 'DED780911', @Issue , 2 ;\r\n",
                "EXEC dbo.add_product_to_list 'DED780912', @Issue , 2 ;\r\n",
                "EXEC dbo.add_product_to_list 'DED780920', @Issue , 2 ;"
            ],
            "metadata": {
                "azdata_cell_guid": "c31d9e75-d1ff-4c16-927c-cc7a10743698",
                "tags": []
            },
            "outputs": [
                {
                    "output_type": "display_data",
                    "data": {
                        "text/html": "Commands completed successfully."
                    },
                    "metadata": {}
                },
                {
                    "output_type": "display_data",
                    "data": {
                        "text/html": "(1 row affected)"
                    },
                    "metadata": {}
                },
                {
                    "output_type": "display_data",
                    "data": {
                        "text/html": "(1 row affected)"
                    },
                    "metadata": {}
                },
                {
                    "output_type": "display_data",
                    "data": {
                        "text/html": "(1 row affected)"
                    },
                    "metadata": {}
                },
                {
                    "output_type": "display_data",
                    "data": {
                        "text/html": "(1 row affected)"
                    },
                    "metadata": {}
                },
                {
                    "output_type": "display_data",
                    "data": {
                        "text/html": "(1 row affected)"
                    },
                    "metadata": {}
                },
                {
                    "output_type": "display_data",
                    "data": {
                        "text/html": "(1 row affected)"
                    },
                    "metadata": {}
                },
                {
                    "output_type": "display_data",
                    "data": {
                        "text/html": "(1 row affected)"
                    },
                    "metadata": {}
                },
                {
                    "output_type": "display_data",
                    "data": {
                        "text/html": "Total execution time: 00:00:00.052"
                    },
                    "metadata": {}
                }
            ],
            "execution_count": 10
        },
        {
            "cell_type": "code",
            "source": [
                "use DB_OKNO;\r\n",
                "GO\r\n",
                "\r\n",
                "DROP TABLE IF EXISTS product_list;\r\n",
                "go\r\n",
                "\r\n",
                "CREATE TABLE product_list (\r\n",
                "    ID_code  BIGINT NOT NULL,\r\n",
                "    ID_issue BIGINT NOT NULL,\r\n",
                "\r\n",
                "    on_page TINYINT,\r\n",
                "    \r\n",
                "    PRIMARY KEY ( ID_code , ID_issue ),\r\n",
                "    FOREIGN KEY ( ID_code ) REFERENCES dbo.code( ID_code ),\r\n",
                "    FOREIGN KEY ( ID_issue ) REFERENCES dbo.issue ( ID_issue ), \r\n",
                ");\r\n",
                "go  \r\n",
                "\r\n",
                "\r\n",
                "-- INSERT PROCEDURE \r\n",
                "CREATE OR ALTER PROCEDURE dbo.add_product_to_list\r\n",
                "    @code_string varchar(32),\r\n",
                "    @issue_id BIGINT,    \r\n",
                "\r\n",
                "    @i_page TINYINT\r\n",
                "AS\r\n",
                "BEGIN\r\n",
                "    DECLARE @cID BIGINT = NULL;\r\n",
                "    SET @cID = ( dbo.getIdByCode( @code_string ));  \r\n",
                "    IF @cID IS NULL RETURN;   \r\n",
                "        INSERT INTO product_list ( ID_code , ID_issue, on_page ) VALUES ( @cID , @issue_id , @i_page );  \r\n",
                "END;\r\n",
                "go"
            ],
            "metadata": {
                "azdata_cell_guid": "f15db034-6160-4bb3-adb0-77f99054cf5e",
                "tags": []
            },
            "outputs": [
                {
                    "output_type": "display_data",
                    "data": {
                        "text/html": "Commands completed successfully."
                    },
                    "metadata": {}
                },
                {
                    "output_type": "display_data",
                    "data": {
                        "text/html": "Commands completed successfully."
                    },
                    "metadata": {}
                },
                {
                    "output_type": "display_data",
                    "data": {
                        "text/html": "Commands completed successfully."
                    },
                    "metadata": {}
                },
                {
                    "output_type": "display_data",
                    "data": {
                        "text/html": "Commands completed successfully."
                    },
                    "metadata": {}
                },
                {
                    "output_type": "display_data",
                    "data": {
                        "text/html": "Total execution time: 00:00:00.046"
                    },
                    "metadata": {}
                }
            ],
            "execution_count": 11
        },
        {
            "cell_type": "code",
            "source": [
                "use DB_OKNO;\r\n",
                "GO\r\n",
                "\r\n",
                "DROP TABLE IF EXISTS params;\r\n",
                "go\r\n",
                "\r\n",
                "CREATE TABLE params (\r\n",
                "    ID_code BIGINT NOT NULL,\r\n",
                "    ID_icon BIGINT NOT NULL,\r\n",
                "\r\n",
                "    num_value DECIMAL (24,12),\r\n",
                "    string_value nVARCHAR(255),\r\n",
                "    ID_unit BIGINT NOT NULL\r\n",
                "    \r\n",
                "    PRIMARY KEY ( ID_code , ID_icon )\r\n",
                "    FOREIGN KEY ( ID_code ) REFERENCES dbo.code( ID_code ),\r\n",
                "    FOREIGN KEY ( ID_icon ) REFERENCES dbo.icon( ID_icon ),\r\n",
                "    FOREIGN KEY ( ID_unit ) REFERENCES dbo.units( ID_unit )\r\n",
                "\r\n",
                ");\r\n",
                "go  \r\n",
                "\r\n",
                "INSERT INTO params (ID_code, ID_icon, num_value, string_value, ID_unit) VALUES (   dbo.getIdByCode( '80C051' ), 1, 120, NULL , 9 );\r\n",
                "INSERT INTO params (ID_code, ID_icon, num_value, string_value, ID_unit) VALUES (   dbo.getIdByCode( '80C052' ), 1, 90, NULL , 9 );\r\n",
                "INSERT INTO params (ID_code, ID_icon, num_value, string_value, ID_unit) VALUES (   dbo.getIdByCode( '80C051' ), 3, NULL, NULL , 1);\r\n",
                "INSERT INTO params (ID_code, ID_icon, num_value, string_value, ID_unit) VALUES (   dbo.getIdByCode( '80C052' ), 3, NULL, NULL , 1 );"
            ],
            "metadata": {
                "azdata_cell_guid": "ec561da0-0027-435e-a81d-39490ae6d41f",
                "tags": []
            },
            "outputs": [
                {
                    "output_type": "display_data",
                    "data": {
                        "text/html": "Commands completed successfully."
                    },
                    "metadata": {}
                },
                {
                    "output_type": "display_data",
                    "data": {
                        "text/html": "Commands completed successfully."
                    },
                    "metadata": {}
                },
                {
                    "output_type": "display_data",
                    "data": {
                        "text/html": "Commands completed successfully."
                    },
                    "metadata": {}
                },
                {
                    "output_type": "display_data",
                    "data": {
                        "text/html": "(1 row affected)"
                    },
                    "metadata": {}
                },
                {
                    "output_type": "display_data",
                    "data": {
                        "text/html": "(1 row affected)"
                    },
                    "metadata": {}
                },
                {
                    "output_type": "display_data",
                    "data": {
                        "text/html": "(1 row affected)"
                    },
                    "metadata": {}
                },
                {
                    "output_type": "display_data",
                    "data": {
                        "text/html": "(1 row affected)"
                    },
                    "metadata": {}
                },
                {
                    "output_type": "display_data",
                    "data": {
                        "text/html": "Total execution time: 00:00:00.070"
                    },
                    "metadata": {}
                }
            ],
            "execution_count": 12
        },
        {
            "cell_type": "code",
            "source": [
                "USE DB_OKNO;\r\n",
                "GO\r\n",
                "\r\n",
                "\r\n",
                "CREATE OR ALTER FUNCTION dbo.getproductparams (\r\n",
                "    @i_code BIGINT , @i_lang BIGINT  )  RETURNS TABLE\r\n",
                "AS\r\n",
                "RETURN \r\n",
                "\r\n",
                "\r\n",
                "  SELECT P.ID_icon AS [icon], P.string_value AS [string], P.num_value AS [value], U.unit_code, U.multi,  \r\n",
                "         I.icon_name AS [PL_name], \r\n",
                "         I.paper, I.catal, I.shipping, I.rack  \r\n",
                "    FROM dbo.params AS P\r\n",
                "\r\n",
                "    JOIN dbo.icon AS I ON ( P.ID_icon=I.ID_icon )\r\n",
                "    JOIN dbo.units AS U ON ( P.ID_unit=U.ID_unit )\r\n",
                "\r\n",
                "\r\n",
                "WHERE ( P.ID_code=@i_code )\r\n",
                "\r\n",
                "/*\r\n",
                "\r\n",
                "\r\n",
                "\r\n",
                "    SELECT \r\n",
                "        N.i_name, N.i_description, \r\n",
                "        P.price, P.promo  \r\n",
                "    FROM dbo.indd_names AS N \r\n",
                "    \r\n",
                "    JOIN \r\n",
                "      dbo.prices AS P ON ( P.ID_code=@i_code AND P.ID_lang=@i_lang  )\r\n",
                "\r\n",
                "\r\n",
                "\r\n",
                "\r\n",
                "    WHERE ( N.ID_code=@i_code AND N.ID_lang=@i_lang )\r\n",
                ";\r\n",
                "*/\r\n",
                "GO \r\n",
                "\r\n",
                "\r\n",
                "SELECT * FROM dbo.getproductparams( dbo.getIdByCode( '80C052' ) , 1  );\r\n",
                "SELECT * FROM dbo.getproductparams( dbo.getIdByCode( '80C051' ) , 1  );\r\n",
                ""
            ],
            "metadata": {
                "azdata_cell_guid": "745f0004-53de-493b-9a44-b23a2255342c"
            },
            "outputs": [
                {
                    "output_type": "display_data",
                    "data": {
                        "text/html": "Commands completed successfully."
                    },
                    "metadata": {}
                },
                {
                    "output_type": "display_data",
                    "data": {
                        "text/html": "Commands completed successfully."
                    },
                    "metadata": {}
                },
                {
                    "output_type": "display_data",
                    "data": {
                        "text/html": "(2 rows affected)"
                    },
                    "metadata": {}
                },
                {
                    "output_type": "display_data",
                    "data": {
                        "text/html": "(2 rows affected)"
                    },
                    "metadata": {}
                },
                {
                    "output_type": "display_data",
                    "data": {
                        "text/html": "Total execution time: 00:00:00.033"
                    },
                    "metadata": {}
                },
                {
                    "output_type": "execute_result",
                    "metadata": {},
                    "execution_count": 39,
                    "data": {
                        "application/vnd.dataresource+json": {
                            "schema": {
                                "fields": [
                                    {
                                        "name": "icon"
                                    },
                                    {
                                        "name": "string"
                                    },
                                    {
                                        "name": "value"
                                    },
                                    {
                                        "name": "unit_code"
                                    },
                                    {
                                        "name": "multi"
                                    },
                                    {
                                        "name": "PL_name"
                                    },
                                    {
                                        "name": "paper"
                                    },
                                    {
                                        "name": "catal"
                                    },
                                    {
                                        "name": "shipping"
                                    },
                                    {
                                        "name": "rack"
                                    }
                                ]
                            },
                            "data": [
                                {
                                    "0": "1",
                                    "1": "NULL",
                                    "2": "90.000000000000",
                                    "3": "W",
                                    "4": "1.000000000000",
                                    "5": "Moc silnika elektycznego",
                                    "6": "0",
                                    "7": "0",
                                    "8": "0",
                                    "9": "1"
                                },
                                {
                                    "0": "3",
                                    "1": "NULL",
                                    "2": "NULL",
                                    "3": "[ NONE ]",
                                    "4": "1.000000000000",
                                    "5": "Silnik bezszczotkowy",
                                    "6": "0",
                                    "7": "1",
                                    "8": "0",
                                    "9": "0"
                                }
                            ]
                        },
                        "text/html": [
                            "<table>",
                            "<tr><th>icon</th><th>string</th><th>value</th><th>unit_code</th><th>multi</th><th>PL_name</th><th>paper</th><th>catal</th><th>shipping</th><th>rack</th></tr>",
                            "<tr><td>1</td><td>NULL</td><td>90.000000000000</td><td>W</td><td>1.000000000000</td><td>Moc silnika elektycznego</td><td>0</td><td>0</td><td>0</td><td>1</td></tr>",
                            "<tr><td>3</td><td>NULL</td><td>NULL</td><td>[ NONE ]</td><td>1.000000000000</td><td>Silnik bezszczotkowy</td><td>0</td><td>1</td><td>0</td><td>0</td></tr>",
                            "</table>"
                        ]
                    }
                },
                {
                    "output_type": "execute_result",
                    "metadata": {},
                    "execution_count": 39,
                    "data": {
                        "application/vnd.dataresource+json": {
                            "schema": {
                                "fields": [
                                    {
                                        "name": "icon"
                                    },
                                    {
                                        "name": "string"
                                    },
                                    {
                                        "name": "value"
                                    },
                                    {
                                        "name": "unit_code"
                                    },
                                    {
                                        "name": "multi"
                                    },
                                    {
                                        "name": "PL_name"
                                    },
                                    {
                                        "name": "paper"
                                    },
                                    {
                                        "name": "catal"
                                    },
                                    {
                                        "name": "shipping"
                                    },
                                    {
                                        "name": "rack"
                                    }
                                ]
                            },
                            "data": [
                                {
                                    "0": "1",
                                    "1": "NULL",
                                    "2": "120.000000000000",
                                    "3": "W",
                                    "4": "1.000000000000",
                                    "5": "Moc silnika elektycznego",
                                    "6": "0",
                                    "7": "0",
                                    "8": "0",
                                    "9": "1"
                                },
                                {
                                    "0": "3",
                                    "1": "NULL",
                                    "2": "NULL",
                                    "3": "[ NONE ]",
                                    "4": "1.000000000000",
                                    "5": "Silnik bezszczotkowy",
                                    "6": "0",
                                    "7": "1",
                                    "8": "0",
                                    "9": "0"
                                }
                            ]
                        },
                        "text/html": [
                            "<table>",
                            "<tr><th>icon</th><th>string</th><th>value</th><th>unit_code</th><th>multi</th><th>PL_name</th><th>paper</th><th>catal</th><th>shipping</th><th>rack</th></tr>",
                            "<tr><td>1</td><td>NULL</td><td>120.000000000000</td><td>W</td><td>1.000000000000</td><td>Moc silnika elektycznego</td><td>0</td><td>0</td><td>0</td><td>1</td></tr>",
                            "<tr><td>3</td><td>NULL</td><td>NULL</td><td>[ NONE ]</td><td>1.000000000000</td><td>Silnik bezszczotkowy</td><td>0</td><td>1</td><td>0</td><td>0</td></tr>",
                            "</table>"
                        ]
                    }
                }
            ],
            "execution_count": 39
        },
        {
            "cell_type": "code",
            "source": [
                "USE DB_OKNO;\r\n",
                "GO\r\n",
                "\r\n",
                "\r\n",
                "CREATE OR ALTER FUNCTION dbo.getproduct (\r\n",
                "    @i_code BIGINT , @i_lang BIGINT , @i_issue BIGINT )  RETURNS TABLE\r\n",
                "AS\r\n",
                "RETURN \r\n",
                "    SELECT N.i_name, N.i_description, P.price, P.promo  \r\n",
                "    FROM dbo.indd_names AS N \r\n",
                "    \r\n",
                "    JOIN \r\n",
                "      dbo.prices AS P ON ( P.ID_code=@i_code AND P.ID_lang=@i_lang AND P.ID_issue=@i_issue )\r\n",
                "\r\n",
                "    WHERE ( N.ID_code=@i_code AND N.ID_lang=@i_lang );\r\n",
                "\r\n",
                "GO \r\n",
                "\r\n",
                "\r\n",
                "SELECT * FROM dbo.getproduct( dbo.getIdByCode( '80C051' ) , 1 , 2 );\r\n",
                "\r\n",
                ""
            ],
            "metadata": {
                "azdata_cell_guid": "34d5d396-b7f0-4c4c-a54f-4d2c9cfb47aa"
            },
            "outputs": [
                {
                    "output_type": "display_data",
                    "data": {
                        "text/html": "Commands completed successfully."
                    },
                    "metadata": {}
                },
                {
                    "output_type": "display_data",
                    "data": {
                        "text/html": "Commands completed successfully."
                    },
                    "metadata": {}
                },
                {
                    "output_type": "display_data",
                    "data": {
                        "text/html": "(1 row affected)"
                    },
                    "metadata": {}
                },
                {
                    "output_type": "display_data",
                    "data": {
                        "text/html": "Total execution time: 00:00:00.020"
                    },
                    "metadata": {}
                },
                {
                    "output_type": "execute_result",
                    "metadata": {},
                    "execution_count": 45,
                    "data": {
                        "application/vnd.dataresource+json": {
                            "schema": {
                                "fields": [
                                    {
                                        "name": "i_name"
                                    },
                                    {
                                        "name": "i_description"
                                    },
                                    {
                                        "name": "price"
                                    },
                                    {
                                        "name": "promo"
                                    }
                                ]
                            },
                            "data": [
                                {
                                    "0": "Pompa",
                                    "1": "do wody brudnej",
                                    "2": "3.21",
                                    "3": "2.99"
                                }
                            ]
                        },
                        "text/html": [
                            "<table>",
                            "<tr><th>i_name</th><th>i_description</th><th>price</th><th>promo</th></tr>",
                            "<tr><td>Pompa</td><td>do wody brudnej</td><td>3.21</td><td>2.99</td></tr>",
                            "</table>"
                        ]
                    }
                }
            ],
            "execution_count": 45
        }
    ]
}