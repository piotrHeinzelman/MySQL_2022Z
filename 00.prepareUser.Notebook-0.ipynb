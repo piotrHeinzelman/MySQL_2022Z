{
    "metadata": {
        "kernelspec": {
            "name": "SQL",
            "display_name": "SQL",
            "language": "sql"
        },
        "language_info": {
            "name": "sql",
            "version": ""
        },
        "extensions": {
            "azuredatastudio": {
                "version": 1,
                "views": []
            }
        }
    },
    "nbformat_minor": 2,
    "nbformat": 4,
    "cells": [
        {
            "cell_type": "markdown",
            "source": [
                "1\\. rozglądam sie po systemie, sprawdzam użytkowników, bazy"
            ],
            "metadata": {
                "azdata_cell_guid": "b81fa58d-9e6d-4d10-b9a3-8ca8adfee1c1"
            },
            "attachments": {}
        },
        {
            "cell_type": "code",
            "source": [
                "use master;\r\n",
                "select [name] from master.sys.databases;\r\n",
                "-- select [name] from master.sys.sql_logins;"
            ],
            "metadata": {
                "azdata_cell_guid": "ec3d38d4-290a-4476-83d1-4769fae70602",
                "tags": []
            },
            "outputs": [
                {
                    "output_type": "display_data",
                    "data": {
                        "text/html": "(4 rows affected)"
                    },
                    "metadata": {}
                },
                {
                    "output_type": "display_data",
                    "data": {
                        "text/html": "Total execution time: 00:00:00.177"
                    },
                    "metadata": {}
                },
                {
                    "output_type": "execute_result",
                    "metadata": {},
                    "execution_count": 1,
                    "data": {
                        "application/vnd.dataresource+json": {
                            "schema": {
                                "fields": [
                                    {
                                        "name": "name"
                                    }
                                ]
                            },
                            "data": [
                                {
                                    "0": "master"
                                },
                                {
                                    "0": "tempdb"
                                },
                                {
                                    "0": "model"
                                },
                                {
                                    "0": "msdb"
                                }
                            ]
                        },
                        "text/html": [
                            "<table>",
                            "<tr><th>name</th></tr>",
                            "<tr><td>master</td></tr>",
                            "<tr><td>tempdb</td></tr>",
                            "<tr><td>model</td></tr>",
                            "<tr><td>msdb</td></tr>",
                            "</table>"
                        ]
                    }
                }
            ],
            "execution_count": 1
        },
        {
            "cell_type": "markdown",
            "source": [
                "2\\. zakładam bazę"
            ],
            "metadata": {
                "azdata_cell_guid": "b1011f23-5f89-4cc8-ba93-6d431ee10f5e"
            },
            "attachments": {}
        },
        {
            "cell_type": "code",
            "source": [
                "IF EXISTS (SELECT [name] FROM master.sys.sysdatabases WHERE name = 'DB_OKNO')\r\n",
                "    BEGIN\r\n",
                "    PRINT 'baza DB_OKNO istnieje';    \r\n",
                "    DROP DATABASE DB_OKNO;\r\n",
                "    PRINT 'baza usunieta';\r\n",
                "    END\r\n",
                "\r\n",
                "CREATE DATABASE DB_OKNO \r\n",
                "    ON PRIMARY (\r\n",
                "        name=okno,\r\n",
                "        filename='/var/opt/mssql/data/okno.mdf',\r\n",
                "        size=20MB,\r\n",
                "        maxsize=50MB,\r\n",
                "        filegrowth=10MB\r\n",
                "    )\r\n",
                "    LOG ON (\r\n",
                "        name=okno_log,\r\n",
                "        filename='/var/opt/mssql/data/okno.ldf',\r\n",
                "        size=20MB,\r\n",
                "        maxsize=50MB,\r\n",
                "        filegrowth=10MB\r\n",
                "    )\r\n",
                "    COLLATE POLISH_100_CI_AS_SC_UTF8\r\n",
                "    GO\r\n",
                "    \r\n",
                "\r\n",
                "    "
            ],
            "metadata": {
                "azdata_cell_guid": "9a6ae663-a014-4432-b778-0af43c0fea22",
                "tags": []
            },
            "outputs": [
                {
                    "output_type": "display_data",
                    "data": {
                        "text/html": "baza DB_OKNO istnieje"
                    },
                    "metadata": {}
                },
                {
                    "output_type": "display_data",
                    "data": {
                        "text/html": "baza usunieta"
                    },
                    "metadata": {}
                },
                {
                    "output_type": "display_data",
                    "data": {
                        "text/html": "Total execution time: 00:00:03.541"
                    },
                    "metadata": {}
                }
            ],
            "execution_count": 3
        },
        {
            "cell_type": "markdown",
            "source": [
                "dodaję tabele"
            ],
            "metadata": {
                "azdata_cell_guid": "c367cb2a-1491-41f4-a6c8-cb19636c6669"
            },
            "attachments": {}
        },
        {
            "cell_type": "code",
            "source": [
                "use DB_OKNO\r\n",
                "GO\r\n",
                "\r\n",
                "/* *** slowniki *** */\r\n",
                "DROP TABLE IF EXISTS lang;\r\n",
                "DROP TABLE IF EXISTS issue;\r\n",
                "DROP TABLE IF EXISTS code;\r\n",
                "DROP TABLE IF EXISTS category;\r\n",
                "\r\n",
                "go\r\n",
                "CREATE TABLE category (\r\n",
                "    ID_category DECIMAL(10) NOT NULL ,\r\n",
                "    category_name varchar(32)\r\n",
                "\r\n",
                "    PRIMARY KEY ( ID_category )\r\n",
                "\r\n",
                ");\r\n",
                "go\r\n",
                "/*\r\n",
                "INSERT INTO category VALUES( 10000 , 'Kosiarki'); \r\n",
                "INSERT INTO category VALUES( 10001 , '- Kosiarki spalinowe'); \r\n",
                "INSERT INTO category VALUES( 10002 , '- Kosiarki elektryczne'); \r\n",
                "*/\r\n",
                "\r\n",
                "\r\n",
                "\r\n",
                "CREATE TABLE code (\r\n",
                "    ID_code BIGINT NOT NULL IDENTITY ,\r\n",
                "    code_string varchar(32),\r\n",
                "    EAN CHAR(13), -- po EAN (w tym rozwiazaniu) nie wyszukujemy, są EAN zaczynające się od 0 dlatego CHAR a nie BIGINT/DECIMAL(13)\r\n",
                "    active BIT NOT NULL DEFAULT 1,\r\n",
                "    category DECIMAL(10),\r\n",
                "\r\n",
                "    PRIMARY KEY ( ID_code ),\r\n",
                "    FOREIGN KEY ( category ) REFERENCES category( ID_category )\r\n",
                "    ON DELETE CASCADE\r\n",
                "    ON UPDATE CASCADE\r\n",
                ");\r\n",
                "go\r\n",
                "\r\n",
                "/*\r\n",
                "INSERT INTO code ( code_string ) VALUES ( '80C051' );  \r\n",
                "INSERT INTO code ( code_string ) VALUES ( '80C052' );\r\n",
                "\r\n",
                "INSERT INTO code ( code_string ) VALUES ( '0602'); \r\n",
                "INSERT INTO code ( code_string ) VALUES ( '0603');  \r\n",
                "\r\n",
                "INSERT INTO code ( code_string ) VALUES ( 'DED780911');  \r\n",
                "INSERT INTO code ( code_string ) VALUES ( 'DED780912');  \r\n",
                "INSERT INTO code ( code_string ) VALUES ( 'DED780920');\r\n",
                "*/\r\n",
                "\r\n",
                "\r\n",
                "\r\n",
                "CREATE TABLE issue (\r\n",
                "    ID_issue BIGINT NOT NULL IDENTITY ,\r\n",
                "    issue_name varchar(255) NOT NULL \r\n",
                "\r\n",
                "    PRIMARY KEY ( ID_issue )\r\n",
                ");\r\n",
                "go\r\n",
                "\r\n",
                "CREATE TABLE lang (\r\n",
                "    ID_lang BIGINT NOT NULL,\r\n",
                "    lang_code char(2) NOT NULL,\r\n",
                "    currency  nchar(2) NOT NULL,\r\n",
                "    zeros   int NOT NULL,\r\n",
                "    table_header nvarchar(255),\r\n",
                "\r\n",
                "    PRIMARY KEY ( ID_lang )\r\n",
                ");\r\n",
                "go\r\n",
                "\r\n",
                "    INSERT INTO lang VALUES (1,'PL','zł',2,'nr. kat.|%|cena|promocja');\r\n",
                "    INSERT INTO lang VALUES (2,'CZ','Kč',1,'kat. č.|popis|cena|akční cena');\r\n",
                "    INSERT INTO lang VALUES (3,'EN','€',2, 'cat. no.|description|price|promo price');\r\n",
                "    INSERT INTO lang VALUES (4,'HU','Ft',0,'cikkszám|leírás|ár|akciós ár');\r\n",
                "    -- ****\r\n",
                "    INSERT INTO lang VALUES (15,'UA','€',2,'Код|опис|ціна|акційна ціна');\r\n",
                ""
            ],
            "metadata": {
                "azdata_cell_guid": "d13ae95e-f30a-4abf-ab62-a45b35b3dc21"
            },
            "outputs": [
                {
                    "output_type": "display_data",
                    "data": {
                        "text/html": "Commands completed successfully."
                    },
                    "metadata": {}
                },
                {
                    "output_type": "display_data",
                    "data": {
                        "text/html": "Commands completed successfully."
                    },
                    "metadata": {}
                },
                {
                    "output_type": "display_data",
                    "data": {
                        "text/html": "Commands completed successfully."
                    },
                    "metadata": {}
                },
                {
                    "output_type": "display_data",
                    "data": {
                        "text/html": "Commands completed successfully."
                    },
                    "metadata": {}
                },
                {
                    "output_type": "display_data",
                    "data": {
                        "text/html": "Commands completed successfully."
                    },
                    "metadata": {}
                },
                {
                    "output_type": "display_data",
                    "data": {
                        "text/html": "Commands completed successfully."
                    },
                    "metadata": {}
                },
                {
                    "output_type": "display_data",
                    "data": {
                        "text/html": "(1 row affected)"
                    },
                    "metadata": {}
                },
                {
                    "output_type": "display_data",
                    "data": {
                        "text/html": "(1 row affected)"
                    },
                    "metadata": {}
                },
                {
                    "output_type": "display_data",
                    "data": {
                        "text/html": "(1 row affected)"
                    },
                    "metadata": {}
                },
                {
                    "output_type": "display_data",
                    "data": {
                        "text/html": "(1 row affected)"
                    },
                    "metadata": {}
                },
                {
                    "output_type": "display_data",
                    "data": {
                        "text/html": "(1 row affected)"
                    },
                    "metadata": {}
                },
                {
                    "output_type": "display_data",
                    "data": {
                        "text/html": "Total execution time: 00:00:00.083"
                    },
                    "metadata": {}
                }
            ],
            "execution_count": 58
        }
    ]
}