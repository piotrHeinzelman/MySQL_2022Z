{
    "metadata": {
        "kernelspec": {
            "name": "SQL",
            "display_name": "SQL",
            "language": "sql"
        },
        "language_info": {
            "name": "sql",
            "version": ""
        },
        "extensions": {
            "azuredatastudio": {
                "version": 1,
                "views": []
            }
        }
    },
    "nbformat_minor": 2,
    "nbformat": 4,
    "cells": [
        {
            "cell_type": "markdown",
            "source": [
                "1\\. rozglądam sie po systemie, sprawdzam użytkowników, bazy"
            ],
            "metadata": {
                "azdata_cell_guid": "b81fa58d-9e6d-4d10-b9a3-8ca8adfee1c1"
            },
            "attachments": {}
        },
        {
            "cell_type": "code",
            "source": [
                "use master;\r\n",
                "select [name] from master.sys.databases;\r\n",
                "\r\n",
                "select [name] from master.sys.sql_logins;"
            ],
            "metadata": {
                "azdata_cell_guid": "ec3d38d4-290a-4476-83d1-4769fae70602",
                "tags": []
            },
            "outputs": [
                {
                    "output_type": "display_data",
                    "data": {
                        "text/html": "(5 rows affected)"
                    },
                    "metadata": {}
                },
                {
                    "output_type": "display_data",
                    "data": {
                        "text/html": "(4 rows affected)"
                    },
                    "metadata": {}
                },
                {
                    "output_type": "display_data",
                    "data": {
                        "text/html": "(5 rows affected)"
                    },
                    "metadata": {}
                },
                {
                    "output_type": "display_data",
                    "data": {
                        "text/html": "Total execution time: 00:00:00.083"
                    },
                    "metadata": {}
                },
                {
                    "output_type": "execute_result",
                    "metadata": {},
                    "execution_count": 139,
                    "data": {
                        "application/vnd.dataresource+json": {
                            "schema": {
                                "fields": [
                                    {
                                        "name": "name"
                                    }
                                ]
                            },
                            "data": [
                                {
                                    "0": "master"
                                },
                                {
                                    "0": "tempdb"
                                },
                                {
                                    "0": "model"
                                },
                                {
                                    "0": "msdb"
                                },
                                {
                                    "0": "DB_OKNO"
                                }
                            ]
                        },
                        "text/html": [
                            "<table>",
                            "<tr><th>name</th></tr>",
                            "<tr><td>master</td></tr>",
                            "<tr><td>tempdb</td></tr>",
                            "<tr><td>model</td></tr>",
                            "<tr><td>msdb</td></tr>",
                            "<tr><td>DB_OKNO</td></tr>",
                            "</table>"
                        ]
                    }
                },
                {
                    "output_type": "execute_result",
                    "metadata": {},
                    "execution_count": 139,
                    "data": {
                        "application/vnd.dataresource+json": {
                            "schema": {
                                "fields": [
                                    {
                                        "name": "name"
                                    }
                                ]
                            },
                            "data": [
                                {
                                    "0": "sa"
                                },
                                {
                                    "0": "##MS_PolicyEventProcessingLogin##"
                                },
                                {
                                    "0": "##MS_PolicyTsqlExecutionLogin##"
                                },
                                {
                                    "0": "stud"
                                }
                            ]
                        },
                        "text/html": [
                            "<table>",
                            "<tr><th>name</th></tr>",
                            "<tr><td>sa</td></tr>",
                            "<tr><td>##MS_PolicyEventProcessingLogin##</td></tr>",
                            "<tr><td>##MS_PolicyTsqlExecutionLogin##</td></tr>",
                            "<tr><td>stud</td></tr>",
                            "</table>"
                        ]
                    }
                },
                {
                    "output_type": "execute_result",
                    "metadata": {},
                    "execution_count": 139,
                    "data": {
                        "application/vnd.dataresource+json": {
                            "schema": {
                                "fields": [
                                    {
                                        "name": "GRANTOR"
                                    },
                                    {
                                        "name": "GRANTEE"
                                    },
                                    {
                                        "name": "TABLE_CATALOG"
                                    },
                                    {
                                        "name": "TABLE_SCHEMA"
                                    },
                                    {
                                        "name": "TABLE_NAME"
                                    },
                                    {
                                        "name": "PRIVILEGE_TYPE"
                                    },
                                    {
                                        "name": "IS_GRANTABLE"
                                    }
                                ]
                            },
                            "data": [
                                {
                                    "0": "dbo",
                                    "1": "public",
                                    "2": "master",
                                    "3": "dbo",
                                    "4": "spt_fallback_db",
                                    "5": "SELECT",
                                    "6": "NO"
                                },
                                {
                                    "0": "dbo",
                                    "1": "public",
                                    "2": "master",
                                    "3": "dbo",
                                    "4": "spt_fallback_dev",
                                    "5": "SELECT",
                                    "6": "NO"
                                },
                                {
                                    "0": "dbo",
                                    "1": "public",
                                    "2": "master",
                                    "3": "dbo",
                                    "4": "spt_fallback_usg",
                                    "5": "SELECT",
                                    "6": "NO"
                                },
                                {
                                    "0": "dbo",
                                    "1": "public",
                                    "2": "master",
                                    "3": "dbo",
                                    "4": "spt_values",
                                    "5": "SELECT",
                                    "6": "NO"
                                },
                                {
                                    "0": "dbo",
                                    "1": "public",
                                    "2": "master",
                                    "3": "dbo",
                                    "4": "spt_monitor",
                                    "5": "SELECT",
                                    "6": "NO"
                                }
                            ]
                        },
                        "text/html": [
                            "<table>",
                            "<tr><th>GRANTOR</th><th>GRANTEE</th><th>TABLE_CATALOG</th><th>TABLE_SCHEMA</th><th>TABLE_NAME</th><th>PRIVILEGE_TYPE</th><th>IS_GRANTABLE</th></tr>",
                            "<tr><td>dbo</td><td>public</td><td>master</td><td>dbo</td><td>spt_fallback_db</td><td>SELECT</td><td>NO</td></tr>",
                            "<tr><td>dbo</td><td>public</td><td>master</td><td>dbo</td><td>spt_fallback_dev</td><td>SELECT</td><td>NO</td></tr>",
                            "<tr><td>dbo</td><td>public</td><td>master</td><td>dbo</td><td>spt_fallback_usg</td><td>SELECT</td><td>NO</td></tr>",
                            "<tr><td>dbo</td><td>public</td><td>master</td><td>dbo</td><td>spt_values</td><td>SELECT</td><td>NO</td></tr>",
                            "<tr><td>dbo</td><td>public</td><td>master</td><td>dbo</td><td>spt_monitor</td><td>SELECT</td><td>NO</td></tr>",
                            "</table>"
                        ]
                    }
                }
            ],
            "execution_count": 139
        },
        {
            "cell_type": "markdown",
            "source": [
                "2\\. zakładam bazę"
            ],
            "metadata": {
                "azdata_cell_guid": "b1011f23-5f89-4cc8-ba93-6d431ee10f5e"
            },
            "attachments": {}
        },
        {
            "cell_type": "code",
            "source": [
                "IF EXISTS (SELECT [name] FROM master.sys.sysdatabases WHERE name = 'DB_OKNO')\r\n",
                "    BEGIN\r\n",
                "    PRINT 'baza DB_OKNO istnieje';    \r\n",
                "    DROP DATABASE DB_OKNO;\r\n",
                "    PRINT 'baza usunieta';\r\n",
                "    END\r\n",
                "\r\n",
                "CREATE DATABASE DB_OKNO \r\n",
                "    ON PRIMARY (\r\n",
                "        name=okno,\r\n",
                "        filename='/var/opt/mssql/data/okno.mdf',\r\n",
                "        size=20MB,\r\n",
                "        maxsize=50MB,\r\n",
                "        filegrowth=10MB\r\n",
                "    )\r\n",
                "    LOG ON (\r\n",
                "        name=okno_log,\r\n",
                "        filename='/var/opt/mssql/data/okno.ldf',\r\n",
                "        size=20MB,\r\n",
                "        maxsize=50MB,\r\n",
                "        filegrowth=10MB\r\n",
                "    )\r\n",
                "    COLLATE POLISH_100_CI_AS_SC_UTF8\r\n",
                "    GO\r\n",
                "    \r\n",
                "\r\n",
                "    "
            ],
            "metadata": {
                "azdata_cell_guid": "9a6ae663-a014-4432-b778-0af43c0fea22"
            },
            "outputs": [
                {
                    "output_type": "display_data",
                    "data": {
                        "text/html": "Commands completed successfully."
                    },
                    "metadata": {}
                },
                {
                    "output_type": "display_data",
                    "data": {
                        "text/html": "Total execution time: 00:00:00.788"
                    },
                    "metadata": {}
                }
            ],
            "execution_count": 152
        },
        {
            "cell_type": "markdown",
            "source": [
                "zakładam role i uzytkownikow"
            ],
            "metadata": {
                "azdata_cell_guid": "98917388-6c74-4e8c-9cd8-8ee883d6157c"
            },
            "attachments": {}
        },
        {
            "cell_type": "code",
            "source": [
                "use master;\r\n",
                "go\r\n",
                "\r\n",
                "EXEC sp_addlogin 'stud', 'zamknij1okno!' , DB_OKNO , 'Polski'\r\n",
                "go\r\n",
                "\r\n",
                "use DB_OKNO;\r\n",
                "go\r\n",
                "\r\n",
                "EXEC sp_adduser 'stud' , 'stud'\r\n",
                "go\r\n",
                "\r\n",
                "EXEC sp_addrole 'student'\r\n",
                "GO\r\n",
                "\r\n",
                "EXEC sp_addrolemember 'student','stud'\r\n",
                "go\r\n",
                " \r\n",
                "GRANT ALTER ON SCHEMA::dbo.DB_OKNO TO student;"
            ],
            "metadata": {
                "azdata_cell_guid": "7b80f927-1b41-4b7e-aedc-fa46ba3a5b06",
                "tags": []
            },
            "outputs": [
                {
                    "output_type": "display_data",
                    "data": {
                        "text/html": "Commands completed successfully."
                    },
                    "metadata": {}
                },
                {
                    "output_type": "error",
                    "evalue": "Msg 15025, Level 16, State 1, Line 3\r\nThe server principal 'stud' already exists.",
                    "ename": "",
                    "traceback": []
                },
                {
                    "output_type": "display_data",
                    "data": {
                        "text/html": "Commands completed successfully."
                    },
                    "metadata": {}
                },
                {
                    "output_type": "error",
                    "evalue": "Msg 15023, Level 16, State 1, Line 9\r\nUser, group, or role 'stud' already exists in the current database.",
                    "ename": "",
                    "traceback": []
                },
                {
                    "output_type": "error",
                    "evalue": "Msg 15023, Level 16, State 1, Line 12\r\nUser, group, or role 'student' already exists in the current database.",
                    "ename": "",
                    "traceback": []
                },
                {
                    "output_type": "display_data",
                    "data": {
                        "text/html": "Commands completed successfully."
                    },
                    "metadata": {}
                },
                {
                    "output_type": "error",
                    "evalue": "Msg 15151, Level 16, State 1, Line 19\r\nCannot find the schema 'dbo.DB_OKNO', because it does not exist or you do not have permission.",
                    "ename": "",
                    "traceback": []
                },
                {
                    "output_type": "display_data",
                    "data": {
                        "text/html": "Total execution time: 00:00:00.022"
                    },
                    "metadata": {}
                }
            ],
            "execution_count": 177
        },
        {
            "cell_type": "markdown",
            "source": [
                "przypisuję prawa"
            ],
            "metadata": {
                "azdata_cell_guid": "f3c4f4a1-a4e6-45a2-a0d1-89f97e726b21"
            },
            "attachments": {}
        },
        {
            "cell_type": "code",
            "source": [
                "use DB_OKNO;\r\n",
                "go\r\n",
                "\r\n",
                "SETUSER;\r\n",
                "GO\r\n",
                "\r\n",
                "GRANT SELECT TO student;\r\n",
                "GO\r\n",
                "\r\n",
                "GRANT INSERT TO student;\r\n",
                "GO\r\n",
                "\r\n",
                "GRANT DELETE TO stud;\r\n",
                "go\r\n",
                "\r\n",
                "GRANT EXECUTE TO stud;\r\n",
                "go\r\n",
                "\r\n",
                "GRANT ALTER TO stud;\r\n",
                "go \r\n",
                "\r\n",
                "GRANT CONTROL TO stud;\r\n",
                "go \r\n",
                "\r\n",
                "GRANT UPDATE TO stud;\r\n",
                "go\r\n",
                ""
            ],
            "metadata": {
                "azdata_cell_guid": "ec8fd409-68dc-4f31-bdc6-5f4334cd8221",
                "tags": []
            },
            "outputs": [
                {
                    "output_type": "display_data",
                    "data": {
                        "text/html": "Commands completed successfully."
                    },
                    "metadata": {}
                },
                {
                    "output_type": "display_data",
                    "data": {
                        "text/html": "Commands completed successfully."
                    },
                    "metadata": {}
                },
                {
                    "output_type": "display_data",
                    "data": {
                        "text/html": "Commands completed successfully."
                    },
                    "metadata": {}
                },
                {
                    "output_type": "display_data",
                    "data": {
                        "text/html": "Commands completed successfully."
                    },
                    "metadata": {}
                },
                {
                    "output_type": "display_data",
                    "data": {
                        "text/html": "Commands completed successfully."
                    },
                    "metadata": {}
                },
                {
                    "output_type": "display_data",
                    "data": {
                        "text/html": "Commands completed successfully."
                    },
                    "metadata": {}
                },
                {
                    "output_type": "display_data",
                    "data": {
                        "text/html": "Commands completed successfully."
                    },
                    "metadata": {}
                },
                {
                    "output_type": "display_data",
                    "data": {
                        "text/html": "Commands completed successfully."
                    },
                    "metadata": {}
                },
                {
                    "output_type": "display_data",
                    "data": {
                        "text/html": "Commands completed successfully."
                    },
                    "metadata": {}
                },
                {
                    "output_type": "display_data",
                    "data": {
                        "text/html": "Total execution time: 00:00:00.169"
                    },
                    "metadata": {}
                }
            ],
            "execution_count": 184
        },
        {
            "cell_type": "markdown",
            "source": [
                "dodaję tabele"
            ],
            "metadata": {
                "azdata_cell_guid": "c367cb2a-1491-41f4-a6c8-cb19636c6669"
            },
            "attachments": {}
        },
        {
            "cell_type": "code",
            "source": [
                "use DB_OKNO\r\n",
                "GO\r\n",
                "\r\n",
                "CREATE TABLE code (\r\n",
                "    ID_osoba BIGINT NOT NULL,\r\n",
                "    code_string varchar(32),\r\n",
                "    EAN varchar(32),\r\n",
                "    active BIT NOT NULL DEFAULT 1 \r\n",
                "\r\n",
                "    PRIMARY KEY ( ID_osoba )\r\n",
                "    -- praca INT NOT NULL FOREIGN KEY REFERENCES praca(ID)\r\n",
                ")\r\n",
                "\r\n",
                "\r\n",
                "\r\n",
                "\r\n",
                ""
            ],
            "metadata": {
                "azdata_cell_guid": "d13ae95e-f30a-4abf-ab62-a45b35b3dc21"
            },
            "outputs": [
                {
                    "output_type": "display_data",
                    "data": {
                        "text/html": "Commands completed successfully."
                    },
                    "metadata": {}
                },
                {
                    "output_type": "error",
                    "evalue": "Msg 2714, Level 16, State 6, Line 4\r\nThere is already an object named 'code' in the database.",
                    "ename": "",
                    "traceback": []
                },
                {
                    "output_type": "display_data",
                    "data": {
                        "text/html": "Total execution time: 00:00:00.004"
                    },
                    "metadata": {}
                }
            ],
            "execution_count": 137
        }
    ]
}