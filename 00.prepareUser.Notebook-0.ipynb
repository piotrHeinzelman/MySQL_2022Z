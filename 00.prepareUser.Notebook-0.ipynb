{
    "metadata": {
        "kernelspec": {
            "name": "SQL",
            "display_name": "SQL",
            "language": "sql"
        },
        "language_info": {
            "name": "sql",
            "version": ""
        },
        "extensions": {
            "azuredatastudio": {
                "version": 1,
                "views": []
            }
        }
    },
    "nbformat_minor": 2,
    "nbformat": 4,
    "cells": [
        {
            "cell_type": "markdown",
            "source": [
                "1\\. rozglądam sie po systemie, sprawdzam użytkowników, bazy"
            ],
            "metadata": {
                "azdata_cell_guid": "b81fa58d-9e6d-4d10-b9a3-8ca8adfee1c1"
            },
            "attachments": {}
        },
        {
            "cell_type": "code",
            "source": [
                "use master;\r\n",
                "select [name] from master.sys.databases;\r\n",
                "select [name] from master.sys.sql_logins;"
            ],
            "metadata": {
                "azdata_cell_guid": "ec3d38d4-290a-4476-83d1-4769fae70602",
                "tags": []
            },
            "outputs": [],
            "execution_count": null
        },
        {
            "cell_type": "markdown",
            "source": [
                "2\\. zakładam bazę"
            ],
            "metadata": {
                "azdata_cell_guid": "b1011f23-5f89-4cc8-ba93-6d431ee10f5e"
            },
            "attachments": {}
        },
        {
            "cell_type": "code",
            "source": [
                "/*\r\n",
                "IF EXISTS (SELECT [name] FROM master.sys.sysdatabases WHERE name = 'DB_OKNO')\r\n",
                "    BEGIN\r\n",
                "    PRINT 'baza DB_OKNO istnieje';    \r\n",
                "    DROP DATABASE DB_OKNO;\r\n",
                "    PRINT 'baza usunieta';\r\n",
                "    END\r\n",
                "*/\r\n",
                "\r\n",
                "DROP DATABASE IF EXISTS DB_OKNO ;\r\n",
                "go\r\n",
                "\r\n",
                "CREATE DATABASE DB_OKNO \r\n",
                "/*    ON PRIMARY (\r\n",
                "        name=okno,\r\n",
                "        filename='/var/opt/mssql/data/okno.mdf',\r\n",
                "        size=20MB,\r\n",
                "        maxsize=50MB,\r\n",
                "        filegrowth=10MB\r\n",
                "    )\r\n",
                "    LOG ON (\r\n",
                "        name=okno_log,\r\n",
                "        filename='/var/opt/mssql/data/okno.ldf',\r\n",
                "        size=20MB,\r\n",
                "        maxsize=50MB,\r\n",
                "        filegrowth=10MB\r\n",
                "    )  */\r\n",
                "COLLATE POLISH_100_CI_AS_SC_UTF8\r\n",
                "GO\r\n",
                "    \r\n",
                "\r\n",
                "    "
            ],
            "metadata": {
                "azdata_cell_guid": "9a6ae663-a014-4432-b778-0af43c0fea22",
                "tags": []
            },
            "outputs": [
                {
                    "output_type": "display_data",
                    "data": {
                        "text/html": "Commands completed successfully."
                    },
                    "metadata": {}
                },
                {
                    "output_type": "display_data",
                    "data": {
                        "text/html": "Commands completed successfully."
                    },
                    "metadata": {}
                },
                {
                    "output_type": "display_data",
                    "data": {
                        "text/html": "Total execution time: 00:00:00.769"
                    },
                    "metadata": {}
                }
            ],
            "execution_count": 75
        },
        {
            "cell_type": "markdown",
            "source": [
                "dodaję tabele   \\*\\*\\* SŁOWNIKÓW \\*\\*\\*"
            ],
            "metadata": {
                "azdata_cell_guid": "c367cb2a-1491-41f4-a6c8-cb19636c6669"
            },
            "attachments": {}
        },
        {
            "cell_type": "code",
            "source": [
                "use DB_OKNO\r\n",
                "GO\r\n",
                "\r\n",
                "/* *** slowniki *** */\r\n",
                "DROP TABLE IF EXISTS icon;\r\n",
                "DROP TABLE IF EXISTS lang;\r\n",
                "DROP TABLE IF EXISTS issue;\r\n",
                "DROP TABLE IF EXISTS code;\r\n",
                "DROP TABLE IF EXISTS category;\r\n",
                "\r\n",
                "go\r\n",
                "CREATE TABLE category (\r\n",
                "    ID_category DECIMAL(10) NOT NULL ,\r\n",
                "    category_name nvarchar(32)\r\n",
                "\r\n",
                "    PRIMARY KEY ( ID_category )\r\n",
                ");\r\n",
                "go\r\n",
                "\r\n",
                "\r\n",
                "INSERT INTO category VALUES( 10000 , 'Kosiarki'); \r\n",
                "INSERT INTO category VALUES( 10001 , '- Kosiarki spalinowe'); \r\n",
                "INSERT INTO category VALUES( 10002 , '- Kosiarki elektryczne'); \r\n",
                "INSERT INTO category VALUES( 20000 , 'Ślimacznice'); \r\n",
                "\r\n",
                "\r\n",
                "\r\n",
                "CREATE TABLE code (\r\n",
                "    ID_code BIGINT NOT NULL IDENTITY,\r\n",
                "    code_string varchar(32),\r\n",
                "    EAN CHAR(13), -- po EAN (w tym rozwiazaniu) nie wyszukujemy, są EAN zaczynające się od 0 dlatego CHAR a nie BIGINT/DECIMAL(13)\r\n",
                "    active BIT NOT NULL DEFAULT 1,\r\n",
                "    category DECIMAL(10), -- kategorie 1.000, 2.000  podkategorie 1.001 1.002 ...   taka notacja jest narzucona przez zewnetrzna bazę\r\n",
                "\r\n",
                "    PRIMARY KEY ( ID_code ),\r\n",
                "    FOREIGN KEY ( category ) REFERENCES category( ID_category )\r\n",
                "    ON DELETE CASCADE\r\n",
                "    ON UPDATE CASCADE\r\n",
                ");\r\n",
                "go\r\n",
                "\r\n",
                "\r\n",
                "INSERT INTO code ( code_string ) VALUES ( '80C051' );  \r\n",
                "INSERT INTO code ( code_string ) VALUES ( '80C052' );\r\n",
                "\r\n",
                "INSERT INTO code ( code_string ) VALUES ( '0602'); \r\n",
                "INSERT INTO code ( code_string ) VALUES ( '0603');  \r\n",
                "\r\n",
                "INSERT INTO code ( code_string ) VALUES ( 'DED780911');  \r\n",
                "INSERT INTO code ( code_string ) VALUES ( 'DED780912');  \r\n",
                "INSERT INTO code ( code_string ) VALUES ( 'DED780920');\r\n",
                "\r\n",
                "\r\n",
                "\r\n",
                "\r\n",
                "CREATE TABLE issue (\r\n",
                "    ID_issue BIGINT NOT NULL IDENTITY ,\r\n",
                "    issue_name varchar(255) NOT NULL \r\n",
                "\r\n",
                "    PRIMARY KEY ( ID_issue )\r\n",
                ");\r\n",
                "go\r\n",
                "\r\n",
                "\r\n",
                "INSERT INTO issue ( issue_name ) VALUES ( '2022.10');\r\n",
                "INSERT INTO issue ( issue_name ) VALUES ( '2022.11.Garden');\r\n",
                "INSERT INTO issue ( issue_name ) VALUES ( '2023.01');\r\n",
                "\r\n",
                "\r\n",
                "\r\n",
                "CREATE TABLE lang (\r\n",
                "    ID_lang BIGINT NOT NULL,\r\n",
                "    lang_code char(2) NOT NULL,\r\n",
                "    currency  nchar(2) NOT NULL,\r\n",
                "    zeros   int NOT NULL,\r\n",
                "    table_header nvarchar(255),\r\n",
                "\r\n",
                "    PRIMARY KEY ( ID_lang )\r\n",
                ");\r\n",
                "go\r\n",
                "\r\n",
                "\r\n",
                "\r\n",
                "    INSERT INTO lang VALUES (1,'PL','zł',2,'nr. kat.|%|cena|promocja');\r\n",
                "    INSERT INTO lang VALUES (2,'CZ','Kč',1,'kat. č.|popis|cena|akční cena');\r\n",
                "    INSERT INTO lang VALUES (3,'EN','€',2, 'cat. no.|description|price|promo price');\r\n",
                "    INSERT INTO lang VALUES (4,'HU','Ft',0,'cikkszám|leírás|ár|akciós ár');\r\n",
                "    -- ****\r\n",
                "    INSERT INTO lang VALUES (15,'UA','€',2,'Код|опис|ціна|акційна ціна');\r\n",
                "\r\n",
                "\r\n",
                "\r\n",
                "\r\n",
                "\r\n",
                "CREATE TABLE icon (\r\n",
                "    ID_icon BIGINT NOT NULL IDENTITY,\r\n",
                "    icon_name nvarchar(255) NOT NULL UNIQUE,\r\n",
                "    -- edit by dept.\r\n",
                "    tech  BIT DEFAULT(0),\r\n",
                "    promo BIT DEFAULT(0),\r\n",
                "    -- target\r\n",
                "    paper BIT DEFAULT(0),\r\n",
                "    catal BIT DEFAULT(0),\r\n",
                "    shipping BIT DEFAULT(0),\r\n",
                "    rack BIT DEFAULT(0),\r\n",
                "\r\n",
                "    PRIMARY KEY ( ID_icon )\r\n",
                ");\r\n",
                "go    \r\n",
                "\r\n",
                "    INSERT INTO icon ( icon_name, tech, rack  ) VALUES ('Moc silnika elektycznego',1,1);\r\n",
                "    INSERT INTO icon ( icon_name, tech, rack  ) VALUES ('Moc silnika spalinowego' ,1,1);\r\n",
                "\r\n",
                "\r\n",
                "\r\n",
                "\r\n",
                "\r\n",
                "\r\n",
                ""
            ],
            "metadata": {
                "azdata_cell_guid": "d13ae95e-f30a-4abf-ab62-a45b35b3dc21",
                "tags": []
            },
            "outputs": [
                {
                    "output_type": "display_data",
                    "data": {
                        "text/html": "Commands completed successfully."
                    },
                    "metadata": {}
                },
                {
                    "output_type": "display_data",
                    "data": {
                        "text/html": "Commands completed successfully."
                    },
                    "metadata": {}
                },
                {
                    "output_type": "display_data",
                    "data": {
                        "text/html": "Commands completed successfully."
                    },
                    "metadata": {}
                },
                {
                    "output_type": "display_data",
                    "data": {
                        "text/html": "(1 row affected)"
                    },
                    "metadata": {}
                },
                {
                    "output_type": "display_data",
                    "data": {
                        "text/html": "(1 row affected)"
                    },
                    "metadata": {}
                },
                {
                    "output_type": "display_data",
                    "data": {
                        "text/html": "(1 row affected)"
                    },
                    "metadata": {}
                },
                {
                    "output_type": "display_data",
                    "data": {
                        "text/html": "(1 row affected)"
                    },
                    "metadata": {}
                },
                {
                    "output_type": "display_data",
                    "data": {
                        "text/html": "(1 row affected)"
                    },
                    "metadata": {}
                },
                {
                    "output_type": "display_data",
                    "data": {
                        "text/html": "(1 row affected)"
                    },
                    "metadata": {}
                },
                {
                    "output_type": "display_data",
                    "data": {
                        "text/html": "(1 row affected)"
                    },
                    "metadata": {}
                },
                {
                    "output_type": "display_data",
                    "data": {
                        "text/html": "(1 row affected)"
                    },
                    "metadata": {}
                },
                {
                    "output_type": "display_data",
                    "data": {
                        "text/html": "(1 row affected)"
                    },
                    "metadata": {}
                },
                {
                    "output_type": "display_data",
                    "data": {
                        "text/html": "(1 row affected)"
                    },
                    "metadata": {}
                },
                {
                    "output_type": "display_data",
                    "data": {
                        "text/html": "(1 row affected)"
                    },
                    "metadata": {}
                },
                {
                    "output_type": "display_data",
                    "data": {
                        "text/html": "(1 row affected)"
                    },
                    "metadata": {}
                },
                {
                    "output_type": "display_data",
                    "data": {
                        "text/html": "(1 row affected)"
                    },
                    "metadata": {}
                },
                {
                    "output_type": "display_data",
                    "data": {
                        "text/html": "(1 row affected)"
                    },
                    "metadata": {}
                },
                {
                    "output_type": "display_data",
                    "data": {
                        "text/html": "(1 row affected)"
                    },
                    "metadata": {}
                },
                {
                    "output_type": "display_data",
                    "data": {
                        "text/html": "(1 row affected)"
                    },
                    "metadata": {}
                },
                {
                    "output_type": "display_data",
                    "data": {
                        "text/html": "(1 row affected)"
                    },
                    "metadata": {}
                },
                {
                    "output_type": "display_data",
                    "data": {
                        "text/html": "(1 row affected)"
                    },
                    "metadata": {}
                },
                {
                    "output_type": "display_data",
                    "data": {
                        "text/html": "(1 row affected)"
                    },
                    "metadata": {}
                },
                {
                    "output_type": "display_data",
                    "data": {
                        "text/html": "(1 row affected)"
                    },
                    "metadata": {}
                },
                {
                    "output_type": "display_data",
                    "data": {
                        "text/html": "(1 row affected)"
                    },
                    "metadata": {}
                },
                {
                    "output_type": "display_data",
                    "data": {
                        "text/html": "Total execution time: 00:00:00.279"
                    },
                    "metadata": {}
                }
            ],
            "execution_count": 76
        },
        {
            "cell_type": "markdown",
            "source": [
                "tworzę tabelę indd\\_name wraz z procedurą"
            ],
            "metadata": {
                "azdata_cell_guid": "b8cbacd5-f65f-48ea-ac6a-4340d9c8b3ab"
            },
            "attachments": {}
        },
        {
            "cell_type": "code",
            "source": [
                "use DB_OKNO;\r\n",
                "GO\r\n",
                "\r\n",
                "DROP TABLE IF EXISTS indd_names;\r\n",
                "go\r\n",
                "\r\n",
                "CREATE TABLE indd_names (\r\n",
                "    ID_code BIGINT NOT NULL,\r\n",
                "    ID_lang BIGINT NOT NULL,\r\n",
                "\r\n",
                "    i_name nvarchar(255),\r\n",
                "    i_description nvarchar(max),\r\n",
                "    \r\n",
                "    PRIMARY KEY ( ID_code , ID_lang )\r\n",
                ");\r\n",
                "go  \r\n",
                "\r\n",
                "\r\n",
                "-- INSERT PROCEDURE \r\n",
                "CREATE OR ALTER PROCEDURE add_names\r\n",
                "    @code_string varchar(32),\r\n",
                "    @lang_id BIGINT,\r\n",
                "    @i_name nvarchar(255),\r\n",
                "    @i_description nvarchar(max)\r\n",
                "AS\r\n",
                "BEGIN\r\n",
                "--   PRINT @code_string; PRINT @lang_id;  PRINT @i_name; PRINT @i_description; \r\n",
                "\r\n",
                "    DECLARE @cID BIGINT = NULL;\r\n",
                "    SET @cID =  ( SELECT ID_code FROM code AS C WHERE C.code_string = @code_string );\r\n",
                "    IF @cID IS NOT NULL \r\n",
                "        BEGIN \r\n",
                "             -- PRINT 'not NULL !';\r\n",
                "             -- PRINT  ( CONCAT ( CONCAT ( @code_string , ' : ')  , @cID )) ;\r\n",
                "            IF NOT EXISTS ( SELECT ID_code FROM indd_names AS N WHERE ( N.ID_code=@cID AND N.ID_lang = @lang_id) ) \r\n",
                "                BEGIN \r\n",
                "                    PRINT 'INSERT';\r\n",
                "                    INSERT INTO indd_names (ID_code , ID_lang , i_name , i_description ) VALUES ( @cID, @lang_id , @i_name , @i_description ); \r\n",
                "                END\r\n",
                "            ELSE\r\n",
                "                BEGIN \r\n",
                "                    PRINT 'UPDATE';\r\n",
                "                    UPDATE indd_names  SET  i_name = @i_name , i_description = @i_description  WHERE ( ID_code = @cID AND ID_lang = @lang_id ) ; \r\n",
                "                END \r\n",
                "        END\r\n",
                "END\r\n",
                ""
            ],
            "metadata": {
                "azdata_cell_guid": "6f790935-ed73-414b-a9a1-127ed25ef2a3"
            },
            "outputs": [
                {
                    "output_type": "display_data",
                    "data": {
                        "text/html": "Commands completed successfully."
                    },
                    "metadata": {}
                },
                {
                    "output_type": "display_data",
                    "data": {
                        "text/html": "Commands completed successfully."
                    },
                    "metadata": {}
                },
                {
                    "output_type": "display_data",
                    "data": {
                        "text/html": "Commands completed successfully."
                    },
                    "metadata": {}
                },
                {
                    "output_type": "display_data",
                    "data": {
                        "text/html": "Commands completed successfully."
                    },
                    "metadata": {}
                },
                {
                    "output_type": "display_data",
                    "data": {
                        "text/html": "Total execution time: 00:00:00.070"
                    },
                    "metadata": {}
                }
            ],
            "execution_count": 174
        },
        {
            "cell_type": "code",
            "source": [
                "-- uruchamiam procedure wstawiania tresci\r\n",
                "\r\n",
                "USE DB_OKNO;\r\n",
                "go\r\n",
                "\r\n",
                "execute add_names  '0603' , 1 , 'Klucz', 'CRV - first insert' ;\r\n",
                "go\r\n",
                "\r\n",
                "execute add_names  '0603' , 1 , 'Klucz', 'CRV - second insert' ;\r\n",
                "go\r\n",
                "\r\n",
                "execute add_names  '80C051' , 1 , 'Pompa', 'do wody brudnej' ;\r\n",
                "go\r\n",
                "\r\n",
                "execute add_names  ' -- Fake -- ' , 1 , ' ??? ', ' ??? ' ;\r\n",
                "go"
            ],
            "metadata": {
                "azdata_cell_guid": "7d1e4090-827a-4b42-9e41-5c8975d11bc9"
            },
            "outputs": [
                {
                    "output_type": "display_data",
                    "data": {
                        "text/html": "Commands completed successfully."
                    },
                    "metadata": {}
                },
                {
                    "output_type": "display_data",
                    "data": {
                        "text/html": "0603"
                    },
                    "metadata": {}
                },
                {
                    "output_type": "display_data",
                    "data": {
                        "text/html": "1"
                    },
                    "metadata": {}
                },
                {
                    "output_type": "display_data",
                    "data": {
                        "text/html": "Klucz"
                    },
                    "metadata": {}
                },
                {
                    "output_type": "display_data",
                    "data": {
                        "text/html": "CRV - first insert"
                    },
                    "metadata": {}
                },
                {
                    "output_type": "display_data",
                    "data": {
                        "text/html": "INSERT"
                    },
                    "metadata": {}
                },
                {
                    "output_type": "display_data",
                    "data": {
                        "text/html": "(1 row affected)"
                    },
                    "metadata": {}
                },
                {
                    "output_type": "display_data",
                    "data": {
                        "text/html": "0603"
                    },
                    "metadata": {}
                },
                {
                    "output_type": "display_data",
                    "data": {
                        "text/html": "1"
                    },
                    "metadata": {}
                },
                {
                    "output_type": "display_data",
                    "data": {
                        "text/html": "Klucz"
                    },
                    "metadata": {}
                },
                {
                    "output_type": "display_data",
                    "data": {
                        "text/html": "CRV - second insert"
                    },
                    "metadata": {}
                },
                {
                    "output_type": "display_data",
                    "data": {
                        "text/html": "UPDATE"
                    },
                    "metadata": {}
                },
                {
                    "output_type": "display_data",
                    "data": {
                        "text/html": "(1 row affected)"
                    },
                    "metadata": {}
                },
                {
                    "output_type": "display_data",
                    "data": {
                        "text/html": "80C051"
                    },
                    "metadata": {}
                },
                {
                    "output_type": "display_data",
                    "data": {
                        "text/html": "1"
                    },
                    "metadata": {}
                },
                {
                    "output_type": "display_data",
                    "data": {
                        "text/html": "Pompa"
                    },
                    "metadata": {}
                },
                {
                    "output_type": "display_data",
                    "data": {
                        "text/html": "do wody brudnej"
                    },
                    "metadata": {}
                },
                {
                    "output_type": "display_data",
                    "data": {
                        "text/html": "INSERT"
                    },
                    "metadata": {}
                },
                {
                    "output_type": "display_data",
                    "data": {
                        "text/html": "(1 row affected)"
                    },
                    "metadata": {}
                },
                {
                    "output_type": "display_data",
                    "data": {
                        "text/html": " -- Fake -- "
                    },
                    "metadata": {}
                },
                {
                    "output_type": "display_data",
                    "data": {
                        "text/html": "1"
                    },
                    "metadata": {}
                },
                {
                    "output_type": "display_data",
                    "data": {
                        "text/html": " ??? "
                    },
                    "metadata": {}
                },
                {
                    "output_type": "display_data",
                    "data": {
                        "text/html": " ??? "
                    },
                    "metadata": {}
                },
                {
                    "output_type": "display_data",
                    "data": {
                        "text/html": "Total execution time: 00:00:00.047"
                    },
                    "metadata": {}
                }
            ],
            "execution_count": 173
        }
    ]
}