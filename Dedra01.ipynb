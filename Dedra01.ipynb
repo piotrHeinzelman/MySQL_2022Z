{
    "metadata": {
        "kernelspec": {
            "name": "SQL",
            "display_name": "SQL",
            "language": "sql"
        },
        "language_info": {
            "name": "sql",
            "version": ""
        },
        "extensions": {
            "azuredatastudio": {
                "version": 1,
                "views": []
            }
        }
    },
    "nbformat_minor": 2,
    "nbformat": 4,
    "cells": [
        {
            "cell_type": "code",
            "source": [
                "\r\n",
                "\r\n",
                "-- create database\r\n",
                "IF EXISTS ( SELECT * FROM SYS.databases WHERE [name]= 'okno' ) \r\n",
                "    BEGIN\r\n",
                "     DROP DATABASE okno;\r\n",
                "     PRINT  ' DROP DATABASE ';\r\n",
                "    END\r\n",
                "\r\n",
                "BEGIN\r\n",
                "\r\n",
                "CREATE DATABASE okno\r\n",
                " ON PRIMARY (\r\n",
                "        name=okno,\r\n",
                "        filename='/var/opt/mssql/data/okno.mdf',\r\n",
                "        size=20MB,\r\n",
                "        maxsize=50MB,\r\n",
                "        filegrowth=10MB\r\n",
                "    )\r\n",
                "    LOG ON (\r\n",
                "        name=okno_log,\r\n",
                "        filename='/var/opt/mssql/data/okno.ldf',\r\n",
                "        size=20MB,\r\n",
                "        maxsize=50MB,\r\n",
                "        filegrowth=10MB\r\n",
                "    );\r\n",
                " PRINT  ' CREATE DATABASE ';   \r\n",
                "end"
            ],
            "metadata": {
                "azdata_cell_guid": "3514279a-a987-4bee-ba0f-c1b9a12e896f"
            },
            "outputs": [
                {
                    "output_type": "display_data",
                    "data": {
                        "text/html": " DROP DATABASE "
                    },
                    "metadata": {}
                },
                {
                    "output_type": "display_data",
                    "data": {
                        "text/html": " CREATE DATABASE "
                    },
                    "metadata": {}
                },
                {
                    "output_type": "display_data",
                    "data": {
                        "text/html": "Total execution time: 00:00:00.575"
                    },
                    "metadata": {}
                }
            ],
            "execution_count": 2
        },
        {
            "cell_type": "code",
            "source": [
                "\r\n",
                "\r\n",
                "USE okno\r\n",
                "-- name\r\n",
                "DROP TABLE IF EXISTS [dbo].icon_name\r\n",
                "DROP TABLE IF EXISTS [dbo].measure_name\r\n",
                "DROP TABLE IF EXISTS [dbo].unit_name\r\n",
                "DROP TABLE IF EXISTS [dbo].params_name\r\n",
                "DROP TABLE IF EXISTS [dbo].dictionary_name\r\n",
                "DROP TABLE IF EXISTS [dbo].word_name\r\n",
                "DROP TABLE IF EXISTS [dbo].strings_name\r\n",
                "\r\n",
                "\r\n",
                "--dane\r\n",
                "DROP TABLE IF EXISTS [dbo].dictionary\r\n",
                "DROP TABLE IF EXISTS [dbo].params\r\n",
                "DROP TABLE IF EXISTS [dbo].icon\r\n",
                "DROP TABLE IF EXISTS [dbo].unit\r\n",
                "DROP TABLE IF EXISTS [dbo].word\r\n",
                "DROP TABLE IF EXISTS [dbo].strings\r\n",
                "\r\n",
                "-- slowniki\r\n",
                "DROP TABLE IF EXISTS [dbo].code\r\n",
                "DROP TABLE IF EXISTS [dbo].icon_group\r\n",
                "DROP TABLE IF EXISTS [dbo].measure\r\n",
                "DROP TABLE IF EXISTS [dbo].masters\r\n",
                "DROP TABLE IF EXISTS [dbo].layout_targets"
            ],
            "metadata": {
                "azdata_cell_guid": "ce088ccb-c8ac-423f-9b38-d49a2eaba402"
            },
            "outputs": [
                {
                    "output_type": "display_data",
                    "data": {
                        "text/html": "Commands completed successfully."
                    },
                    "metadata": {}
                },
                {
                    "output_type": "display_data",
                    "data": {
                        "text/html": "Total execution time: 00:00:00.001"
                    },
                    "metadata": {}
                }
            ],
            "execution_count": 3
        },
        {
            "cell_type": "code",
            "source": [
                "\r\n",
                "USE okno\r\n",
                "-- name\r\n",
                "DROP TABLE IF EXISTS [dbo].icon_name\r\n",
                "DROP TABLE IF EXISTS [dbo].measure_name\r\n",
                "DROP TABLE IF EXISTS [dbo].unit_name\r\n",
                "DROP TABLE IF EXISTS [dbo].params_name\r\n",
                "DROP TABLE IF EXISTS [dbo].dictionary_name\r\n",
                "DROP TABLE IF EXISTS [dbo].word_name\r\n",
                "DROP TABLE IF EXISTS [dbo].strings_name\r\n",
                "\r\n",
                "\r\n",
                "--dane\r\n",
                "\r\n",
                "DROP TABLE IF EXISTS [dbo].params\r\n",
                "DROP TABLE IF EXISTS [dbo].icon\r\n",
                "DROP TABLE IF EXISTS [dbo].unit\r\n",
                "DROP TABLE IF EXISTS [dbo].word\r\n",
                "DROP TABLE IF EXISTS [dbo].strings\r\n",
                "\r\n",
                "-- slowniki\r\n",
                "DROP TABLE IF EXISTS [dbo].code\r\n",
                "DROP TABLE IF EXISTS [dbo].icon_group\r\n",
                "DROP TABLE IF EXISTS [dbo].measure\r\n",
                "DROP TABLE IF EXISTS [dbo].masters\r\n",
                "DROP TABLE IF EXISTS [dbo].layout_targets\r\n",
                "DROP TABLE IF EXISTS [dbo].dictionary\r\n",
                "\r\n",
                "------------------------------------------\r\n",
                "\r\n",
                "CREATE TABLE dbo.code (\r\n",
                "    code_id       bigint       NOT NULL IDENTITY ,\r\n",
                "    code_String     varchar(255) NOT NULL UNIQUE,\r\n",
                "    PRIMARY KEY( code_id ) \r\n",
                ");\r\n",
                " \r\n",
                "\r\n",
                "\r\n",
                "CREATE TABLE dbo.icon_group (\r\n",
                "    id       bigint       NOT NULL IDENTITY ,\r\n",
                "    sys_name     varchar(255) NOT NULL,\r\n",
                "    PRIMARY KEY( id ) \r\n",
                ");\r\n",
                " \r\n",
                "\r\n",
                "CREATE TABLE dbo.masters (\r\n",
                "    id       bigint       NOT NULL IDENTITY ,\r\n",
                "    sys_name     varchar(255) NOT NULL,\r\n",
                "    PRIMARY KEY( id ) \r\n",
                ");\r\n",
                " \r\n",
                "\r\n",
                "\r\n",
                "CREATE TABLE dbo.measure (\r\n",
                "    id       bigint       NOT NULL IDENTITY ,\r\n",
                "    sys_name     varchar(255) NOT NULL,\r\n",
                "    PRIMARY KEY( id ) \r\n",
                ");\r\n",
                " \r\n",
                "CREATE TABLE dbo.dictionary (\r\n",
                "    id BIGINT NOT NULL IDENTITY, \r\n",
                "    sys_name     varchar(255) NOT NULL,\r\n",
                "    PRIMARY KEY( id ) \r\n",
                "); \r\n",
                "\r\n",
                "CREATE TABLE dbo.word (\r\n",
                "    id            BIGINT NOT NULL IDENTITY,\r\n",
                "    id_dictionary BIGINT FOREIGN KEY REFERENCES dbo.dictionary ( id )\r\n",
                "    PRIMARY KEY( id ) \r\n",
                ");\r\n",
                "\r\n",
                "\r\n",
                "CREATE TABLE dbo.layout_targets (\r\n",
                "    id BIGINT NOT NULL IDENTITY, \r\n",
                "    sys_name     varchar(255) NOT NULL,\r\n",
                "    PRIMARY KEY( id ) \r\n",
                "); \r\n",
                "\r\n",
                "--------------------------------\r\n",
                "\r\n",
                "CREATE TABLE dbo.unit (\r\n",
                "    id       bigint       NOT NULL IDENTITY ,\r\n",
                "    sys_name     varchar(255) NOT NULL,\r\n",
                "    id_measure BIGINT FOREIGN KEY REFERENCES dbo.measure ( id ), \r\n",
                "    suffix varchar(255) NULL,\r\n",
                "    multi DECIMAL(32,16),\r\n",
                "    next_id_measure BIGINT NULL,\r\n",
                "    separator varchar(255) NULL,\r\n",
                "    PRIMARY KEY( id ) \r\n",
                ");\r\n",
                " \r\n",
                "\r\n",
                "\r\n",
                "CREATE TABLE dbo.strings (\r\n",
                "    id      bigint       NOT NULL IDENTITY ,\r\n",
                "    sys_name     varchar(255)  NULL,\r\n",
                "    PRIMARY KEY( id ) \r\n",
                ");\r\n",
                "\r\n",
                "\r\n",
                "\r\n",
                "CREATE TABLE dbo.icon (\r\n",
                "    id       BIGINT       NOT NULL IDENTITY ,\r\n",
                "    sys_name     varchar(255) NOT NULL,\r\n",
                "    id_measure    BIGINT FOREIGN KEY REFERENCES dbo.measure ( id )    NULL, \r\n",
                "    id_dictionary BIGINT FOREIGN KEY REFERENCES dbo.dictionary ( id ) NULL, \r\n",
                "\r\n",
                "    id_icon_group BIGINT NULL, --formal\r\n",
                "\r\n",
                "    layout_target BIGINT NULL, \r\n",
                "\r\n",
                "    is_tech BIT NULL,\r\n",
                "    is_promo BIT NULL,\r\n",
                "\r\n",
                "    in_paper BIT NULL,\r\n",
                "    in_catalog BIT NULL,\r\n",
                "    in_shipping BIT NULL,\r\n",
                "    in_rack BIT NULL,    \r\n",
                "    in_fish_top BIT NULL,\r\n",
                "    in_fish_bottom BIT NULL,\r\n",
                "    in_t_znamionowa  BIT NULL,\r\n",
                "    in_t_ostrzerzen  BIT NULL,\r\n",
                "    in_opak_jedn  BIT NULL,\r\n",
                "    in_opak_zbiorcze  BIT NULL,\r\n",
                "    in_instrukcja  BIT NULL,\r\n",
                "\r\n",
                "    PRIMARY KEY( id ) \r\n",
                ");\r\n",
                " \r\n",
                "\r\n",
                "\r\n",
                "CREATE TABLE dbo.params (\r\n",
                "    id       bigint       NOT NULL IDENTITY ,\r\n",
                "    id_code BIGINT FOREIGN KEY REFERENCES dbo.code ( code_id ), \r\n",
                "\r\n",
                "    id_icon BIGINT FOREIGN KEY REFERENCES dbo.icon ( id ),  \r\n",
                "\r\n",
                "    id_unit BIGINT FOREIGN KEY REFERENCES dbo.unit ( id ) NULL,   \r\n",
                "    num_value DECIMAL(32,16),\r\n",
                "\r\n",
                "    id_word BIGINT FOREIGN KEY REFERENCES dbo.word ( id ) NULL,   \r\n",
                "\r\n",
                "    id_strings BIGINT FOREIGN KEY REFERENCES dbo.strings ( id ) NULL, \r\n",
                "    priority  BIGINT NULL,\r\n",
                "    PRIMARY KEY( id ) \r\n",
                ");\r\n",
                "\r\n",
                "\r\n",
                "------------------------------------------\r\n",
                "\r\n",
                "CREATE TABLE dbo.icon_name (\r\n",
                "    id_icon BIGINT FOREIGN KEY REFERENCES dbo.icon ( id ), \r\n",
                "    id_lang BIGINT ,     \r\n",
                "    layout_name nvarchar(255),\r\n",
                "    PRIMARY KEY( id_icon, id_lang ) \r\n",
                ");\r\n",
                " \r\n",
                "\r\n",
                "/*\r\n",
                "CREATE TABLE dbo.measure_name (\r\n",
                "    id_measure BIGINT FOREIGN KEY REFERENCES dbo.measure ( id ), \r\n",
                "    id_lang BIGINT ,     \r\n",
                "    [name] nvarchar(255),\r\n",
                "    PRIMARY KEY( id_measure, id_lang ) \r\n",
                ");\r\n",
                "*/ \r\n",
                "\r\n",
                "CREATE TABLE dbo.unit_name (\r\n",
                "    id_unit BIGINT FOREIGN KEY REFERENCES dbo.unit ( id ), \r\n",
                "    id_lang BIGINT ,     \r\n",
                "    [name] nvarchar(255),\r\n",
                "    PRIMARY KEY( id_unit, id_lang ) \r\n",
                ");\r\n",
                " \r\n",
                "/*\r\n",
                "CREATE TABLE dbo.params_name (\r\n",
                "    id_params BIGINT FOREIGN KEY REFERENCES dbo.params ( id ), \r\n",
                "    id_lang BIGINT ,     \r\n",
                "    [name] nvarchar(255),\r\n",
                "    PRIMARY KEY( id_params, id_lang ) \r\n",
                ");\r\n",
                "*/\r\n",
                "\r\n",
                "/*\r\n",
                "CREATE TABLE dbo.dictionary_name (\r\n",
                "    id_dictionary BIGINT FOREIGN KEY REFERENCES dbo.dictionary ( id ), \r\n",
                "    id_lang BIGINT ,     \r\n",
                "    lang_name nvarchar(255),\r\n",
                "    PRIMARY KEY( id_dictionary, id_lang ) \r\n",
                ");\r\n",
                "*/\r\n",
                "\r\n",
                "CREATE TABLE dbo.word_name (\r\n",
                "    id_word BIGINT FOREIGN KEY REFERENCES dbo.word ( id ), \r\n",
                "    id_lang BIGINT ,     \r\n",
                "    lang_name nvarchar(255),\r\n",
                "    PRIMARY KEY( id_word, id_lang ) \r\n",
                ");\r\n",
                "\r\n",
                "\r\n",
                "CREATE TABLE dbo.strings_name (\r\n",
                "    id_strings BIGINT FOREIGN KEY REFERENCES dbo.strings ( id ), \r\n",
                "    id_lang BIGINT ,     \r\n",
                "    lang_name nvarchar(255),\r\n",
                "    PRIMARY KEY( id_strings, id_lang ) \r\n",
                ");\r\n",
                "\r\n",
                "\r\n",
                "\r\n",
                " \r\n",
                "go\r\n",
                "\r\n",
                ""
            ],
            "metadata": {
                "azdata_cell_guid": "b8e33ad5-70ac-4a30-8c04-fe8967f71d95"
            },
            "outputs": [
                {
                    "output_type": "display_data",
                    "data": {
                        "text/html": "Commands completed successfully."
                    },
                    "metadata": {}
                },
                {
                    "output_type": "display_data",
                    "data": {
                        "text/html": "Total execution time: 00:00:00.089"
                    },
                    "metadata": {}
                }
            ],
            "execution_count": 93
        },
        {
            "cell_type": "code",
            "source": [
                "\r\n",
                "\r\n",
                "/*\r\n",
                "// CommentService.addComment( Long code_id, String comm );\r\n",
                "// MeasureService.addMeasure( String sys_name );\r\n",
                "// UnitService.addUnit( String sysName, !! FK Long idMeasure !! , String suffix, Double multi );\r\n",
                "// DictionaryService.addDictionary( String sys_name );\r\n",
                "\r\n",
                "*/\r\n",
                "\r\n",
                "\r\n",
                "-- measure\r\n",
                "DECLARE @measure_dlugosc BIGINT; INSERT INTO [dbo].measure VALUES ( 'dlugosc' ); SET @measure_dlugosc = SCOPE_IDENTITY();\r\n",
                "\r\n",
                "-- unit\r\n",
                "DECLARE @km BIGINT;  INSERT INTO [dbo].unit (sys_name, id_measure, suffix , multi ) VALUES ( 'kilometr',     @measure_dlugosc , 'km' , 1000 ); SET @km = SCOPE_IDENTITY();\r\n",
                "DECLARE @m BIGINT;  INSERT INTO [dbo].unit (sys_name, id_measure, suffix , multi ) VALUES ( 'metr',     @measure_dlugosc , 'm' , 1 ); SET @m = SCOPE_IDENTITY();\r\n",
                "DECLARE @dm BIGINT;  INSERT INTO [dbo].unit (sys_name, id_measure, suffix , multi ) VALUES ( 'decymetr',     @measure_dlugosc , 'dm' , 0.1 ); SET @dm = SCOPE_IDENTITY();\r\n",
                "DECLARE @cm BIGINT;  INSERT INTO [dbo].unit (sys_name, id_measure, suffix , multi ) VALUES ( 'centymetr',     @measure_dlugosc , 'cm' , 0.01 ); SET @cm = SCOPE_IDENTITY();\r\n",
                "DECLARE @mm BIGINT; INSERT INTO [dbo].unit (sys_name, id_measure, suffix , multi ) VALUES ( 'milimetr', @measure_dlugosc , 'mm' , 0.001 ); SET @mm = SCOPE_IDENTITY();\r\n",
                "\r\n",
                "\r\n",
                "\r\n",
                "-- dictionary\r\n",
                "DECLARE @DICT_przeznaczenie_ciecie_plytki BIGINT; INSERT INTO [dbo].dictionary VALUES ( 'przeznaczenie : ciecie płytki' ); SET @DICT_przeznaczenie_ciecie_plytki = SCOPE_IDENTITY();\r\n",
                "\r\n",
                "-- words\r\n",
                "DECLARE @Glazura BIGINT;  INSERT INTO [dbo].word ( id_dictionary ) VALUES ( @DICT_przeznaczenie_ciecie_plytki  ); SET @Glazura = SCOPE_IDENTITY();\r\n",
                "DECLARE @Gres BIGINT;     INSERT INTO [dbo].word ( id_dictionary ) VALUES ( @DICT_przeznaczenie_ciecie_plytki  ); SET @Gres = SCOPE_IDENTITY();\r\n",
                "DECLARE @Glazura_i_gres BIGINT;  INSERT INTO [dbo].word ( id_dictionary ) VALUES ( @DICT_przeznaczenie_ciecie_plytki  ); SET @Glazura_i_gres = SCOPE_IDENTITY();\r\n",
                "\r\n",
                "    INSERT INTO [dbo].word_name (id_word, id_lang, lang_name ) VALUES ( @Glazura, 1, 'glazura' );  \r\n",
                "    INSERT INTO [dbo].word_name (id_word, id_lang, lang_name ) VALUES ( @Gres, 1, 'gres' );  \r\n",
                "    INSERT INTO [dbo].word_name (id_word, id_lang, lang_name ) VALUES ( @Glazura_i_gres, 1, 'glazura i gres' );  \r\n",
                "\r\n",
                "\r\n",
                "-- strings\r\n",
                "DECLARE @akumulator BIGINT;  INSERT INTO [dbo].strings (sys_name) VALUES (NULL) ; SET @akumulator = SCOPE_IDENTITY();\r\n",
                "    INSERT INTO [dbo].strings_name (id_strings, id_lang, lang_name ) VALUES ( @akumulator, 1, 'DED7034, DED7035, DED6936, DED6937' ); \r\n",
                "\r\n",
                "\r\n",
                "\r\n",
                "-- code\r\n",
                "DECLARE @Code_DED6900 BIGINT; INSERT INTO [dbo].code VALUES ( 'DED6900' ); SET @Code_DED6900 = SCOPE_IDENTITY();\r\n",
                "\r\n",
                "\r\n",
                "\r\n",
                "\r\n",
                "-- ICON\r\n",
                "DECLARE @ICON_srednica_tarczy BIGINT; INSERT INTO [dbo].icon ( sys_name,id_measure,id_dictionary )  VALUES ( 'srednica tarczy', @measure_dlugosc,NULL ); SET @ICON_srednica_tarczy = SCOPE_IDENTITY();\r\n",
                "                                INSERT INTO [dbo].icon_name (id_icon , id_lang , layout_name) VALUES ( @ICON_srednica_tarczy , 1, 'średnica tarczy');\r\n",
                " \r\n",
                "DECLARE @ICON_srednica_otworu BIGINT; INSERT INTO [dbo].icon ( sys_name,id_measure,id_dictionary )  VALUES ( 'srednica otworu', @measure_dlugosc,NULL ); SET @ICON_srednica_otworu = SCOPE_IDENTITY();\r\n",
                "                                INSERT INTO [dbo].icon_name (id_icon , id_lang , layout_name) VALUES ( @ICON_srednica_otworu , 1, 'średnica otworu');\r\n",
                "\r\n",
                "DECLARE @ICON_do_ciecta_materialu BIGINT; INSERT INTO [dbo].icon ( sys_name,id_measure,id_dictionary ) VALUES ( 'do ciecia materialu [dict]', NULL, @DICT_przeznaczenie_ciecie_plytki  ); SET @ICON_do_ciecta_materialu = SCOPE_IDENTITY();\r\n",
                "                                INSERT INTO [dbo].icon_name (id_icon , id_lang , layout_name) VALUES ( @ICON_do_ciecta_materialu , 1, 'materiał');\r\n",
                "\r\n",
                "DECLARE @ICON_rekomendowany_akumulator BIGINT; INSERT INTO [dbo].icon  ( sys_name,id_measure,id_dictionary ) VALUES ( 'rekomendowany_akumulator',NULL,NULL); SET @ICON_rekomendowany_akumulator = SCOPE_IDENTITY();\r\n",
                "                                INSERT INTO [dbo].icon_name (id_icon , id_lang , layout_name) VALUES ( @ICON_rekomendowany_akumulator , 1, 'rekomendowany akumulator');\r\n",
                " \r\n",
                "\r\n",
                " -- param\r\n",
                "INSERT INTO [dbo].params  ( id_code,id_icon,id_unit,num_value,id_word,id_strings ) VALUES ( @Code_DED6900 , @ICON_srednica_tarczy , @mm , 110.0 , NULL, NULL );  \r\n",
                "INSERT INTO [dbo].params  ( id_code,id_icon,id_unit,num_value,id_word,id_strings ) VALUES ( @Code_DED6900 , @ICON_srednica_otworu , @mm , 22.2 , NULL, NULL );  \r\n",
                "\r\n",
                "INSERT INTO [dbo].params  ( id_code,id_icon,id_unit,num_value,id_word,id_strings ) VALUES ( @Code_DED6900 , @ICON_do_ciecta_materialu , NULL , NULL , @Glazura_i_gres, NULL );  \r\n",
                "\r\n",
                "INSERT INTO [dbo].params  ( id_code,id_icon,id_unit,num_value,id_word,id_strings ) VALUES ( @Code_DED6900 , @ICON_rekomendowany_akumulator , NULL , NULL , NULL, @akumulator );  \r\n",
                "\r\n",
                " "
            ],
            "metadata": {
                "azdata_cell_guid": "eca699c8-1ca0-421d-afc8-7cd270412d2a"
            },
            "outputs": [
                {
                    "output_type": "display_data",
                    "data": {
                        "text/html": "(1 row affected)"
                    },
                    "metadata": {}
                },
                {
                    "output_type": "display_data",
                    "data": {
                        "text/html": "(1 row affected)"
                    },
                    "metadata": {}
                },
                {
                    "output_type": "display_data",
                    "data": {
                        "text/html": "(1 row affected)"
                    },
                    "metadata": {}
                },
                {
                    "output_type": "display_data",
                    "data": {
                        "text/html": "(1 row affected)"
                    },
                    "metadata": {}
                },
                {
                    "output_type": "display_data",
                    "data": {
                        "text/html": "(1 row affected)"
                    },
                    "metadata": {}
                },
                {
                    "output_type": "display_data",
                    "data": {
                        "text/html": "(1 row affected)"
                    },
                    "metadata": {}
                },
                {
                    "output_type": "display_data",
                    "data": {
                        "text/html": "(1 row affected)"
                    },
                    "metadata": {}
                },
                {
                    "output_type": "display_data",
                    "data": {
                        "text/html": "(1 row affected)"
                    },
                    "metadata": {}
                },
                {
                    "output_type": "display_data",
                    "data": {
                        "text/html": "(1 row affected)"
                    },
                    "metadata": {}
                },
                {
                    "output_type": "display_data",
                    "data": {
                        "text/html": "(1 row affected)"
                    },
                    "metadata": {}
                },
                {
                    "output_type": "display_data",
                    "data": {
                        "text/html": "(1 row affected)"
                    },
                    "metadata": {}
                },
                {
                    "output_type": "display_data",
                    "data": {
                        "text/html": "(1 row affected)"
                    },
                    "metadata": {}
                },
                {
                    "output_type": "display_data",
                    "data": {
                        "text/html": "(1 row affected)"
                    },
                    "metadata": {}
                },
                {
                    "output_type": "display_data",
                    "data": {
                        "text/html": "(1 row affected)"
                    },
                    "metadata": {}
                },
                {
                    "output_type": "display_data",
                    "data": {
                        "text/html": "(1 row affected)"
                    },
                    "metadata": {}
                },
                {
                    "output_type": "display_data",
                    "data": {
                        "text/html": "(1 row affected)"
                    },
                    "metadata": {}
                },
                {
                    "output_type": "display_data",
                    "data": {
                        "text/html": "(1 row affected)"
                    },
                    "metadata": {}
                },
                {
                    "output_type": "display_data",
                    "data": {
                        "text/html": "(1 row affected)"
                    },
                    "metadata": {}
                },
                {
                    "output_type": "display_data",
                    "data": {
                        "text/html": "(1 row affected)"
                    },
                    "metadata": {}
                },
                {
                    "output_type": "display_data",
                    "data": {
                        "text/html": "(1 row affected)"
                    },
                    "metadata": {}
                },
                {
                    "output_type": "display_data",
                    "data": {
                        "text/html": "(1 row affected)"
                    },
                    "metadata": {}
                },
                {
                    "output_type": "display_data",
                    "data": {
                        "text/html": "(1 row affected)"
                    },
                    "metadata": {}
                },
                {
                    "output_type": "display_data",
                    "data": {
                        "text/html": "(1 row affected)"
                    },
                    "metadata": {}
                },
                {
                    "output_type": "display_data",
                    "data": {
                        "text/html": "(1 row affected)"
                    },
                    "metadata": {}
                },
                {
                    "output_type": "display_data",
                    "data": {
                        "text/html": "(1 row affected)"
                    },
                    "metadata": {}
                },
                {
                    "output_type": "display_data",
                    "data": {
                        "text/html": "(1 row affected)"
                    },
                    "metadata": {}
                },
                {
                    "output_type": "display_data",
                    "data": {
                        "text/html": "(1 row affected)"
                    },
                    "metadata": {}
                },
                {
                    "output_type": "display_data",
                    "data": {
                        "text/html": "(1 row affected)"
                    },
                    "metadata": {}
                },
                {
                    "output_type": "display_data",
                    "data": {
                        "text/html": "Total execution time: 00:00:00.093"
                    },
                    "metadata": {}
                }
            ],
            "execution_count": 94
        },
        {
            "cell_type": "code",
            "source": [
                "/*\r\n",
                "\r\n",
                "-- MEASURE\r\n",
                "DECLARE @measure_none BIGINT;     INSERT INTO [dbo].measure VALUES ( '[NONE]' ); SET @measure_none = SCOPE_IDENTITY();\r\n",
                "DECLARE @measure_textonly BIGINT; INSERT INTO [dbo].measure VALUES ( '[TEXT]' ); SET @measure_textonly = SCOPE_IDENTITY();\r\n",
                "DECLARE @measure_dictionary BIGINT; INSERT INTO [dbo].measure VALUES ( '[DICTIONARY]' ); SET @measure_dictionary = SCOPE_IDENTITY();\r\n",
                "\r\n",
                "DECLARE @measure_bool BIGINT; INSERT INTO [dbo].measure VALUES ( 'Boolean logika' ); SET @measure_bool = SCOPE_IDENTITY();\r\n",
                "\r\n",
                "DECLARE @measure_dlugosc BIGINT; INSERT INTO [dbo].measure VALUES ( 'długość' ); SET @measure_dlugosc = SCOPE_IDENTITY();\r\n",
                "DECLARE @measure_masa BIGINT; INSERT INTO [dbo].measure VALUES ( 'masa' ); SET @measure_masa = SCOPE_IDENTITY();\r\n",
                "DECLARE @measure_czas BIGINT; INSERT INTO [dbo].measure VALUES ( 'czas' ); SET @measure_czas = SCOPE_IDENTITY();\r\n",
                "DECLARE @measure_temperatura BIGINT; INSERT INTO [dbo].measure VALUES ( 'temperatura' ); SET @measure_temperatura = SCOPE_IDENTITY();\r\n",
                "\r\n",
                "\r\n",
                "\r\n",
                "\r\n",
                "\r\n",
                "-- UNIT\r\n",
                "DECLARE @UNIT_TEXT BIGINT;  INSERT INTO [dbo].unit (sys_name, id_measure, suffix , multi ) VALUES ( '[TEXT]',  @measure_textonly , '' , 1 );  SET @UNIT_TEXT = SCOPE_IDENTITY();\r\n",
                "\r\n",
                "DECLARE @UNIT_DICTIONARY BIGINT;  INSERT INTO [dbo].unit (sys_name, id_measure, suffix , multi ) VALUES ( '[DICTIONARY]',  @measure_dictionary , '' , 1 );  SET @UNIT_DICTIONARY = SCOPE_IDENTITY();\r\n",
                " \r\n",
                "\r\n",
                "\r\n",
                "\r\n",
                "\r\n",
                "DECLARE @km BIGINT;  INSERT INTO [dbo].unit (sys_name, id_measure, suffix , multi ) VALUES ( 'kilometr',     @measure_dlugosc , 'km' , 1000 ); SET @km = SCOPE_IDENTITY();\r\n",
                "DECLARE @m BIGINT;  INSERT INTO [dbo].unit (sys_name, id_measure, suffix , multi ) VALUES ( 'metr',     @measure_dlugosc , 'm' , 1 ); SET @m = SCOPE_IDENTITY();\r\n",
                "DECLARE @dm BIGINT;  INSERT INTO [dbo].unit (sys_name, id_measure, suffix , multi ) VALUES ( 'decymetr',     @measure_dlugosc , 'dm' , 0.1 ); SET @dm = SCOPE_IDENTITY();\r\n",
                "DECLARE @cm BIGINT;  INSERT INTO [dbo].unit (sys_name, id_measure, suffix , multi ) VALUES ( 'centymetr',     @measure_dlugosc , 'cm' , 0.01 ); SET @cm = SCOPE_IDENTITY();\r\n",
                "DECLARE @mm BIGINT; INSERT INTO [dbo].unit (sys_name, id_measure, suffix , multi ) VALUES ( 'milimetr', @measure_dlugosc , 'mm' , 0.001 ); SET @mm = SCOPE_IDENTITY();\r\n",
                "\r\n",
                "DECLARE @g BIGINT; INSERT INTO [dbo].unit (sys_name, id_measure, suffix , multi ) VALUES ( 'gram', @measure_masa , 'g' , 1 ); SET @g = SCOPE_IDENTITY();\r\n",
                "DECLARE @kg BIGINT; INSERT INTO [dbo].unit (sys_name, id_measure, suffix , multi ) VALUES ( 'kilogram', @measure_masa , 'kg' , 1000 ); SET @kg = SCOPE_IDENTITY();\r\n",
                "\r\n",
                "DECLARE @s BIGINT; INSERT INTO [dbo].unit (sys_name, id_measure, suffix , multi ) VALUES ( 'sekunda', @measure_czas , 's' , 1 ); SET @s = SCOPE_IDENTITY();\r\n",
                "DECLARE @min BIGINT; INSERT INTO [dbo].unit (sys_name, id_measure, suffix , multi ) VALUES ( 'minuta', @measure_czas , 'min' , 60 ); SET @min = SCOPE_IDENTITY();\r\n",
                "DECLARE @h BIGINT; INSERT INTO [dbo].unit (sys_name, id_measure, suffix , multi ) VALUES ( 'godzina', @measure_czas , 'h' , 3600 ); SET @h = SCOPE_IDENTITY();\r\n",
                "\r\n",
                "DECLARE @K BIGINT; INSERT INTO [dbo].unit (sys_name, id_measure, suffix , multi ) VALUES ( 'Kelwin', @measure_temperatura , '°K' , 1 ); SET @K = SCOPE_IDENTITY();\r\n",
                "DECLARE @C BIGINT; INSERT INTO [dbo].unit (sys_name, id_measure, suffix , multi ) VALUES ( 'Celcjusz', @measure_temperatura , '°C' , 1 ); SET @C = SCOPE_IDENTITY();\r\n",
                "\r\n",
                "\r\n",
                "DECLARE @tak_nie BIGINT; INSERT INTO [dbo].unit (sys_name, id_measure, suffix , multi ) VALUES ( 'tak/nie', @measure_bool , '' , 1 ); SET @tak_nie = SCOPE_IDENTITY();\r\n",
                "\r\n",
                " \r\n",
                "-- ICON\r\n",
                "DECLARE @ICON_srednica_tarczy BIGINT; INSERT INTO [dbo].icon (sys_name,id_measure,layout_target,in_fish_top,in_fish_bottom)  VALUES ( 'srednica tarczy', @measure_dlugosc ,10,1,0); SET @ICON_srednica_tarczy = SCOPE_IDENTITY();\r\n",
                "DECLARE @ICON_srednica_otworu BIGINT; INSERT INTO [dbo].icon (sys_name,id_measure,layout_target,in_fish_top,in_fish_bottom)  VALUES ( 'srednica otworu', @measure_dlugosc ,10,1,0); SET @ICON_srednica_otworu = SCOPE_IDENTITY();\r\n",
                "\r\n",
                "DECLARE @ICON_chlodzenie_woda BIGINT; INSERT INTO [dbo].icon (sys_name,id_measure,layout_target,in_fish_top,in_fish_bottom)  VALUES ( 'chlodzenie woda', @measure_dictionary    ,10,1,0 ); SET @ICON_chlodzenie_woda = SCOPE_IDENTITY();\r\n",
                "\r\n",
                "DECLARE @ICON_rekomendowany_akumulator BIGINT; INSERT INTO [dbo].icon  (sys_name,id_measure,layout_target,in_fish_top,in_fish_bottom) VALUES ( 'rekomendowany_akumulator', @measure_textonly ,10,1,0); SET @ICON_rekomendowany_akumulator = SCOPE_IDENTITY();\r\n",
                "\r\n",
                "\r\n",
                "INSERT INTO [dbo].icon_name (id_icon, id_lang, layout_name) VALUES (@ICON_srednica_tarczy,1,'średnica tarczy');\r\n",
                "INSERT INTO [dbo].icon_name (id_icon, id_lang, layout_name) VALUES (@ICON_srednica_otworu,1,'średnica otworu');\r\n",
                "INSERT INTO [dbo].icon_name (id_icon, id_lang, layout_name) VALUES (@ICON_chlodzenie_woda,1,'chłodzenie wodą:tak (czy chłodzenie: wodą) ?');\r\n",
                "INSERT INTO [dbo].icon_name (id_icon, id_lang, layout_name) VALUES (@ICON_rekomendowany_akumulator,1,'rekomendowany akumulator');\r\n",
                "INSERT INTO [dbo].icon_name (id_icon, id_lang, layout_name) VALUES (@ICON_srednica_tarczy,2,'EN średnica tarczy');\r\n",
                "INSERT INTO [dbo].icon_name (id_icon, id_lang, layout_name) VALUES (@ICON_srednica_otworu,2,'EN średnica otworu');\r\n",
                "INSERT INTO [dbo].icon_name (id_icon, id_lang, layout_name) VALUES (@ICON_chlodzenie_woda,2,'EN chłodzenie wodą:tak (czy chłodzenie: wodą) ?');\r\n",
                "INSERT INTO [dbo].icon_name (id_icon, id_lang, layout_name) VALUES (@ICON_rekomendowany_akumulator,2,'EN rekomendowany akumulator');\r\n",
                " \r\n",
                "\r\n",
                "\r\n",
                "-- code\r\n",
                "DECLARE @Code_DED6900 BIGINT; INSERT INTO [dbo].code VALUES ( 'DED6900' ); SET @Code_DED6900 = SCOPE_IDENTITY();\r\n",
                "\r\n",
                "\r\n",
                "-- dictionary\r\n",
                "DECLARE @Dictionary_YES BIGINT; INSERT INTO [dbo].dictionary VALUES ( 'TAK' ); SET @Dictionary_YES = SCOPE_IDENTITY();\r\n",
                "DECLARE @Dictionary_NO BIGINT; INSERT INTO [dbo].dictionary VALUES ( 'NO' ); SET @Dictionary_NO = SCOPE_IDENTITY();\r\n",
                "\r\n",
                "DECLARE @Dictionarry_lang_PL_YES BIGINT; INSERT INTO [dbo].dictionary_name ( id_dictionary , id_lang,  lang_name )  VALUES ( @Dictionary_YES ,1, 'tak' ); SET @Dictionarry_lang_PL_YES = SCOPE_IDENTITY();\r\n",
                "DECLARE @Dictionarry_lang_EN_YES BIGINT; INSERT INTO [dbo].dictionary_name ( id_dictionary , id_lang,  lang_name )  VALUES ( @Dictionary_YES ,2, 'yes' ); SET @Dictionarry_lang_EN_YES = SCOPE_IDENTITY();\r\n",
                "\r\n",
                "DECLARE @Dictionarry_lang_PL_NO BIGINT; INSERT INTO [dbo].dictionary_name ( id_dictionary , id_lang,  lang_name )  VALUES ( @Dictionary_NO ,1, 'tak' ); SET @Dictionarry_lang_PL_NO = SCOPE_IDENTITY();\r\n",
                "DECLARE @Dictionarry_lang_EN_NO BIGINT; INSERT INTO [dbo].dictionary_name ( id_dictionary , id_lang,  lang_name )  VALUES ( @Dictionary_NO ,2, 'yes' ); SET @Dictionarry_lang_EN_NO = SCOPE_IDENTITY();\r\n",
                "\r\n",
                "-- params\r\n",
                "INSERT INTO [dbo].params (id_code,id_icon,id_unit,num_value ) VALUES (  @Code_DED6900 , @ICON_chlodzenie_woda , @measure_dictionary , @Dictionary_YES );\r\n",
                "\r\n",
                "INSERT INTO [dbo].params (id_code,id_icon,id_unit,num_value) VALUES (  @Code_DED6900 , @ICON_srednica_tarczy , @mm , 110 );\r\n",
                "INSERT INTO [dbo].params (id_code,id_icon,id_unit,num_value) VALUES (  @Code_DED6900 , @ICON_srednica_otworu , @mm , 22.2 );\r\n",
                "\r\n",
                "DECLARE @Param_Rekomendowany_aku BIGINT\r\n",
                "INSERT INTO [dbo].params (id_code,id_icon,id_unit,num_value) VALUES (  @Code_DED6900 , @ICON_rekomendowany_akumulator , @UNIT_TEXT , NULL );  SET @Param_Rekomendowany_aku = SCOPE_IDENTITY();\r\n",
                "\r\n",
                "INSERT INTO [dbo].params_name VALUES ( @Param_Rekomendowany_aku , 1 , 'DED7034, DED7035, DED6936, DED6937')\r\n",
                "go\r\n",
                "*/\r\n",
                "\r\n",
                "\r\n",
                "\r\n",
                "\r\n",
                "/*\r\n",
                "SELECT C.code_String , P.num_value AS num_val , PN.name AS PN_name, I.sys_name, I.layout_target, I.id_measure , ' Unit -> ', U.sys_name AS U_name , U.suffix , U.separator AS separator , INa.* , D.sys_name , DN.lang_name\r\n",
                "         FROM code AS C \r\n",
                "    FULL JOIN params AS P ON ( C.code_id = P.id_code )\r\n",
                "    FULL JOIN params_name AS PN ON ( P.id = PN.id_params AND PN.id_lang = 1 )\r\n",
                "    FULL JOIN icon AS I ON ( P.id_icon = I.id )\r\n",
                "    FULL JOIN icon_name AS INa ON ( I.id = INa.id_icon AND INa.id_lang = 1 )\r\n",
                "    FULL JOIN unit AS U ON ( P.id_unit = U.id )\r\n",
                "    FULL JOIN dictionary AS D ON ( D.id = P.num_value)\r\n",
                "    FULL JOIN dictionary_name AS DN ON ( DN.id_dictionary = P.num_value AND DN.id_lang = 1 )\r\n",
                "    \r\n",
                "\r\n",
                "\r\n",
                "WHERE code_String='DED6900';\r\n",
                "*/\r\n",
                "\r\n",
                "\r\n",
                "\r\n",
                "\r\n",
                "\r\n",
                "\r\n",
                "/*\r\n",
                "SELECT C.code_String , P.num_value AS num_val , PN.name AS PN_name, I.sys_name, I.layout_target, I.id_measure , ' Unit -> ', U.sys_name AS U_name , U.suffix , U.separator AS separator , INa.* , D.sys_name , DN.lang_name\r\n",
                "         FROM code AS C \r\n",
                "    FULL JOIN params AS P ON ( C.code_id = P.id_code )\r\n",
                "    FULL JOIN params_name AS PN ON ( P.id = PN.id_params AND PN.id_lang = 1 )\r\n",
                "    FULL JOIN icon AS I ON ( P.id_icon = I.id )\r\n",
                "    FULL JOIN icon_name AS INa ON ( I.id = INa.id_icon AND INa.id_lang = 1 )\r\n",
                "    FULL JOIN unit AS U ON ( P.id_unit = U.id )\r\n",
                "    FULL JOIN dictionary AS D ON ( D.id = P.num_value)\r\n",
                "    FULL JOIN dictionary_name AS DN ON ( DN.id_dictionary = P.num_value AND DN.id_lang = 1 )\r\n",
                "    \r\n",
                "\r\n",
                "\r\n",
                "WHERE code_String='DED6900';\r\n",
                "*/\r\n",
                "\r\n",
                "\r\n",
                ""
            ],
            "metadata": {
                "azdata_cell_guid": "3bd9f43c-e7a9-4b26-a2f3-0a386a84d99f"
            },
            "outputs": [],
            "execution_count": null
        },
        {
            "cell_type": "code",
            "source": [
                "\r\n",
                "DECLARE @codeID AS BIGINT\r\n",
                "SET  @codeID =  ( SELECT code_id FROM code WHERE code_String='DED6900'   ) ;\r\n",
                "\r\n",
                "SELECT  INa.layout_name,\r\n",
                "        S.lang_name,\r\n",
                "        W.lang_name,\r\n",
                "        P.num_value,\r\n",
                "        U.suffix   \r\n",
                "\r\n",
                "    FROM params AS P\r\n",
                "\r\n",
                "    FULL JOIN [dbo].icon_name      AS INa ON ( INa.id_icon = P.id_icon AND INa.id_lang = 1 )\r\n",
                "    FULL JOIN [dbo].unit      AS U ON ( U.id = P.id_unit )\r\n",
                "    FULL JOIN [dbo].word_name AS W ON ( W.id_word = P.id_word AND W.id_lang=1)    \r\n",
                "    FULL JOIN [dbo].strings_name AS S ON ( S.id_strings = P.id_strings AND S.id_lang=1)    \r\n",
                " \r\n",
                "    WHERE P.id_code=@codeID\r\n",
                "\r\n",
                "go\r\n",
                ""
            ],
            "metadata": {
                "azdata_cell_guid": "992cb9b1-cc2f-4555-af27-816d5a08fc4b",
                "tags": []
            },
            "outputs": [
                {
                    "output_type": "display_data",
                    "data": {
                        "text/html": "(4 rows affected)"
                    },
                    "metadata": {}
                },
                {
                    "output_type": "display_data",
                    "data": {
                        "text/html": "Total execution time: 00:00:00.004"
                    },
                    "metadata": {}
                },
                {
                    "output_type": "execute_result",
                    "execution_count": 106,
                    "data": {
                        "application/vnd.dataresource+json": {
                            "schema": {
                                "fields": [
                                    {
                                        "name": "layout_name"
                                    },
                                    {
                                        "name": "lang_name"
                                    },
                                    {
                                        "name": "lang_name"
                                    },
                                    {
                                        "name": "num_value"
                                    },
                                    {
                                        "name": "suffix"
                                    }
                                ]
                            },
                            "data": [
                                {
                                    "0": "srednica tarczy",
                                    "1": "NULL",
                                    "2": "NULL",
                                    "3": "110.0000000000000000",
                                    "4": "mm"
                                },
                                {
                                    "0": "srednica otworu",
                                    "1": "NULL",
                                    "2": "NULL",
                                    "3": "22.2000000000000000",
                                    "4": "mm"
                                },
                                {
                                    "0": "material",
                                    "1": "NULL",
                                    "2": "glazura i gres",
                                    "3": "NULL",
                                    "4": "NULL"
                                },
                                {
                                    "0": "rekomendowany akumulator",
                                    "1": "DED7034, DED7035, DED6936, DED6937",
                                    "2": "NULL",
                                    "3": "NULL",
                                    "4": "NULL"
                                }
                            ]
                        },
                        "text/html": "<table><tr><th>layout_name</th><th>lang_name</th><th>lang_name</th><th>num_value</th><th>suffix</th></tr><tr><td>srednica tarczy</td><td>NULL</td><td>NULL</td><td>110.0000000000000000</td><td>mm</td></tr><tr><td>srednica otworu</td><td>NULL</td><td>NULL</td><td>22.2000000000000000</td><td>mm</td></tr><tr><td>material</td><td>NULL</td><td>glazura i gres</td><td>NULL</td><td>NULL</td></tr><tr><td>rekomendowany akumulator</td><td>DED7034, DED7035, DED6936, DED6937</td><td>NULL</td><td>NULL</td><td>NULL</td></tr></table>"
                    },
                    "metadata": {}
                }
            ],
            "execution_count": 106
        }
    ]
}