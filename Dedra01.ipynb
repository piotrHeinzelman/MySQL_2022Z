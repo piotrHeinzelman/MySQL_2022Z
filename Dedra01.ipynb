{
    "metadata": {
        "kernelspec": {
            "name": "SQL",
            "display_name": "SQL",
            "language": "sql"
        },
        "language_info": {
            "name": "sql",
            "version": ""
        },
        "extensions": {
            "azuredatastudio": {
                "version": 1,
                "views": []
            }
        }
    },
    "nbformat_minor": 2,
    "nbformat": 4,
    "cells": [
        {
            "cell_type": "code",
            "source": [
                "\r\n",
                "\r\n",
                "-- create database\r\n",
                "IF EXISTS ( SELECT * FROM SYS.databases WHERE [name]= 'okno' ) \r\n",
                "    BEGIN\r\n",
                "     DROP DATABASE okno;\r\n",
                "     PRINT  ' DROP DATABASE ';\r\n",
                "    END\r\n",
                "\r\n",
                "BEGIN\r\n",
                "\r\n",
                "CREATE DATABASE okno\r\n",
                " ON PRIMARY (\r\n",
                "        name=okno,\r\n",
                "        filename='/var/opt/mssql/data/okno.mdf',\r\n",
                "        size=20MB,\r\n",
                "        maxsize=50MB,\r\n",
                "        filegrowth=10MB\r\n",
                "    )\r\n",
                "    LOG ON (\r\n",
                "        name=okno_log,\r\n",
                "        filename='/var/opt/mssql/data/okno.ldf',\r\n",
                "        size=20MB,\r\n",
                "        maxsize=50MB,\r\n",
                "        filegrowth=10MB\r\n",
                "    );\r\n",
                " PRINT  ' CREATE DATABASE ';   \r\n",
                "end"
            ],
            "metadata": {
                "azdata_cell_guid": "3514279a-a987-4bee-ba0f-c1b9a12e896f"
            },
            "outputs": [
                {
                    "output_type": "error",
                    "evalue": "Msg 3702, Level 16, State 3, Line 6\r\nCannot drop database \"okno\" because it is currently in use.",
                    "ename": "",
                    "traceback": []
                },
                {
                    "output_type": "display_data",
                    "data": {
                        "text/html": " DROP DATABASE "
                    },
                    "metadata": {}
                },
                {
                    "output_type": "error",
                    "evalue": "Msg 1801, Level 16, State 3, Line 12\r\nDatabase 'okno' already exists. Choose a different database name.",
                    "ename": "",
                    "traceback": []
                },
                {
                    "output_type": "display_data",
                    "data": {
                        "text/html": " CREATE DATABASE "
                    },
                    "metadata": {}
                },
                {
                    "output_type": "display_data",
                    "data": {
                        "text/html": "Total execution time: 00:00:00.012"
                    },
                    "metadata": {}
                }
            ],
            "execution_count": 2
        },
        {
            "cell_type": "code",
            "source": [
                "\r\n",
                "USE okno\r\n",
                "-- name\r\n",
                "DROP TABLE IF EXISTS [dbo].icon_name\r\n",
                "DROP TABLE IF EXISTS [dbo].measure_name\r\n",
                "DROP TABLE IF EXISTS [dbo].unit_name\r\n",
                "DROP TABLE IF EXISTS [dbo].params_name\r\n",
                "DROP TABLE IF EXISTS [dbo].dictionary_name\r\n",
                "\r\n",
                "\r\n",
                "\r\n",
                "--dane\r\n",
                "DROP TABLE IF EXISTS [dbo].dictionary\r\n",
                "DROP TABLE IF EXISTS [dbo].params\r\n",
                "DROP TABLE IF EXISTS [dbo].icon\r\n",
                "DROP TABLE IF EXISTS [dbo].unit\r\n",
                "\r\n",
                "-- slowniki\r\n",
                "DROP TABLE IF EXISTS [dbo].code\r\n",
                "DROP TABLE IF EXISTS [dbo].icon_group\r\n",
                "DROP TABLE IF EXISTS [dbo].measure\r\n",
                "DROP TABLE IF EXISTS [dbo].masters\r\n",
                "\r\n",
                "\r\n",
                "------------------------------------------\r\n",
                "\r\n",
                "CREATE TABLE dbo.code (\r\n",
                "    code_id       bigint       NOT NULL IDENTITY ,\r\n",
                "    code_String     varchar(255) NOT NULL,\r\n",
                "    PRIMARY KEY( code_id ) \r\n",
                ");\r\n",
                " \r\n",
                "\r\n",
                "\r\n",
                "CREATE TABLE dbo.icon_group (\r\n",
                "    id       bigint       NOT NULL IDENTITY ,\r\n",
                "    sys_name     varchar(255) NOT NULL,\r\n",
                "    PRIMARY KEY( id ) \r\n",
                ");\r\n",
                " \r\n",
                "\r\n",
                "CREATE TABLE dbo.masters (\r\n",
                "    id       bigint       NOT NULL IDENTITY ,\r\n",
                "    sys_name     varchar(255) NOT NULL,\r\n",
                "    PRIMARY KEY( id ) \r\n",
                ");\r\n",
                " \r\n",
                "\r\n",
                "\r\n",
                "CREATE TABLE dbo.measure (\r\n",
                "    id       bigint       NOT NULL IDENTITY ,\r\n",
                "    sys_name     varchar(255) NOT NULL,\r\n",
                "    PRIMARY KEY( id ) \r\n",
                ");\r\n",
                " \r\n",
                "\r\n",
                "--------------------------------\r\n",
                "\r\n",
                "CREATE TABLE dbo.unit (\r\n",
                "    id       bigint       NOT NULL IDENTITY ,\r\n",
                "    sys_name     varchar(255) NOT NULL,\r\n",
                "    id_measure BIGINT FOREIGN KEY REFERENCES dbo.measure ( id ), \r\n",
                "    suffix varchar(255) NULL,\r\n",
                "    multi DECIMAL(32,16),\r\n",
                "    next_id_measure BIGINT NULL,\r\n",
                "    separator varchar(255) NULL,\r\n",
                "    PRIMARY KEY( id ) \r\n",
                ");\r\n",
                " \r\n",
                "\r\n",
                "\r\n",
                "\r\n",
                "CREATE TABLE dbo.icon (\r\n",
                "    id       BIGINT       NOT NULL IDENTITY ,\r\n",
                "    sys_name     varchar(255) NOT NULL,\r\n",
                "    id_measure BIGINT FOREIGN KEY REFERENCES dbo.measure ( id ), \r\n",
                "    id_icon_group BIGINT NULL, \r\n",
                "\r\n",
                "    layout_target BIGINT NULL, \r\n",
                "\r\n",
                "    is_tech BIT NULL,\r\n",
                "    is_promo BIT NULL,\r\n",
                "\r\n",
                "    in_paper BIT NULL,\r\n",
                "    in_catalog BIT NULL,\r\n",
                "    in_shipping BIT NULL,\r\n",
                "    in_rack BIT NULL,    \r\n",
                "    in_fish_top BIT NULL,\r\n",
                "    in_fish_bottom BIT NULL,\r\n",
                "    in_t_znamionowa  BIT NULL,\r\n",
                "    in_t_ostrzerzen  BIT NULL,\r\n",
                "    in_opak_jedn  BIT NULL,\r\n",
                "    in_opak_zbiorcze  BIT NULL,\r\n",
                "    in_instrukcja  BIT NULL,\r\n",
                "\r\n",
                "    PRIMARY KEY( id ) \r\n",
                ");\r\n",
                " \r\n",
                "\r\n",
                "\r\n",
                "\r\n",
                "CREATE TABLE dbo.params (\r\n",
                "    id       bigint       NOT NULL IDENTITY ,\r\n",
                "    id_code BIGINT FOREIGN KEY REFERENCES dbo.code ( code_id ), \r\n",
                "    id_icon BIGINT FOREIGN KEY REFERENCES dbo.icon ( id ),     \r\n",
                "    id_unit BIGINT FOREIGN KEY REFERENCES dbo.unit ( id ),   \r\n",
                "    num_value DECIMAL(32,16),\r\n",
                "    priority  BIGINT NULL,\r\n",
                "    PRIMARY KEY( id ) \r\n",
                ");\r\n",
                " \r\n",
                "\r\n",
                "CREATE TABLE dbo.dictionary (\r\n",
                "    id BIGINT NOT NULL IDENTITY, \r\n",
                "    sys_name     varchar(255) NOT NULL,\r\n",
                "    PRIMARY KEY( id ) \r\n",
                ");\r\n",
                "\r\n",
                "------------------------------------------\r\n",
                "\r\n",
                "CREATE TABLE dbo.icon_name (\r\n",
                "    id_icon BIGINT FOREIGN KEY REFERENCES dbo.icon ( id ), \r\n",
                "    id_lang BIGINT ,     \r\n",
                "    layout_name nvarchar(255),\r\n",
                "    PRIMARY KEY( id_icon, id_lang ) \r\n",
                ");\r\n",
                " \r\n",
                "\r\n",
                "\r\n",
                "CREATE TABLE dbo.measure_name (\r\n",
                "    id_measure BIGINT FOREIGN KEY REFERENCES dbo.measure ( id ), \r\n",
                "    id_lang BIGINT ,     \r\n",
                "    [name] nvarchar(255),\r\n",
                "    PRIMARY KEY( id_measure, id_lang ) \r\n",
                ");\r\n",
                " \r\n",
                "\r\n",
                "CREATE TABLE dbo.unit_name (\r\n",
                "    id_unit BIGINT FOREIGN KEY REFERENCES dbo.unit ( id ), \r\n",
                "    id_lang BIGINT ,     \r\n",
                "    [name] nvarchar(255),\r\n",
                "    PRIMARY KEY( id_unit, id_lang ) \r\n",
                ");\r\n",
                " \r\n",
                "\r\n",
                "CREATE TABLE dbo.params_name (\r\n",
                "    id_params BIGINT FOREIGN KEY REFERENCES dbo.params ( id ), \r\n",
                "    id_lang BIGINT ,     \r\n",
                "    [name] nvarchar(255),\r\n",
                "    PRIMARY KEY( id_params, id_lang ) \r\n",
                ");\r\n",
                " \r\n",
                "\r\n",
                "CREATE TABLE dbo.dictionary_name (\r\n",
                "    id_dictionary BIGINT FOREIGN KEY REFERENCES dbo.dictionary ( id ), \r\n",
                "    id_lang BIGINT ,     \r\n",
                "    lang_name nvarchar(255),\r\n",
                "    PRIMARY KEY( id_dictionary, id_lang ) \r\n",
                ");\r\n",
                "\r\n",
                "\r\n",
                "\r\n",
                "\r\n",
                "\r\n",
                "\r\n",
                "-- MEASURE\r\n",
                "DECLARE @measure_none BIGINT;     INSERT INTO [dbo].measure VALUES ( '[NONE]' ); SET @measure_none = SCOPE_IDENTITY();\r\n",
                "DECLARE @measure_textonly BIGINT; INSERT INTO [dbo].measure VALUES ( '[TEXT]' ); SET @measure_textonly = SCOPE_IDENTITY();\r\n",
                "DECLARE @measure_dictionary BIGINT; INSERT INTO [dbo].measure VALUES ( '[DICTIONARY]' ); SET @measure_dictionary = SCOPE_IDENTITY();\r\n",
                "\r\n",
                "DECLARE @measure_bool BIGINT; INSERT INTO [dbo].measure VALUES ( 'Boolean logika' ); SET @measure_bool = SCOPE_IDENTITY();\r\n",
                "\r\n",
                "DECLARE @measure_dlugosc BIGINT; INSERT INTO [dbo].measure VALUES ( 'długość' ); SET @measure_dlugosc = SCOPE_IDENTITY();\r\n",
                "DECLARE @measure_masa BIGINT; INSERT INTO [dbo].measure VALUES ( 'masa' ); SET @measure_masa = SCOPE_IDENTITY();\r\n",
                "DECLARE @measure_czas BIGINT; INSERT INTO [dbo].measure VALUES ( 'czas' ); SET @measure_czas = SCOPE_IDENTITY();\r\n",
                "DECLARE @measure_temperatura BIGINT; INSERT INTO [dbo].measure VALUES ( 'temperatura' ); SET @measure_temperatura = SCOPE_IDENTITY();\r\n",
                "\r\n",
                "\r\n",
                "\r\n",
                "\r\n",
                "\r\n",
                "-- UNIT\r\n",
                "DECLARE @UNIT_TEXT BIGINT;  INSERT INTO [dbo].unit (sys_name, id_measure, suffix , multi ) VALUES ( '[TEXT]',  @measure_textonly , '' , 1 );  SET @UNIT_TEXT = SCOPE_IDENTITY();\r\n",
                "\r\n",
                "DECLARE @UNIT_DICTIONARY BIGINT;  INSERT INTO [dbo].unit (sys_name, id_measure, suffix , multi ) VALUES ( '[DICTIONARY]',  @measure_dictionary , '' , 1 );  SET @UNIT_DICTIONARY = SCOPE_IDENTITY();\r\n",
                " \r\n",
                "\r\n",
                "\r\n",
                "\r\n",
                "\r\n",
                "DECLARE @km BIGINT;  INSERT INTO [dbo].unit (sys_name, id_measure, suffix , multi ) VALUES ( 'kilometr',     @measure_dlugosc , 'km' , 1000 ); SET @km = SCOPE_IDENTITY();\r\n",
                "DECLARE @m BIGINT;  INSERT INTO [dbo].unit (sys_name, id_measure, suffix , multi ) VALUES ( 'metr',     @measure_dlugosc , 'm' , 1 ); SET @m = SCOPE_IDENTITY();\r\n",
                "DECLARE @dm BIGINT;  INSERT INTO [dbo].unit (sys_name, id_measure, suffix , multi ) VALUES ( 'decymetr',     @measure_dlugosc , 'dm' , 0.1 ); SET @dm = SCOPE_IDENTITY();\r\n",
                "DECLARE @cm BIGINT;  INSERT INTO [dbo].unit (sys_name, id_measure, suffix , multi ) VALUES ( 'centymetr',     @measure_dlugosc , 'cm' , 0.01 ); SET @cm = SCOPE_IDENTITY();\r\n",
                "DECLARE @mm BIGINT; INSERT INTO [dbo].unit (sys_name, id_measure, suffix , multi ) VALUES ( 'milimetr', @measure_dlugosc , 'mm' , 0.001 ); SET @mm = SCOPE_IDENTITY();\r\n",
                "\r\n",
                "DECLARE @g BIGINT; INSERT INTO [dbo].unit (sys_name, id_measure, suffix , multi ) VALUES ( 'gram', @measure_masa , 'g' , 1 ); SET @g = SCOPE_IDENTITY();\r\n",
                "DECLARE @kg BIGINT; INSERT INTO [dbo].unit (sys_name, id_measure, suffix , multi ) VALUES ( 'kilogram', @measure_masa , 'kg' , 1000 ); SET @kg = SCOPE_IDENTITY();\r\n",
                "\r\n",
                "DECLARE @s BIGINT; INSERT INTO [dbo].unit (sys_name, id_measure, suffix , multi ) VALUES ( 'sekunda', @measure_czas , 's' , 1 ); SET @s = SCOPE_IDENTITY();\r\n",
                "DECLARE @min BIGINT; INSERT INTO [dbo].unit (sys_name, id_measure, suffix , multi ) VALUES ( 'minuta', @measure_czas , 'min' , 60 ); SET @min = SCOPE_IDENTITY();\r\n",
                "DECLARE @h BIGINT; INSERT INTO [dbo].unit (sys_name, id_measure, suffix , multi ) VALUES ( 'godzina', @measure_czas , 'h' , 3600 ); SET @h = SCOPE_IDENTITY();\r\n",
                "\r\n",
                "DECLARE @K BIGINT; INSERT INTO [dbo].unit (sys_name, id_measure, suffix , multi ) VALUES ( 'Kelwin', @measure_temperatura , '°K' , 1 ); SET @K = SCOPE_IDENTITY();\r\n",
                "DECLARE @C BIGINT; INSERT INTO [dbo].unit (sys_name, id_measure, suffix , multi ) VALUES ( 'Celcjusz', @measure_temperatura , '°C' , 1 ); SET @C = SCOPE_IDENTITY();\r\n",
                "\r\n",
                "\r\n",
                "DECLARE @tak_nie BIGINT; INSERT INTO [dbo].unit (sys_name, id_measure, suffix , multi ) VALUES ( 'tak/nie', @measure_bool , '' , 1 ); SET @tak_nie = SCOPE_IDENTITY();\r\n",
                "\r\n",
                " \r\n",
                "-- ICON\r\n",
                "DECLARE @ICON_srednica_tarczy BIGINT; INSERT INTO [dbo].icon (sys_name,id_measure,layout_target,in_fish_top,in_fish_bottom)  VALUES ( 'srednica tarczy', @measure_dlugosc ,10,1,0); SET @ICON_srednica_tarczy = SCOPE_IDENTITY();\r\n",
                "DECLARE @ICON_srednica_otworu BIGINT; INSERT INTO [dbo].icon (sys_name,id_measure,layout_target,in_fish_top,in_fish_bottom)  VALUES ( 'srednica otworu', @measure_dlugosc ,10,1,0); SET @ICON_srednica_otworu = SCOPE_IDENTITY();\r\n",
                "\r\n",
                "DECLARE @ICON_chlodzenie_woda BIGINT; INSERT INTO [dbo].icon (sys_name,id_measure,layout_target,in_fish_top,in_fish_bottom)  VALUES ( 'chlodzenie woda', @measure_dictionary    ,10,1,0 ); SET @ICON_chlodzenie_woda = SCOPE_IDENTITY();\r\n",
                "\r\n",
                "DECLARE @ICON_rekomendowany_akumulator BIGINT; INSERT INTO [dbo].icon  (sys_name,id_measure,layout_target,in_fish_top,in_fish_bottom) VALUES ( 'rekomendowany_akumulator', @measure_textonly ,10,1,0); SET @ICON_rekomendowany_akumulator = SCOPE_IDENTITY();\r\n",
                "\r\n",
                "\r\n",
                "INSERT INTO [dbo].icon_name (id_icon, id_lang, layout_name) VALUES (@ICON_srednica_tarczy,1,'średnica tarczy');\r\n",
                "INSERT INTO [dbo].icon_name (id_icon, id_lang, layout_name) VALUES (@ICON_srednica_otworu,1,'średnica otworu');\r\n",
                "INSERT INTO [dbo].icon_name (id_icon, id_lang, layout_name) VALUES (@ICON_chlodzenie_woda,1,'chłodzenie wodą:tak (czy chłodzenie: wodą) ?');\r\n",
                "INSERT INTO [dbo].icon_name (id_icon, id_lang, layout_name) VALUES (@ICON_rekomendowany_akumulator,1,'rekomendowany akumulator');\r\n",
                "INSERT INTO [dbo].icon_name (id_icon, id_lang, layout_name) VALUES (@ICON_srednica_tarczy,2,'EN średnica tarczy');\r\n",
                "INSERT INTO [dbo].icon_name (id_icon, id_lang, layout_name) VALUES (@ICON_srednica_otworu,2,'EN średnica otworu');\r\n",
                "INSERT INTO [dbo].icon_name (id_icon, id_lang, layout_name) VALUES (@ICON_chlodzenie_woda,2,'EN chłodzenie wodą:tak (czy chłodzenie: wodą) ?');\r\n",
                "INSERT INTO [dbo].icon_name (id_icon, id_lang, layout_name) VALUES (@ICON_rekomendowany_akumulator,2,'EN rekomendowany akumulator');\r\n",
                " \r\n",
                "\r\n",
                "\r\n",
                "-- code\r\n",
                "DECLARE @Code_DED6900 BIGINT; INSERT INTO [dbo].code VALUES ( 'DED6900' ); SET @Code_DED6900 = SCOPE_IDENTITY();\r\n",
                "\r\n",
                "\r\n",
                "-- dictionary\r\n",
                "DECLARE @Dictionary_YES BIGINT; INSERT INTO [dbo].dictionary VALUES ( 'TAK' ); SET @Dictionary_YES = SCOPE_IDENTITY();\r\n",
                "DECLARE @Dictionary_NO BIGINT; INSERT INTO [dbo].dictionary VALUES ( 'NO' ); SET @Dictionary_NO = SCOPE_IDENTITY();\r\n",
                "\r\n",
                "DECLARE @Dictionarry_lang_PL_YES BIGINT; INSERT INTO [dbo].dictionary_name ( id_dictionary , id_lang,  lang_name )  VALUES ( @Dictionary_YES ,1, 'tak' ); SET @Dictionarry_lang_PL_YES = SCOPE_IDENTITY();\r\n",
                "DECLARE @Dictionarry_lang_EN_YES BIGINT; INSERT INTO [dbo].dictionary_name ( id_dictionary , id_lang,  lang_name )  VALUES ( @Dictionary_YES ,2, 'yes' ); SET @Dictionarry_lang_EN_YES = SCOPE_IDENTITY();\r\n",
                "\r\n",
                "DECLARE @Dictionarry_lang_PL_NO BIGINT; INSERT INTO [dbo].dictionary_name ( id_dictionary , id_lang,  lang_name )  VALUES ( @Dictionary_NO ,1, 'tak' ); SET @Dictionarry_lang_PL_NO = SCOPE_IDENTITY();\r\n",
                "DECLARE @Dictionarry_lang_EN_NO BIGINT; INSERT INTO [dbo].dictionary_name ( id_dictionary , id_lang,  lang_name )  VALUES ( @Dictionary_NO ,2, 'yes' ); SET @Dictionarry_lang_EN_NO = SCOPE_IDENTITY();\r\n",
                "\r\n",
                "\r\n",
                "INSERT INTO [dbo].params (id_code,id_icon,id_unit,num_value ) VALUES (  @Code_DED6900 , @ICON_chlodzenie_woda , @measure_dictionary , @Dictionary_YES );\r\n",
                "\r\n",
                "INSERT INTO [dbo].params (id_code,id_icon,id_unit,num_value) VALUES (  @Code_DED6900 , @ICON_srednica_tarczy , @mm , 110 );\r\n",
                "INSERT INTO [dbo].params (id_code,id_icon,id_unit,num_value) VALUES (  @Code_DED6900 , @ICON_srednica_otworu , @mm , 22.2 );\r\n",
                "\r\n",
                "DECLARE @Param_Rekomendowany_aku BIGINT\r\n",
                "INSERT INTO [dbo].params (id_code,id_icon,id_unit,num_value) VALUES (  @Code_DED6900 , @ICON_rekomendowany_akumulator , @UNIT_TEXT , NULL );  SET @Param_Rekomendowany_aku = SCOPE_IDENTITY();\r\n",
                "\r\n",
                "INSERT INTO [dbo].params_name VALUES ( @Param_Rekomendowany_aku , 1 , 'DED7034, DED7035, DED6936, DED6937')\r\n",
                "go\r\n",
                "\r\n",
                "\r\n",
                " \r\n",
                "\r\n",
                "\r\n",
                ""
            ],
            "metadata": {
                "azdata_cell_guid": "b8e33ad5-70ac-4a30-8c04-fe8967f71d95"
            },
            "outputs": [
                {
                    "output_type": "display_data",
                    "data": {
                        "text/html": "(1 row affected)"
                    },
                    "metadata": {}
                },
                {
                    "output_type": "display_data",
                    "data": {
                        "text/html": "(1 row affected)"
                    },
                    "metadata": {}
                },
                {
                    "output_type": "display_data",
                    "data": {
                        "text/html": "(1 row affected)"
                    },
                    "metadata": {}
                },
                {
                    "output_type": "display_data",
                    "data": {
                        "text/html": "(1 row affected)"
                    },
                    "metadata": {}
                },
                {
                    "output_type": "display_data",
                    "data": {
                        "text/html": "(1 row affected)"
                    },
                    "metadata": {}
                },
                {
                    "output_type": "display_data",
                    "data": {
                        "text/html": "(1 row affected)"
                    },
                    "metadata": {}
                },
                {
                    "output_type": "display_data",
                    "data": {
                        "text/html": "(1 row affected)"
                    },
                    "metadata": {}
                },
                {
                    "output_type": "display_data",
                    "data": {
                        "text/html": "(1 row affected)"
                    },
                    "metadata": {}
                },
                {
                    "output_type": "display_data",
                    "data": {
                        "text/html": "(1 row affected)"
                    },
                    "metadata": {}
                },
                {
                    "output_type": "display_data",
                    "data": {
                        "text/html": "(1 row affected)"
                    },
                    "metadata": {}
                },
                {
                    "output_type": "display_data",
                    "data": {
                        "text/html": "(1 row affected)"
                    },
                    "metadata": {}
                },
                {
                    "output_type": "display_data",
                    "data": {
                        "text/html": "(1 row affected)"
                    },
                    "metadata": {}
                },
                {
                    "output_type": "display_data",
                    "data": {
                        "text/html": "(1 row affected)"
                    },
                    "metadata": {}
                },
                {
                    "output_type": "display_data",
                    "data": {
                        "text/html": "(1 row affected)"
                    },
                    "metadata": {}
                },
                {
                    "output_type": "display_data",
                    "data": {
                        "text/html": "(1 row affected)"
                    },
                    "metadata": {}
                },
                {
                    "output_type": "display_data",
                    "data": {
                        "text/html": "(1 row affected)"
                    },
                    "metadata": {}
                },
                {
                    "output_type": "display_data",
                    "data": {
                        "text/html": "(1 row affected)"
                    },
                    "metadata": {}
                },
                {
                    "output_type": "display_data",
                    "data": {
                        "text/html": "(1 row affected)"
                    },
                    "metadata": {}
                },
                {
                    "output_type": "display_data",
                    "data": {
                        "text/html": "(1 row affected)"
                    },
                    "metadata": {}
                },
                {
                    "output_type": "display_data",
                    "data": {
                        "text/html": "(1 row affected)"
                    },
                    "metadata": {}
                },
                {
                    "output_type": "display_data",
                    "data": {
                        "text/html": "(1 row affected)"
                    },
                    "metadata": {}
                },
                {
                    "output_type": "display_data",
                    "data": {
                        "text/html": "(1 row affected)"
                    },
                    "metadata": {}
                },
                {
                    "output_type": "display_data",
                    "data": {
                        "text/html": "(1 row affected)"
                    },
                    "metadata": {}
                },
                {
                    "output_type": "display_data",
                    "data": {
                        "text/html": "(1 row affected)"
                    },
                    "metadata": {}
                },
                {
                    "output_type": "display_data",
                    "data": {
                        "text/html": "(1 row affected)"
                    },
                    "metadata": {}
                },
                {
                    "output_type": "display_data",
                    "data": {
                        "text/html": "(1 row affected)"
                    },
                    "metadata": {}
                },
                {
                    "output_type": "display_data",
                    "data": {
                        "text/html": "(1 row affected)"
                    },
                    "metadata": {}
                },
                {
                    "output_type": "display_data",
                    "data": {
                        "text/html": "(1 row affected)"
                    },
                    "metadata": {}
                },
                {
                    "output_type": "display_data",
                    "data": {
                        "text/html": "(1 row affected)"
                    },
                    "metadata": {}
                },
                {
                    "output_type": "display_data",
                    "data": {
                        "text/html": "(1 row affected)"
                    },
                    "metadata": {}
                },
                {
                    "output_type": "display_data",
                    "data": {
                        "text/html": "(1 row affected)"
                    },
                    "metadata": {}
                },
                {
                    "output_type": "display_data",
                    "data": {
                        "text/html": "(1 row affected)"
                    },
                    "metadata": {}
                },
                {
                    "output_type": "display_data",
                    "data": {
                        "text/html": "(1 row affected)"
                    },
                    "metadata": {}
                },
                {
                    "output_type": "display_data",
                    "data": {
                        "text/html": "(1 row affected)"
                    },
                    "metadata": {}
                },
                {
                    "output_type": "display_data",
                    "data": {
                        "text/html": "(1 row affected)"
                    },
                    "metadata": {}
                },
                {
                    "output_type": "display_data",
                    "data": {
                        "text/html": "(1 row affected)"
                    },
                    "metadata": {}
                },
                {
                    "output_type": "display_data",
                    "data": {
                        "text/html": "(1 row affected)"
                    },
                    "metadata": {}
                },
                {
                    "output_type": "display_data",
                    "data": {
                        "text/html": "(1 row affected)"
                    },
                    "metadata": {}
                },
                {
                    "output_type": "display_data",
                    "data": {
                        "text/html": "(1 row affected)"
                    },
                    "metadata": {}
                },
                {
                    "output_type": "display_data",
                    "data": {
                        "text/html": "(1 row affected)"
                    },
                    "metadata": {}
                },
                {
                    "output_type": "display_data",
                    "data": {
                        "text/html": "(1 row affected)"
                    },
                    "metadata": {}
                },
                {
                    "output_type": "display_data",
                    "data": {
                        "text/html": "(1 row affected)"
                    },
                    "metadata": {}
                },
                {
                    "output_type": "display_data",
                    "data": {
                        "text/html": "(1 row affected)"
                    },
                    "metadata": {}
                },
                {
                    "output_type": "display_data",
                    "data": {
                        "text/html": "(1 row affected)"
                    },
                    "metadata": {}
                },
                {
                    "output_type": "display_data",
                    "data": {
                        "text/html": "(1 row affected)"
                    },
                    "metadata": {}
                },
                {
                    "output_type": "display_data",
                    "data": {
                        "text/html": "(1 row affected)"
                    },
                    "metadata": {}
                },
                {
                    "output_type": "display_data",
                    "data": {
                        "text/html": "(1 row affected)"
                    },
                    "metadata": {}
                },
                {
                    "output_type": "display_data",
                    "data": {
                        "text/html": "Total execution time: 00:00:00.296"
                    },
                    "metadata": {}
                }
            ],
            "execution_count": 85
        },
        {
            "cell_type": "code",
            "source": [
                "\r\n",
                "\r\n",
                "\r\n",
                "SELECT C.code_String , P.num_value AS num_val , PN.name AS PN_name, I.sys_name, I.layout_target, I.id_measure , ' Unit -> ', U.sys_name AS U_name , U.suffix , U.separator AS separator , INa.* , D.sys_name , DN.lang_name\r\n",
                "         FROM code AS C \r\n",
                "    FULL JOIN params AS P ON ( C.code_id = P.id_code )\r\n",
                "    FULL JOIN params_name AS PN ON ( P.id = PN.id_params AND PN.id_lang = 1 )\r\n",
                "    FULL JOIN icon AS I ON ( P.id_icon = I.id )\r\n",
                "    FULL JOIN icon_name AS INa ON ( I.id = INa.id_icon AND INa.id_lang = 1 )\r\n",
                "    FULL JOIN unit AS U ON ( P.id_unit = U.id )\r\n",
                "    FULL JOIN dictionary AS D ON ( D.id = P.num_value)\r\n",
                "    FULL JOIN dictionary_name AS DN ON ( DN.id_dictionary = P.num_value AND DN.id_lang = 1 )\r\n",
                "    \r\n",
                "\r\n",
                "\r\n",
                "WHERE code_String='DED6900';"
            ],
            "metadata": {
                "azdata_cell_guid": "992cb9b1-cc2f-4555-af27-816d5a08fc4b",
                "tags": []
            },
            "outputs": [
                {
                    "output_type": "display_data",
                    "data": {
                        "text/html": "(4 rows affected)"
                    },
                    "metadata": {}
                },
                {
                    "output_type": "display_data",
                    "data": {
                        "text/html": "Total execution time: 00:00:00.003"
                    },
                    "metadata": {}
                },
                {
                    "output_type": "execute_result",
                    "metadata": {},
                    "execution_count": 95,
                    "data": {
                        "application/vnd.dataresource+json": {
                            "schema": {
                                "fields": [
                                    {
                                        "name": "code_String"
                                    },
                                    {
                                        "name": "num_val"
                                    },
                                    {
                                        "name": "PN_name"
                                    },
                                    {
                                        "name": "sys_name"
                                    },
                                    {
                                        "name": "layout_target"
                                    },
                                    {
                                        "name": "id_measure"
                                    },
                                    {
                                        "name": "(No column name)"
                                    },
                                    {
                                        "name": "U_name"
                                    },
                                    {
                                        "name": "suffix"
                                    },
                                    {
                                        "name": "separator"
                                    },
                                    {
                                        "name": "id_icon"
                                    },
                                    {
                                        "name": "id_lang"
                                    },
                                    {
                                        "name": "layout_name"
                                    },
                                    {
                                        "name": "sys_name"
                                    },
                                    {
                                        "name": "lang_name"
                                    }
                                ]
                            },
                            "data": [
                                {
                                    "0": "DED6900",
                                    "1": "1.0000000000000000",
                                    "2": "NULL",
                                    "3": "chlodzenie woda",
                                    "4": "10",
                                    "5": "3",
                                    "6": " Unit -> ",
                                    "7": "kilometr",
                                    "8": "km",
                                    "9": "NULL",
                                    "10": "3",
                                    "11": "1",
                                    "12": "chlodzenie woda:tak (czy chlodzenie: woda) ?",
                                    "13": "TAK",
                                    "14": "tak"
                                },
                                {
                                    "0": "DED6900",
                                    "1": "110.0000000000000000",
                                    "2": "NULL",
                                    "3": "srednica tarczy",
                                    "4": "10",
                                    "5": "5",
                                    "6": " Unit -> ",
                                    "7": "milimetr",
                                    "8": "mm",
                                    "9": "NULL",
                                    "10": "1",
                                    "11": "1",
                                    "12": "srednica tarczy",
                                    "13": "NULL",
                                    "14": "NULL"
                                },
                                {
                                    "0": "DED6900",
                                    "1": "22.2000000000000000",
                                    "2": "NULL",
                                    "3": "srednica otworu",
                                    "4": "10",
                                    "5": "5",
                                    "6": " Unit -> ",
                                    "7": "milimetr",
                                    "8": "mm",
                                    "9": "NULL",
                                    "10": "2",
                                    "11": "1",
                                    "12": "srednica otworu",
                                    "13": "NULL",
                                    "14": "NULL"
                                },
                                {
                                    "0": "DED6900",
                                    "1": "NULL",
                                    "2": "DED7034, DED7035, DED6936, DED6937",
                                    "3": "rekomendowany_akumulator",
                                    "4": "10",
                                    "5": "2",
                                    "6": " Unit -> ",
                                    "7": "[TEXT]",
                                    "8": "",
                                    "9": "NULL",
                                    "10": "4",
                                    "11": "1",
                                    "12": "rekomendowany akumulator",
                                    "13": "NULL",
                                    "14": "NULL"
                                }
                            ]
                        },
                        "text/html": [
                            "<table>",
                            "<tr><th>code_String</th><th>num_val</th><th>PN_name</th><th>sys_name</th><th>layout_target</th><th>id_measure</th><th>(No column name)</th><th>U_name</th><th>suffix</th><th>separator</th><th>id_icon</th><th>id_lang</th><th>layout_name</th><th>sys_name</th><th>lang_name</th></tr>",
                            "<tr><td>DED6900</td><td>1.0000000000000000</td><td>NULL</td><td>chlodzenie woda</td><td>10</td><td>3</td><td> Unit -&gt; </td><td>kilometr</td><td>km</td><td>NULL</td><td>3</td><td>1</td><td>chlodzenie woda:tak (czy chlodzenie: woda) ?</td><td>TAK</td><td>tak</td></tr>",
                            "<tr><td>DED6900</td><td>110.0000000000000000</td><td>NULL</td><td>srednica tarczy</td><td>10</td><td>5</td><td> Unit -&gt; </td><td>milimetr</td><td>mm</td><td>NULL</td><td>1</td><td>1</td><td>srednica tarczy</td><td>NULL</td><td>NULL</td></tr>",
                            "<tr><td>DED6900</td><td>22.2000000000000000</td><td>NULL</td><td>srednica otworu</td><td>10</td><td>5</td><td> Unit -&gt; </td><td>milimetr</td><td>mm</td><td>NULL</td><td>2</td><td>1</td><td>srednica otworu</td><td>NULL</td><td>NULL</td></tr>",
                            "<tr><td>DED6900</td><td>NULL</td><td>DED7034, DED7035, DED6936, DED6937</td><td>rekomendowany_akumulator</td><td>10</td><td>2</td><td> Unit -&gt; </td><td>[TEXT]</td><td></td><td>NULL</td><td>4</td><td>1</td><td>rekomendowany akumulator</td><td>NULL</td><td>NULL</td></tr>",
                            "</table>"
                        ]
                    }
                }
            ],
            "execution_count": 95
        }
    ]
}